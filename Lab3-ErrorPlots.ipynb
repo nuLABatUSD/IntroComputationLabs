{
 "cells": [
  {
   "cell_type": "markdown",
   "id": "d3371cbf-04a1-42aa-bf64-250306f96724",
   "metadata": {},
   "source": [
    "# Fitting Data\n",
    "\n",
    "We always start by importing our essential Python modules"
   ]
  },
  {
   "cell_type": "code",
   "execution_count": null,
   "id": "5c5301e4-7513-49f0-bb6a-1a4be79206c3",
   "metadata": {},
   "outputs": [],
   "source": [
    "import numpy as np\n",
    "import matplotlib.pyplot as plt"
   ]
  },
  {
   "cell_type": "markdown",
   "id": "56b985ff-9c07-484b-ac02-411bb62a0e0f",
   "metadata": {},
   "source": [
    "Data with error bars can be combined with a physical model to infer physical information from the data. $\\chi^2$ fitting is a statistical method of \"inference\" that can both determine model parameters as well as error bars. The crux of the method is as follows:  when creating a best-fit curve, data points with small error bars are well known, so the best-fit curve should be closest to those, and data points with larger error bars are less-well-known, so the best-fit curve can be further away from these.\n",
    "\n",
    "To do so, we create a statistic called $\\chi^2$:\n",
    "$$\\chi^2 = \\sum_i \\frac{(y_i - f (x_i))^2}{\\sigma_i^2}$$\n",
    "In this formula, we assume our data gives us three lists of numbers:\n",
    "- The $x_i$ are the ``independent_variables[i]``.\n",
    "- The $y_i$ are the ``data[i]``.\n",
    "- The $\\sigma_i$ are the ``uncertainties[i]``.\n",
    "\n",
    "$f (x_i)$ is a model that we're trying to find the best fit values for.\n",
    "\n",
    "The summation means to calculate the fraction for each individual ``i``, and add up the contribution.  We note that if the data are very close to the model, $\\chi^2$ is small, otherwise it can be big.  \n",
    "\n",
    "**First,** let's load some data and make a graph.  Download ``Lab3Data.csv``, then use ``np.loadtxt(...)`` to create three arrays, ``independent_variables``, ``data``, and ``uncertainties`` which correspond to the 0, 1, and 2 columns of the file.\n",
    "\n",
    "**Next,** we look to make a plot. To do so, we will use\n",
    "\n",
    "``plt.errorbar(independent_variables, data, yerr = uncertainties, fmt='o')``\n",
    "\n",
    "in the place of our usual ``plt.plot(...)``.\n",
    "- The first input is the array of x-axis values\n",
    "- The second input is the array of y-axis values\n",
    "- The ``yerr = `` uses the array of uncertainties in the y-axis values\n",
    "- The ``fmt = 'o'`` will put a dot at every data point (and crucially, will prevent it from connecting them with lines"
   ]
  },
  {
   "cell_type": "code",
   "execution_count": null,
   "id": "0ea5c5ff-0d7d-411e-90b2-7ccf4d7f8669",
   "metadata": {},
   "outputs": [],
   "source": []
  },
  {
   "cell_type": "markdown",
   "id": "461301a8-0d57-4caa-8ac6-c4249d66182f",
   "metadata": {},
   "source": [
    "The data look like a line can be drawn through these data points and their error bars, so let's choose our model to be $f (x) = m x$.  The slope, $m$, is something that we want to find the slope that best fits the data.\n",
    "\n",
    "Since we want to find the best value of $m$, we should create a function, call it:  ``def chi_squared(m):``\n",
    "In this function, you should use the arrays: ``indpendent_variables``, ``data``, and ``uncertainties`` as $x_i$, $y_i$, $\\sigma_i$, respectively, to calculate:\n",
    "$$\\chi^2 (m) = \\sum_i \\frac{(y_i - m x_i)^2}{\\sigma_i^2}$$\n",
    "Write a function, ``chi_squared(m)`` to calculate $\\chi^2 (m)$."
   ]
  },
  {
   "cell_type": "code",
   "execution_count": null,
   "id": "0a11b646-db45-468d-9bf3-2d8acfd97419",
   "metadata": {},
   "outputs": [],
   "source": []
  },
  {
   "cell_type": "markdown",
   "id": "4c20b6b6-854b-4086-93a6-07925b6da2c2",
   "metadata": {},
   "source": [
    "Test your result by noting that when $m = 5$, that $\\chi^2 (m = 5) = 7.12$."
   ]
  },
  {
   "cell_type": "code",
   "execution_count": null,
   "id": "b806bbc4-af91-439f-973c-5e7e124a00ce",
   "metadata": {},
   "outputs": [],
   "source": []
  },
  {
   "cell_type": "markdown",
   "id": "9c1ecab8-b0f9-4b0c-8094-f635d308817a",
   "metadata": {},
   "source": [
    "Try a few different values of $m$. The point of the $\\chi^2$ statistic is that it is minimized at the value of $m$ that best fits the data."
   ]
  },
  {
   "cell_type": "code",
   "execution_count": null,
   "id": "7b47a579-21b6-454b-a1d2-1d83d15a3b7e",
   "metadata": {},
   "outputs": [],
   "source": []
  },
  {
   "cell_type": "markdown",
   "id": "11b11a73-d62c-4e77-a3f3-94335ab5c3cd",
   "metadata": {},
   "source": [
    "To find this minimum we can make a plot.  Your plot should be $\\chi^2 (m)$ as a function of m.\n",
    "- Create an array of $m$ values between 3 and 7, **linearly spaced** with 100 points.\n",
    "- Create a plot of $\\chi^2$ vs. $m$.  Make sure that your axes are labeled."
   ]
  },
  {
   "cell_type": "code",
   "execution_count": null,
   "id": "3bb88875-3848-4c56-831a-997ed8b539aa",
   "metadata": {},
   "outputs": [],
   "source": []
  },
  {
   "cell_type": "markdown",
   "id": "b82ba10e-fdbe-4f74-9062-cc35c40c4ad1",
   "metadata": {},
   "source": [
    "Now we can more precisely find the minimum.  If we called our array of $m$ ``m_values`` and our array of $\\chi^2$ ``chi_values``, then:\n",
    "- ``np.min(chi_values)`` will give you the minimum $\\chi^2$ value, but it won't tell you what $m$ value makes it.\n",
    "- ``np.argmin(chi_values)`` will tell you the index value that has the minimum.  It tells you which number has the minimum $\\chi^2$.\n",
    "- ``m_values[np.argmin(chi_values)]`` will then tell you the value of $m$ that minimizes $\\chi^2$.  This is the best-fit slope.\n",
    "\n",
    "Use the names of the arrays you used in creating your plots to determine the minimum $\\chi^2$ value and the value of $m$ that makes it."
   ]
  },
  {
   "cell_type": "code",
   "execution_count": null,
   "id": "49357fd0-ffe2-4411-a9ac-de06cac9942d",
   "metadata": {},
   "outputs": [],
   "source": []
  },
  {
   "cell_type": "markdown",
   "id": "b6016a58-88cc-4c3f-95c7-db24d5db4873",
   "metadata": {},
   "source": [
    "You should've found that the minimum $\\chi^2$ is 6.55 and this corresponds to $m = 5.26$.  This is the best fit slope.  However, as scientists we also want uncertainty on this slope.  The statistics related to $\\chi^2$ tell us that the error bars should extend between the $m$ values that have $\\chi^2 = 7.55$ (this is one plus the minimum $\\chi^2$ value).  So, we need to find which $m$ values correspond to this new value.  We can do this with ``np.where()``.  \n",
    "- First, use ``np.where(chi_values < 7.55)``.  This will tell you all the indices that have $\\chi^2 < 7.55$.\n",
    "\n",
    "Use the space below to look at the result from ``np.where``."
   ]
  },
  {
   "cell_type": "code",
   "execution_count": null,
   "id": "c33283a1-42d8-4061-b943-fc17880b9a28",
   "metadata": {},
   "outputs": [],
   "source": []
  },
  {
   "cell_type": "markdown",
   "id": "d69ecb3a-5a5c-44c3-82a2-3818e4955a92",
   "metadata": {},
   "source": [
    "These are the indexes that have $\\chi^2 < 7.55$. That's not very useful, however, if we use the results of ``np.where``, we can see the values of $m$ that correspond to $\\chi^2 < 7.55$: ``m_values[np.where(chi_values < 7.55)]``. Use the space below to see what this tells us"
   ]
  },
  {
   "cell_type": "code",
   "execution_count": null,
   "id": "76d0023f-119a-4e4a-aa99-4577f76782b8",
   "metadata": {},
   "outputs": [],
   "source": []
  },
  {
   "cell_type": "markdown",
   "id": "234e1e96-3d7d-40af-bdd3-29147acb5b71",
   "metadata": {},
   "source": [
    "This creates a new array of numbers. This is an array of $m$ values from a lower bound, to an upper bound, and you'll notice that the best fit value--the value of $m$ that minimizes $\\chi^2$--is in the middle of the array. If we make a temporary array, we can print out different elements here (replace the ``***`` to use your arrays)"
   ]
  },
  {
   "cell_type": "code",
   "execution_count": null,
   "id": "8ac20d16-ac91-4503-848b-6f9e8fb09cff",
   "metadata": {},
   "outputs": [],
   "source": [
    "temp_array = ***[np.where(***)]\n",
    "print(temp_array[0], temp_array[-1])"
   ]
  },
  {
   "cell_type": "markdown",
   "id": "769f844b-9f0e-4365-9328-61dfefd3693a",
   "metadata": {},
   "source": [
    "What does ``temp_array[-1]`` do? Which element of the array is the ``[-1]`` element?\n",
    "\n",
    "The uncertainty is equal to half the spread of these values in $m$. Write an expression to calculate the uncertainty. You should find that the best fit value for $m$ with uncertainty is $m = 5.3 \\pm 0.3$."
   ]
  },
  {
   "cell_type": "code",
   "execution_count": null,
   "id": "1eede99b-a51c-4844-a8d5-43cb4d44f160",
   "metadata": {},
   "outputs": [],
   "source": []
  },
  {
   "cell_type": "markdown",
   "id": "99989073-bb0b-4984-b9ca-b13996382037",
   "metadata": {},
   "source": [
    "Finally, we'd like to make a plot that has our data points, with error bars, as well as three lines: for the best fit and for the two extremal values (so m = 5.3, 5.0, 5.6). We know how to make the plot with error bars, but now we need to include three more lines.\n",
    "- First, we want a linearly spaced array of numbers to deal with the x-axis. We should have these values extend from the ``np.min(independent_variables)`` to the maximum value of ``independent_variables``, and take a number of points in between.\n",
    "- Next, we want to plot the function $y = m x$ using each of the three $m$ values. To do this, first create a function that has two inputs ``(x, m)`` and has one output, which is $m x$.\n",
    "- Now you can use your function to create three separate arrays (one for each graph) which will plot the three values.\n",
    "- For the $m = 5.3$ curve, use a solid ``linestyle``. For the other two curves, pick a ``linestyle`` for your plot."
   ]
  },
  {
   "cell_type": "code",
   "execution_count": null,
   "id": "a42bce16-87d5-4163-9509-df617ed0e0a4",
   "metadata": {},
   "outputs": [],
   "source": []
  },
  {
   "cell_type": "markdown",
   "id": "6d32a6b1-cb28-49e4-9524-0588fe44d81b",
   "metadata": {},
   "source": [
    "<b> Exercise:  Multiple Slit Diffraction </b>.  Say we have an experiment where we measure the location of points of constructive interference on a screen and wish to find the wavelength of light that was used.  This is a problem in inference:  given the data and other measured values, we infer the value of the wavelength (and an associated uncertainty).  \n",
    "\n",
    "The model:\n",
    "\n",
    "Our model for the location of the constructive interferences are given by:\n",
    "\n",
    "$$ d \\sin \\theta = n \\lambda$$\n",
    "\n",
    "$$ y = L \\tan \\theta $$\n",
    "\n",
    "The measured values from the experiment will be d = 0.125 mm and L = 280 cm.  Download and use the file ``Lab3bdata.csv``.  \n",
    "- The first column (column ``0``) is the $n$ values for 6 data points.  \n",
    "- The second (column ``1``) is the measured $y$ values, measured in mm.  \n",
    "- The third (column ``2``) is the uncertainty in the $y$ values, again measured in mm.\n",
    "\n",
    "Create an errorbar plot of $y$ vs. $n$, using the uncertainties from the data file."
   ]
  },
  {
   "cell_type": "code",
   "execution_count": null,
   "id": "5dfe1fd6-9071-48ee-96c1-5625217c550d",
   "metadata": {},
   "outputs": [],
   "source": []
  },
  {
   "cell_type": "markdown",
   "id": "b83a7322-9721-4e6c-97f0-75dc5785f93f",
   "metadata": {},
   "source": [
    "Create a function where the inputs are: n and $\\lambda$ (you should accept a value of lambda in nm and you should use the measured values of $d$ and $L$ from above) and the output is the value of y, in mm.  (Make sure you deal with all the different sets of units.) \n",
    "\n",
    "**Please note** the term ``lambda`` is reserved by Python. So you cannot call a variable ``lambda``.\n",
    "\n",
    "To do this, let's be descriptive with our inputs:\n",
    "\n",
    "``def function(n, lambda_in_nm)``\n",
    "\n",
    "This tells us that the input for $\\lambda$ is in nm (and that the first thing we should do in our function is to create a new variable name that is $\\lambda$ in meters). Also create variables and make sure to identify $d$ and $L$ in meters.\n",
    "\n",
    "(Hint: note that ``np.arcsin( )`` and ``np.tan( )`` will be useful. And really, you should look into creating an extra variable--say ``theta``--that allows you to write your math in two steps (as opposed to some awful to read ``np.tan(np.arcsin(...``"
   ]
  },
  {
   "cell_type": "code",
   "execution_count": null,
   "id": "6d170c90-2034-4c81-b6d8-6250ac3ce5a0",
   "metadata": {},
   "outputs": [],
   "source": []
  },
  {
   "cell_type": "markdown",
   "id": "f351ff0a-ebaf-444f-8f19-36fbaf84dd70",
   "metadata": {},
   "source": [
    "Test your function.  The wavelength of visible light is between 400 and 700 nm, try out a visible wavelength, and make sure the results are within the same order of magnitude as the data.  (This step is to ensure that we used the correct units.)"
   ]
  },
  {
   "cell_type": "code",
   "execution_count": null,
   "id": "e229b2fa-7ca0-4f86-9f60-54b412d50a0b",
   "metadata": {},
   "outputs": [],
   "source": []
  },
  {
   "cell_type": "markdown",
   "id": "fd9a7963-0d7b-4450-8aca-648e42486376",
   "metadata": {},
   "source": [
    "Create a function that takes the wavelength in nm as an input and creates the output $\\chi^2 (\\lambda)$:\n",
    "\n",
    "$$\\displaystyle \\chi^2 (\\lambda) = \\sum_i \\frac{ [y_i - M (n_i, \\lambda)]^2}{\\sigma_i^2} ,$$\n",
    "\n",
    "where $M (n, \\lambda)$ is the model you defined previously as a function. Let's assume that the best-fit wavelength is between 400 nm and 700 nm.\n",
    "- Create a plot of $\\chi^2 (\\lambda)$ versus $\\lambda$.  Choose a range of $\\lambda$ so it is easy to estimate the best fit wavelength from your graph.  Make sure that your plot as appropriate labels (that appropriately include units)"
   ]
  },
  {
   "cell_type": "code",
   "execution_count": null,
   "id": "64df3d54-bfd2-4248-a5af-0f7c21b78dc9",
   "metadata": {},
   "outputs": [],
   "source": []
  },
  {
   "cell_type": "markdown",
   "id": "571885c4-559c-431d-a652-1791231acacf",
   "metadata": {},
   "source": [
    "Estimate the best fit wavelength. Then make a new plot by choosing a new range of $\\lambda$ that appears to be centered on the best fit wavelength."
   ]
  },
  {
   "cell_type": "code",
   "execution_count": null,
   "id": "bc67106d-98b4-4cad-9235-22ca596255d8",
   "metadata": {},
   "outputs": [],
   "source": []
  },
  {
   "cell_type": "markdown",
   "id": "ec0e8662-4945-4938-82ed-ea23e850f318",
   "metadata": {},
   "source": [
    "- Find the best fit value of $\\lambda$ and its uncertainty.\n",
    "- Create a ``print`` statement that has Python print out the best fit value and uncertainty (e.g., ``print(\"The best...\")``)\n"
   ]
  },
  {
   "cell_type": "code",
   "execution_count": null,
   "id": "064dd79f-a612-4ddc-98be-e96192ec418e",
   "metadata": {},
   "outputs": [],
   "source": []
  },
  {
   "cell_type": "markdown",
   "id": "a7d2dc08-20cf-4ba8-91ee-18ae71d41c76",
   "metadata": {},
   "source": [
    "With your best fit value of $\\lambda$:\n",
    "- Create an error bar plot of your data with a model curve that uses the best fit value of $\\lambda$\n",
    "- Make sure your graph has appropriate axis labels."
   ]
  },
  {
   "cell_type": "code",
   "execution_count": null,
   "id": "1b42de79-84eb-4bf8-8dab-aa7e7055733a",
   "metadata": {},
   "outputs": [],
   "source": []
  }
 ],
 "metadata": {
  "kernelspec": {
   "display_name": "Python [conda env:base] *",
   "language": "python",
   "name": "conda-base-py"
  },
  "language_info": {
   "codemirror_mode": {
    "name": "ipython",
    "version": 3
   },
   "file_extension": ".py",
   "mimetype": "text/x-python",
   "name": "python",
   "nbconvert_exporter": "python",
   "pygments_lexer": "ipython3",
   "version": "3.12.7"
  }
 },
 "nbformat": 4,
 "nbformat_minor": 5
}

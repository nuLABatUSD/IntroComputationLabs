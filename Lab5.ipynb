{
 "cells": [
  {
   "cell_type": "markdown",
   "id": "d3371cbf-04a1-42aa-bf64-250306f96724",
   "metadata": {},
   "source": [
    "# More 2D plots\n",
    "\n",
    "We always start by importing our essential Python modules"
   ]
  },
  {
   "cell_type": "code",
   "execution_count": null,
   "id": "5c5301e4-7513-49f0-bb6a-1a4be79206c3",
   "metadata": {},
   "outputs": [],
   "source": [
    "import numpy as np\n",
    "import matplotlib.pyplot as plt"
   ]
  },
  {
   "cell_type": "markdown",
   "id": "56b985ff-9c07-484b-ac02-411bb62a0e0f",
   "metadata": {},
   "source": [
    "Data with error bars can be combined with a physical model to infer physical information from the data. $\\chi^2$ fitting is a statistical method of \"inference\" that can both determine model parameters as well as error bars. The crux of the method is as follows:  when creating a best-fit curve, data points with small error bars are well known, so the best-fit curve should be closest to those, and data points with larger error bars are less-well-known, so the best-fit curve can be further away from these.\n",
    "\n",
    "To do so, we create a statistic called $\\chi^2$:\n",
    "$$\\chi^2 = \\sum_i \\frac{(y_i - f (x_i))^2}{\\sigma_i^2}$$\n",
    "In this formula, we assume our data gives us three lists of numbers:\n",
    "- The $x_i$ are the ``independent_variables[i]``.\n",
    "- The $y_i$ are the ``data[i]``.\n",
    "- The $\\sigma_i$ are the ``uncertainties[i]``.\n",
    "\n",
    "$f (x_i)$ is a model that we're trying to find the best fit values for.\n",
    "\n",
    "The summation means to calculate the fraction for each individual ``i``, and add up the contribution.  We note that if the data are very close to the model, $\\chi^2$ is small, otherwise it can be big.  \n",
    "\n",
    "Use the data in ``Lab3Data.csv`` and create an error bar plot. Label the x-axis as \"x\" and the y-axis as \"y\"."
   ]
  },
  {
   "cell_type": "code",
   "execution_count": null,
   "id": "0ea5c5ff-0d7d-411e-90b2-7ccf4d7f8669",
   "metadata": {},
   "outputs": [],
   "source": []
  },
  {
   "cell_type": "markdown",
   "id": "461301a8-0d57-4caa-8ac6-c4249d66182f",
   "metadata": {},
   "source": [
    "In Lab 3, we used a single-parameter model for the data, $f(x) = m x$. Copy the relevant work from Lab 3 here to produce the plot of $\\chi^2$ vs. $m$."
   ]
  },
  {
   "cell_type": "code",
   "execution_count": null,
   "id": "0a11b646-db45-468d-9bf3-2d8acfd97419",
   "metadata": {},
   "outputs": [],
   "source": []
  },
  {
   "cell_type": "markdown",
   "id": "b82ba10e-fdbe-4f74-9062-cc35c40c4ad1",
   "metadata": {},
   "source": [
    "We want to be fancy and now fit a two-parameter model, $f(x) = mx + b$. To do this, now let's create a new $\\chi^2$ function that takes two inputs: ``m`` and ``b``, and uses your arrays from the data file to calculate $\\chi^2$.\n",
    "\n",
    "Test our $\\chi^2$ function. We can do this by creating the same plot as above, because if we fix $b = 0$ in the model, then we get the same results as our previous $\\chi^2$ function. Use your new function to produce the plot of $\\chi^2$ vs. $m$. Introduce a **new** array for the y-axis values in your loop to do this so you can plot **both** $\\chi^2$ values on the same plot."
   ]
  },
  {
   "cell_type": "code",
   "execution_count": null,
   "id": "49357fd0-ffe2-4411-a9ac-de06cac9942d",
   "metadata": {},
   "outputs": [],
   "source": []
  },
  {
   "cell_type": "markdown",
   "id": "b6016a58-88cc-4c3f-95c7-db24d5db4873",
   "metadata": {},
   "source": [
    "Next, we can make plots of $\\chi^2$ vs. $m$ for other values of $b$. **On the same plot**, include three graphs of $\\chi^2$ vs. $m$ for $b = -0.1, 0, 0.1$. Use different line styles and a legend (see Lab 2) to distinguish between the curves. Notice that for each $b$ value, there is a different \"best fit\" $m$ value. Which $b$ value has the best fit?"
   ]
  },
  {
   "cell_type": "code",
   "execution_count": null,
   "id": "c33283a1-42d8-4061-b943-fc17880b9a28",
   "metadata": {},
   "outputs": [],
   "source": []
  },
  {
   "cell_type": "markdown",
   "id": "d69ecb3a-5a5c-44c3-82a2-3818e4955a92",
   "metadata": {},
   "source": [
    "The best way to characterize these two possible fitting parameters is with a contour plot (Lab 4). Create a contour plot with:\n",
    "- $m$ values on the x-axis between 4 and 7 with 100 linearly spaced points\n",
    "- $b$ values on the y-axis between $-0.5$ and 0.5 with 200 linearly spaced points.\n",
    "- $\\chi^2$ plotted in contours."
   ]
  },
  {
   "cell_type": "code",
   "execution_count": null,
   "id": "76d0023f-119a-4e4a-aa99-4577f76782b8",
   "metadata": {},
   "outputs": [],
   "source": []
  },
  {
   "cell_type": "markdown",
   "id": "234e1e96-3d7d-40af-bdd3-29147acb5b71",
   "metadata": {},
   "source": [
    "We want to identify the best fit value of $(m, b)$ as well as a notion of uncertainty. To do this, we use statistics to note that \n",
    "- The best fit value of $(m, b)$ is the value of $(m, b)$ that minimizes $\\chi^2$.\n",
    "- Our uncertainty (\"68% confidence interval\") is a contour that has a ``level`` that has a $\\chi^2$ value that is 2.3 larger than the minimum $\\chi^2$ value.\n",
    "- A greater uncertainty level (\"95% confidence interval\") is a contour that has a ``level`` that has a $\\chi^2$ value that is 6.17 larger than the minimum $\\chi^2$ value.\n",
    "- Create a contour plot that has contours at the 68% and 95% confidence intervals in $(m, b)$, and has a star (or your favorite ``marker``) at the best fit value of $(m, b)$, and appropriately labels the x and y axes (as $m$ and $b$, respectively)."
   ]
  },
  {
   "cell_type": "code",
   "execution_count": null,
   "id": "8ac20d16-ac91-4503-848b-6f9e8fb09cff",
   "metadata": {},
   "outputs": [],
   "source": []
  },
  {
   "cell_type": "markdown",
   "id": "769f844b-9f0e-4365-9328-61dfefd3693a",
   "metadata": {},
   "source": [
    "Finally, create a plot that has the following:\n",
    "- An error bar plot with the data from the data file.\n",
    "- A model curve that uses the best-fit values of $m$ and $b$."
   ]
  },
  {
   "cell_type": "code",
   "execution_count": null,
   "id": "1eede99b-a51c-4844-a8d5-43cb4d44f160",
   "metadata": {},
   "outputs": [],
   "source": []
  },
  {
   "cell_type": "markdown",
   "id": "99989073-bb0b-4984-b9ca-b13996382037",
   "metadata": {},
   "source": [
    "When you are happy with your results, include all the code needed to create the $\\chi^2$ contour plot and the error bar plot with best-fit model curve onto your submission notebook and make sure it works."
   ]
  },
  {
   "cell_type": "code",
   "execution_count": null,
   "id": "a42bce16-87d5-4163-9509-df617ed0e0a4",
   "metadata": {},
   "outputs": [],
   "source": []
  },
  {
   "cell_type": "markdown",
   "id": "6d32a6b1-cb28-49e4-9524-0588fe44d81b",
   "metadata": {},
   "source": [
    "<b>Example:  Double Slit Interference Pattern</b>.  \n",
    "\n",
    "Let's observe the interference pattern of a double slit at any y and at any L (while keeping d and wavelength fixed).  We need functions to deal with the double slit intensity pattern.  To do this, make sure you download the file ``interference.py`` and put it in the same folder as this notebook.  \n",
    "\n",
    "First, we want to ``import`` the functions in this file with an import statement.  When we use the statement ``import numpy as np``, we import all the functions in ``numpy`` and we use those functions with the abbreviation ``np`` (e.g., ``np.linspace( )``).  So, use ``import interference as write_your_abbreviation_here``.  Ok, you should choose something shorter than that.  Don't use anything that Python likes to use (e.g., ``int`` and ``in`` means something, so don't use that)."
   ]
  },
  {
   "cell_type": "code",
   "execution_count": null,
   "id": "5dfe1fd6-9071-48ee-96c1-5625217c550d",
   "metadata": {},
   "outputs": [],
   "source": []
  },
  {
   "cell_type": "markdown",
   "id": "b83a7322-9721-4e6c-97f0-75dc5785f93f",
   "metadata": {},
   "source": [
    "Say you said ``import interference as ChadsInterference``, then we can use the function ``ChadsInterference.DoubleSlitIntensity(y,d,L,lam)`` to get the intensity at location ``y`` mm, with slit spacing ``d`` mm, on the screen distance ``L`` m away, with wavelength ``lam`` nm.  Let's fix d = 0.05 mm and $\\lambda$ = 400 nm, so we would use ``ChadsInterference.DoubleSlitIntensity(y, 0.05, L, 400)`` (remember, you're replacing ``ChadsInterference`` with whatever abbreviation you used alongside ``import interference``.\n",
    "\n",
    "Now, let's make our plot:\n",
    "- Create two arrays:  y values (in mm), with 200 points linearly spaced between -50 and 50 mm; and L values (in m) with 100 points linearly spaced between 0 and 2 m.\n",
    "- Create a matrix of zeros such that the number of rows match with the length of y, and the number of columns match with the length of L (use len, and also remember that the ${\\tt np.zeros}$ command requires two sets of parentheses).\n",
    "- Use a nested for loop to assign the individual elements of your matrix using your intensity function.  To do this, you're going to have to use as inputs to your intensity function the ``y[i]`` from the appropriate row and the ``L[j]`` from the appropriate column.  (e.g., ``ChadsInterference.DoubleSlitIntensity(y[i],0.05,L[j],400)``)\n",
    "- Use ``imshow`` to create a heat map.  Here, you should use ``extent=[0,2,-50,50]``, also introduce ``aspect=0.02`` to stretch out the horizontal scale, so: ``plt.imshow(YourMatrixName,extent=[0,2,-50,50],aspect=0.02)``, where ``YourMatrixName`` is the name of the matrix you created."
   ]
  },
  {
   "cell_type": "code",
   "execution_count": null,
   "id": "6d170c90-2034-4c81-b6d8-6250ac3ce5a0",
   "metadata": {},
   "outputs": [],
   "source": []
  },
  {
   "cell_type": "markdown",
   "id": "9adacafa-3301-4c01-bd91-d5330437b557",
   "metadata": {},
   "source": [
    "When you're happpy with your result, copy and paste the code needed into your submission notebook and make sure it works."
   ]
  },
  {
   "cell_type": "markdown",
   "id": "f351ff0a-ebaf-444f-8f19-36fbaf84dd70",
   "metadata": {},
   "source": [
    "**Interference pattern from holes in 2-dimensions**.  Rather than interference from slits, we will look at the interference pattern from tiny holes arranged in a circular pattern.\n",
    "\n",
    "The file ``interference.py`` includes a function, ``NIntensity2D()`` whose inputs are: ``x_in_mm``, ``y_in_mm``, and ``N`` (the number of tiny holes).  \n",
    "\n",
    "Now, let's create a heat map of the intensity.  **Create a function** whose input is ``N``, and uses that value of ``N`` to create the intensity pattern from N-holes.  To do this, you should:\n",
    "- Create two linearly spaced arrays to represent the x- and y-axes, each array should span from -50 to 50 mm, with 100 points each.\n",
    "- Use the nested ``for`` loops to fill in all the terms of the matrix.  Note that the first two inputs of the ``NIntensity2D`` function that you import from ``interference`` are in mm, so there is no need for any unit conversions.\n",
    "    - In your nested loops, you should be very careful to use the appropriate indexes for x and y.  As a reminder, we associate the first index (rows) with y, and the second index (columns) with x.\n",
    "- Create a heat map.  Note that you'll want to use the appropriate values for the ``extent`` input to ``imshow``, but also you can either not include ``aspect`` or try ``aspect=1``.\n",
    "\n",
    "**Test your function for N = 4.**"
   ]
  },
  {
   "cell_type": "code",
   "execution_count": null,
   "id": "e229b2fa-7ca0-4f86-9f60-54b412d50a0b",
   "metadata": {},
   "outputs": [],
   "source": []
  },
  {
   "cell_type": "markdown",
   "id": "fd9a7963-0d7b-4450-8aca-648e42486376",
   "metadata": {},
   "source": [
    "It'll be more computationally intensive for your computer to calculate the result from more holes, but increase the number of holes until you see interesting patterns."
   ]
  },
  {
   "cell_type": "code",
   "execution_count": null,
   "id": "64df3d54-bfd2-4248-a5af-0f7c21b78dc9",
   "metadata": {},
   "outputs": [],
   "source": []
  },
  {
   "cell_type": "markdown",
   "id": "571885c4-559c-431d-a652-1791231acacf",
   "metadata": {},
   "source": [
    "Copy and paste your code into the submission notebook so that you plot both N = 4 and an interesting value of N."
   ]
  }
 ],
 "metadata": {
  "kernelspec": {
   "display_name": "Python [conda env:base] *",
   "language": "python",
   "name": "conda-base-py"
  },
  "language_info": {
   "codemirror_mode": {
    "name": "ipython",
    "version": 3
   },
   "file_extension": ".py",
   "mimetype": "text/x-python",
   "name": "python",
   "nbconvert_exporter": "python",
   "pygments_lexer": "ipython3",
   "version": "3.12.7"
  }
 },
 "nbformat": 4,
 "nbformat_minor": 5
}

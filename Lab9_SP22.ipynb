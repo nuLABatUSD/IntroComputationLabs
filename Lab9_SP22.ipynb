{
 "cells": [
  {
   "cell_type": "markdown",
   "metadata": {},
   "source": [
    "# First, rename your lab so that it includes your name"
   ]
  },
  {
   "cell_type": "code",
   "execution_count": 1,
   "metadata": {},
   "outputs": [],
   "source": [
    "%matplotlib inline\n",
    "import numpy as np\n",
    "import matplotlib.pyplot as plt\n",
    "import ipywidgets as widgets"
   ]
  },
  {
   "cell_type": "markdown",
   "metadata": {},
   "source": [
    "In the previous lab, we used the \"Euler method\" to solve a set of first order differential equations:\n",
    "$$\\displaystyle \\frac{dx}{dt} = v_x \\qquad \\qquad \\frac{d v_x}{dt} = a_x$$\n",
    "\n",
    "$$\\displaystyle \\frac{dy}{dt} = v_y \\qquad \\qquad \\frac{d v_y}{dt} = a_y$$\n",
    "\n",
    "We can numerically solve this problem by introducing a time step $\\Delta t$, and thus:\n",
    "\n",
    "$$\\displaystyle x_f = x + v_x \\Delta t \\qquad \\qquad v_{xf} = v_x + a_x \\Delta t$$\n",
    "\n",
    "$$\\displaystyle y_f = y + v_y \\Delta t \\qquad \\qquad v_{yf} = v_y + a_y \\Delta t$$\n",
    "\n",
    "To solve the projectile motion problem ($a_x = 0, a_y = -g$), we created a function ``time_step`` that used its arguments of the previous time information (x, y, vx, vy) and $\\Delta t$ as inputs, and returned the next time step information,"
   ]
  },
  {
   "cell_type": "code",
   "execution_count": 2,
   "metadata": {},
   "outputs": [],
   "source": [
    "def time_step(x,y,vx,vy,dt):\n",
    "    ax = 0\n",
    "    ay = - 9.8\n",
    "    xf = x + vx * dt\n",
    "    yf = y + vy * dt\n",
    "    vxf = vx + ax * dt\n",
    "    vyf = vy + ay * dt\n",
    "    \n",
    "    return xf, yf, vxf, vyf"
   ]
  },
  {
   "cell_type": "markdown",
   "metadata": {},
   "source": [
    "We were able to solve this problem using a loop:"
   ]
  },
  {
   "cell_type": "code",
   "execution_count": 3,
   "metadata": {},
   "outputs": [],
   "source": [
    "time = np.linspace(0,8,100)\n",
    "dt = time[1] - time[0]\n",
    "x_step = np.zeros(len(time))\n",
    "y_step = np.zeros(len(time))\n",
    "\n",
    "x = 0\n",
    "y = 0\n",
    "vx = 30\n",
    "vy = 40\n",
    "\n",
    "x_step[0] = x\n",
    "y_step[0] = y\n",
    "\n",
    "for i in range(1,len(time)):\n",
    "    x, y, vx, vy = time_step(x, y, vx, vy, dt)\n",
    "    x_step[i] = x\n",
    "    y_step[i] = y"
   ]
  },
  {
   "cell_type": "markdown",
   "metadata": {},
   "source": [
    "and we can plot the results:"
   ]
  },
  {
   "cell_type": "code",
   "execution_count": 4,
   "metadata": {},
   "outputs": [
    {
     "data": {
      "image/png": "[encoded data removed]",
      "text/plain": [
       "<Figure size 432x288 with 1 Axes>"
      ]
     },
     "metadata": {
      "needs_background": "light"
     },
     "output_type": "display_data"
    }
   ],
   "source": [
    "plt.figure()\n",
    "plt.plot(x_step, y_step)\n",
    "plt.show()"
   ]
  },
  {
   "cell_type": "markdown",
   "metadata": {},
   "source": [
    "However, we found that energy was not perfectly conserved, requiring more time intensive calculations."
   ]
  },
  {
   "cell_type": "code",
   "execution_count": 5,
   "metadata": {},
   "outputs": [
    {
     "data": {
      "image/png": "[encoded data removed]",
      "text/plain": [
       "<Figure size 432x288 with 1 Axes>"
      ]
     },
     "metadata": {
      "needs_background": "light"
     },
     "output_type": "display_data"
    }
   ],
   "source": [
    "def energy(x,y,vx,vy):\n",
    "    return 0.5*(vx**2 + vy**2) + 9.8 * y\n",
    "\n",
    "time = np.linspace(0,8,100)\n",
    "dt = time[1] - time[0]\n",
    "x_step = np.zeros(len(time))\n",
    "y_step = np.zeros(len(time))\n",
    "e_step = np.zeros(len(time))\n",
    "\n",
    "x = 0\n",
    "y = 0\n",
    "vx = 30\n",
    "vy = 40\n",
    "\n",
    "x_step[0] = x\n",
    "y_step[0] = y\n",
    "e_step[0] = energy(x,y,vx,vy)\n",
    "\n",
    "for i in range(1,len(time)):\n",
    "    x, y, vx, vy = time_step(x, y, vx, vy, dt)\n",
    "    x_step[i] = x\n",
    "    y_step[i] = y\n",
    "    e_step[i] = energy(x,y,vx,vy)\n",
    "\n",
    "plt.figure()\n",
    "plt.plot(time, e_step)\n",
    "plt.show()"
   ]
  },
  {
   "cell_type": "markdown",
   "metadata": {},
   "source": [
    "**Second Order Runge-Kutta Method** is a way of getting more bang for our computing buck.  Our original method just makes one calculation to take us from one time step to another.  What if we could do twice as many calculations, but get more than twice the accuracy from it?  That's the promise of Runge-Kutta methods.  A second order Runge-Kutta method (called Heun's method) is:\n",
    "\n",
    "$$ k1_x = v_x \\, \\Delta t \\qquad k1_y = v_y \\, \\Delta t$$\n",
    "$$ k1_{vx} = a_x \\, \\Delta t \\qquad k1_{vy} = a_y \\, \\Delta t$$\n",
    "\n",
    "$$ k2_x = (v_x + k1_{vx}) \\, \\Delta t \\qquad k2_y = (v_y + k1_{vy}) \\, \\Delta t$$\n",
    "$$ k2_{vx} = a_x \\, \\Delta t \\qquad k2_{vy} = a_y \\, \\Delta t$$\n",
    "\n",
    "$$ x_f = x + 0.5 (k1_x + k2_x) \\qquad y_f = y + 0.5 (k1_y + k2_y)$$\n",
    "$$ v_{xf} = v_x + 0.5 (k1_{vx} + k2_{vx}) \\qquad v_{yf} = v_y + 0.5 (k1_{vy} + k2_{vy})$$\n",
    "\n",
    "Here, we're using $a_x = 0$ and $a_y = - 9.8$.  Set up a new function, let's call it ``time_step2`` that uses a simimar structure to ``time_step``:  it takes as inputs x, y, vx, vy, $\\Delta t$, and will return the next values of x, y, vx, vy.  So, it should look similar, except for the multiple different steps in the middle:"
   ]
  },
  {
   "cell_type": "code",
   "execution_count": 6,
   "metadata": {},
   "outputs": [],
   "source": [
    "def time_step2(x, y, vx, vy, dt):\n",
    "    ax = 0\n",
    "    ay = -9.8\n",
    "    \n",
    "    k1x = vx * dt\n",
    "    k1y = vy * dt\n",
    "    k1vx = ax * dt\n",
    "    k1vy = ay * dt\n",
    "    \n",
    "    k2x = (vx + k1vx) * dt\n",
    "    k2y = (vy + k1vy) * dt\n",
    "    k2vx = ax * dt\n",
    "    k2vy = ay * dt\n",
    "    \n",
    "    xf = x + 0.5 * (k1x + k2x)\n",
    "    yf = y + 0.5 * (k1y + k2y)\n",
    "    vxf = vx + 0.5 * (k1vx + k2vx)\n",
    "    vyf = vy + 0.5 * (k1vy + k2vy)\n",
    "    \n",
    "    return xf, yf, vxf, vyf"
   ]
  },
  {
   "cell_type": "markdown",
   "metadata": {},
   "source": [
    "Repeat the work done above of solving these differential equations, however, use ``time_step2`` instead of ``time_step`` to show that energy is actually perfectly conserved.  In this instance (not most, but this one which has quadratic solutions), the numerical solution is exact."
   ]
  },
  {
   "cell_type": "code",
   "execution_count": 41,
   "metadata": {},
   "outputs": [
    {
     "data": {
      "image/png": "[encoded data removed]",
      "text/plain": [
       "<Figure size 432x288 with 1 Axes>"
      ]
     },
     "metadata": {
      "needs_background": "light"
     },
     "output_type": "display_data"
    }
   ],
   "source": [
    "def energy_func(x, y, vx, vy):\n",
    "    g = 9.8\n",
    "    return .5*(vx**2+vy**2)+g*y\n",
    "\n",
    "time = np.linspace(0,8,1000)\n",
    "dt = time[1] - time[0]\n",
    "\n",
    "energy = np.zeros(len(time))\n",
    "\n",
    "x = 0\n",
    "y = 0\n",
    "vx_0 = 30\n",
    "vy_0 = 40\n",
    "vx = vx_0\n",
    "vy = vy_0\n",
    "\n",
    "\n",
    "\n",
    "for i in range(len(time)):\n",
    "    x, y, vx, vy = time_step2(x, y, vx, vy, dt)\n",
    "    energy[i] = energy_func(x, y, vx, vy)\n",
    "    \n",
    "plt.figure()\n",
    "plt.plot(time, energy, color = \"hotpink\")\n",
    "plt.show()"
   ]
  },
  {
   "cell_type": "markdown",
   "metadata": {},
   "source": [
    "**Using arrays**.  Ok, that's effective, but takes lots of coding.  What if we have more than four differential equations to solve?  Do we need to do a ton of typing?  (And make a ton of typographical errors???)\n",
    "\n",
    "``numpy`` arrays have useful mathematical properties that can help us get around it.\n",
    "\n",
    "First let's create two arrays,"
   ]
  },
  {
   "cell_type": "code",
   "execution_count": 11,
   "metadata": {},
   "outputs": [],
   "source": [
    "array_1 = np.zeros(3)\n",
    "array_1[0] = 2\n",
    "array_1[1] = 8\n",
    "array_1[2] = -3\n",
    "\n",
    "array_2 = np.zeros(3)\n",
    "array_2[:] = [1, -2, 7]"
   ]
  },
  {
   "cell_type": "code",
   "execution_count": 12,
   "metadata": {},
   "outputs": [
    {
     "name": "stdout",
     "output_type": "stream",
     "text": [
      "[ 2.  8. -3.]\n",
      "[ 1. -2.  7.]\n"
     ]
    }
   ],
   "source": [
    "print(array_1)\n",
    "print(array_2)"
   ]
  },
  {
   "cell_type": "markdown",
   "metadata": {},
   "source": [
    "These are two ways to create arrays to add to others that we've already used (we've used ``np.linspace()``, a ``for`` loop to set the array elements, and also ``np.loadtxt()``).\n",
    "\n",
    "Now that we have arrays, we can actually do mathematical operations.  Print the results of adding, subtracting, multiplying, and dividing these arrays, and confirm that the results make sense."
   ]
  },
  {
   "cell_type": "code",
   "execution_count": 13,
   "metadata": {},
   "outputs": [
    {
     "name": "stdout",
     "output_type": "stream",
     "text": [
      "[3. 6. 4.]\n"
     ]
    }
   ],
   "source": [
    "print(array_1+array_2)"
   ]
  },
  {
   "cell_type": "code",
   "execution_count": 14,
   "metadata": {},
   "outputs": [
    {
     "name": "stdout",
     "output_type": "stream",
     "text": [
      "[  2. -16. -21.]\n"
     ]
    }
   ],
   "source": [
    "print(array_1*array_2)"
   ]
  },
  {
   "cell_type": "markdown",
   "metadata": {},
   "source": [
    "We can also do actions on each term, for example:"
   ]
  },
  {
   "cell_type": "code",
   "execution_count": 15,
   "metadata": {},
   "outputs": [
    {
     "name": "stdout",
     "output_type": "stream",
     "text": [
      "[ 4. 64.  9.]\n"
     ]
    }
   ],
   "source": [
    "print(array_1**2)"
   ]
  },
  {
   "cell_type": "markdown",
   "metadata": {},
   "source": [
    "predict the result of ``array_2**2``, then confirm your prediction\n",
    "\n",
    "1,4,49"
   ]
  },
  {
   "cell_type": "code",
   "execution_count": 16,
   "metadata": {},
   "outputs": [
    {
     "name": "stdout",
     "output_type": "stream",
     "text": [
      "[ 1.  4. 49.]\n"
     ]
    }
   ],
   "source": [
    "print(array_2**2)"
   ]
  },
  {
   "cell_type": "markdown",
   "metadata": {},
   "source": [
    "Let's use this with our original Euler's method technique, and write it in a matrix-type form:\n",
    "$$ \\left( \\begin{array}{c} x_f \\\\ y_f \\\\ v_{xf} \\\\ v_{yf} \\end{array} \\right) = \\left( \\begin{array}{c} x \\\\ y \\\\ v_x \\\\ v_y \\end{array} \\right) + \\left( \\begin{array}{c} v_x \\\\ v_y \\\\ a_x \\\\ a_y \\end{array} \\right) \\Delta t$$\n",
    "Notice how the final array, $( v_x \\quad v_y \\quad a_x \\quad a_y )$, is an array of the right-hand-side of our differential equations:\n",
    "$$\\displaystyle \\frac{dx}{dt} = v_x \\qquad \\qquad \\frac{d v_x}{dt} = a_x$$\n",
    "\n",
    "$$\\displaystyle \\frac{dy}{dt} = v_y \\qquad \\qquad \\frac{d v_y}{dt} = a_y$$\n",
    "\n",
    "The structure of the matrix solution is:\n",
    "$$\\displaystyle {\\rm final} = {\\rm initial} + {\\rm derivative} \\times \\Delta t $$\n",
    "\n",
    "Let's now manipulate our original ``time_step`` function.  I've given it a new name below, and commented out the previous code so we can see it for comparison:"
   ]
  },
  {
   "cell_type": "code",
   "execution_count": 19,
   "metadata": {},
   "outputs": [],
   "source": [
    "def time_step_array(x,y,vx,vy,dt):\n",
    "    ax = 0\n",
    "    ay = - 9.8\n",
    "#    xf = x + vx * dt\n",
    "#    yf = y + vy * dt\n",
    "#    vxf = vx + ax * dt\n",
    "#    vyf = vy + ay * dt\n",
    "    \n",
    "#    return xf, yf, vxf, vyf\n",
    "\n",
    "    x_in = np.zeros(4)\n",
    "    x_in[:] = [x, y, vx, vy]\n",
    "\n",
    "    derivative = np.zeros(4)\n",
    "    derivative[:] = [vx, vy, ax, ay]\n",
    "    \n",
    "    x_final = x_in + derivative * dt\n",
    "    \n",
    "    return x_final[0], x_final[1], x_final[2], x_final[3]"
   ]
  },
  {
   "cell_type": "markdown",
   "metadata": {},
   "source": [
    "Confirm that this works by again solving for the motion.  We should get the same results."
   ]
  },
  {
   "cell_type": "code",
   "execution_count": 37,
   "metadata": {},
   "outputs": [
    {
     "data": {
      "image/png": "[encoded data removed]",
      "text/plain": [
       "<Figure size 432x288 with 1 Axes>"
      ]
     },
     "metadata": {
      "needs_background": "light"
     },
     "output_type": "display_data"
    }
   ],
   "source": [
    "def energy(x,y,vx,vy):\n",
    "    return 0.5*(vx**2 + vy**2) + 9.8 * y\n",
    "\n",
    "\n",
    "time = np.linspace(0,8,100000)\n",
    "dt = time[1] - time[0]\n",
    "x_step = np.zeros(len(time))\n",
    "y_step = np.zeros(len(time))\n",
    "e_step = np.zeros(len(time))\n",
    "\n",
    "x = 0\n",
    "y = 0\n",
    "vx = 30\n",
    "vy = 40\n",
    "\n",
    "x_step[0] = x\n",
    "y_step[0] = y\n",
    "e_step[0] = energy(x,y,vx,vy)\n",
    "\n",
    "for i in range(1,len(time)):\n",
    "    x, y, vx, vy = time_step_array(x, y, vx, vy, dt)\n",
    "    x_step[i] = x\n",
    "    y_step[i] = y\n",
    "    e_step[i] = energy(x,y,vx,vy)\n",
    "\n",
    "plt.figure()\n",
    "plt.plot(time, e_step)\n",
    "plt.show()\n",
    "\n"
   ]
  },
  {
   "cell_type": "code",
   "execution_count": null,
   "metadata": {},
   "outputs": [],
   "source": []
  },
  {
   "cell_type": "markdown",
   "metadata": {},
   "source": [
    "This is a kind of funky way to go about things.  First, we take four inputs and make them into an array, then do array calculations and separate the resulting array into four outputs.  We should just use arrays.\n",
    "\n",
    "But we run into an issue... how do we set the derivative array, ``derivative[:] = [vx, vy, ax, ay]``?  ``ax`` and ``ay`` are straight forward.  What about ``vx`` and ``vy``?  \n",
    "\n",
    "Compare with our previous, what is ``x_in[0]``?  ``x_in[1]``?  ``x_in[2]``?  ``x_in[3]``?  Use your results to complete the ``derivative[:]`` line.\n",
    "\n",
    "x_in[0] is x... x_in[1] is y... x_in[2] is vx... x_in[3] is vy\n",
    "\n",
    "Finish the function below."
   ]
  },
  {
   "cell_type": "code",
   "execution_count": 31,
   "metadata": {},
   "outputs": [],
   "source": [
    "def time_step_array2(x_in, dt):\n",
    "    ax = 0\n",
    "    ay = - 9.8\n",
    "\n",
    "    derivative = np.zeros(4)\n",
    "    derivative[:] = [x_in[2], x_in[3], ax, ay]\n",
    "    \n",
    "    x_final = x_in + derivative * dt\n",
    "    \n",
    "    return x_final\n"
   ]
  },
  {
   "cell_type": "markdown",
   "metadata": {},
   "source": [
    "Now, we need to use arrays to solve our differential equation.  We introduce ``x_array`` to take the place of ``x, y, vx, vy``."
   ]
  },
  {
   "cell_type": "code",
   "execution_count": 30,
   "metadata": {},
   "outputs": [
    {
     "data": {
      "image/png": "[encoded data removed]",
      "text/plain": [
       "<Figure size 432x288 with 1 Axes>"
      ]
     },
     "metadata": {
      "needs_background": "light"
     },
     "output_type": "display_data"
    }
   ],
   "source": [
    "time = np.linspace(0,8,100)\n",
    "dt = time[1] - time[0]\n",
    "x_step = np.zeros(len(time))\n",
    "y_step = np.zeros(len(time))\n",
    "\n",
    "x = 0\n",
    "y = 0\n",
    "vx = 30\n",
    "vy = 40\n",
    "\n",
    "x_array = np.zeros(4)\n",
    "x_array[:] = [x, y, vx, vy]\n",
    "\n",
    "x_step[0] = x_array[0]\n",
    "y_step[0] = x_array[1]\n",
    "\n",
    "for i in range(1,len(time)):\n",
    "    x_array = time_step_array2(x_array, dt)\n",
    "    x_step[i] = x_array[0]\n",
    "    y_step[i] = x_array[1]\n",
    "    \n",
    "plt.figure()\n",
    "plt.plot(x_step, y_step)\n",
    "plt.show()"
   ]
  },
  {
   "cell_type": "markdown",
   "metadata": {},
   "source": [
    "It's hard to tell if this is what we expect.  So, create the energy plot to confirm that this is as we expected.  Make sure your code is now using the ``time_step_array2()`` function"
   ]
  },
  {
   "cell_type": "code",
   "execution_count": 39,
   "metadata": {},
   "outputs": [
    {
     "data": {
      "image/png": "[encoded data removed]",
      "text/plain": [
       "<Figure size 432x288 with 1 Axes>"
      ]
     },
     "metadata": {
      "needs_background": "light"
     },
     "output_type": "display_data"
    }
   ],
   "source": [
    "def energy_func(x, y, vx, vy):\n",
    "    g = 9.8\n",
    "    return .5*(vx**2+vy**2)+g*y\n",
    "\n",
    "time = np.linspace(0,8,1000)\n",
    "dt = time[1] - time[0]\n",
    "\n",
    "energy = np.zeros(len(time))\n",
    "\n",
    "x = 0\n",
    "y = 0\n",
    "vx_0 = 30\n",
    "vy_0 = 40\n",
    "vx = vx_0\n",
    "vy = vy_0\n",
    "\n",
    "\n",
    "\n",
    "for i in range(len(time)):\n",
    "    x_final = time_step_array2(x_array, dt)\n",
    "    energy[i] = energy_func(x_final[0], x_final[1], x_final[2], x_final[3])\n",
    "    \n",
    "plt.figure()\n",
    "plt.plot(time, energy, color = \"blueviolet\")\n",
    "plt.show()"
   ]
  },
  {
   "cell_type": "markdown",
   "metadata": {},
   "source": [
    "Now we want to create a new function to implement Heun's rule:\n",
    "\n",
    "$$ k1_x = v_x \\, \\Delta t \\qquad k1_y = v_y \\, \\Delta t$$\n",
    "$$ k1_{vx} = a_x \\, \\Delta t \\qquad k1_{vy} = a_y \\, \\Delta t$$\n",
    "\n",
    "$$ k2_x = (v_x + k1_{vx}) \\, \\Delta t \\qquad k2_y = (v_y + k1_{vy}) \\, \\Delta t$$\n",
    "$$ k2_{vx} = a_x \\, \\Delta t \\qquad k2_{vy} = a_y \\, \\Delta t$$\n",
    "\n",
    "$$ x_f = x + 0.5 (k1_x + k2_x) \\qquad y_f = y + 0.5 (k1_y + k2_y)$$\n",
    "$$ v_{xf} = v_x + 0.5 (k1_{vx} + k2_{vx}) \\qquad v_{yf} = v_y + 0.5 (k1_{vy} + k2_{vy})$$\n",
    "\n",
    "Which comes in three main steps:\n",
    "- Create a $k1$ array, ``k1 = derivative1 * dt``; but before that we need to define ``derivative1``, which is ``[vx, vy, ax, ay]``, must like before.\n",
    "- Create a $k2$ array, ``k2 = derivative2 * dt``; where we need to first define ``derivative2``, which is ``[vx+k1vx, vy+k1vy, ax, ay]``.  This is more difficult, because we need to use specific elements in the ``k1`` array (which index corresponds to $v_x$ and $v_y$??).\n",
    "- Finally, we get the final values, ``x_final = x_in + 0.5 * (k1 + k2)``.\n",
    "- Return this final value.\n",
    "\n",
    "Create this function, then solve for the motion, creating -- as before -- plots of the trajectory and of the energy as a function of time.  Make sure they both work."
   ]
  },
  {
   "cell_type": "code",
   "execution_count": 49,
   "metadata": {},
   "outputs": [
    {
     "data": {
      "image/png": "[encoded data removed]",
      "text/plain": [
       "<Figure size 432x288 with 1 Axes>"
      ]
     },
     "metadata": {
      "needs_background": "light"
     },
     "output_type": "display_data"
    }
   ],
   "source": [
    "def heuns_rule(x_in):\n",
    "    vx = x_in[2]\n",
    "    vy = x_in[3]\n",
    "    ax = 0\n",
    "    ay = -9.8\n",
    "    \n",
    "    derivative1 = np.array([vx, vy, ax, ay])\n",
    "    k1 = derivative1 * dt\n",
    "    derivative2 = np.array([vx + k1[2], vy + k1[3], ax, ay])\n",
    "    k2 = derivative2 * dt\n",
    "    \n",
    "    x_final = x_in + 0.5 * (k1 + k2)\n",
    "    \n",
    "    return x_final\n",
    "\n",
    "\n",
    "time = np.linspace(0,8,100)\n",
    "dt = time[1] - time[0]\n",
    "x_step = np.zeros(len(time))\n",
    "y_step = np.zeros(len(time))\n",
    "\n",
    "x = 0\n",
    "y = 0\n",
    "vx = 30\n",
    "vy = 40\n",
    "ax = 0\n",
    "ay = -9.8\n",
    "\n",
    "x_array = np.zeros(4)\n",
    "x_array[:] = [x, y, vx, vy]\n",
    "\n",
    "x_step[0] = x_array[0]\n",
    "y_step[0] = x_array[1]\n",
    "\n",
    "for i in range(1,len(time)):\n",
    "    x_array = heuns_rule(x_array)\n",
    "    x_step[i] = x_array[0]\n",
    "    y_step[i] = x_array[1]\n",
    "    \n",
    "plt.figure()\n",
    "plt.plot(x_step, y_step)\n",
    "plt.show()"
   ]
  },
  {
   "cell_type": "code",
   "execution_count": null,
   "metadata": {},
   "outputs": [],
   "source": []
  },
  {
   "cell_type": "markdown",
   "metadata": {},
   "source": [
    "**If you have time, completing this is your homework:** Let's include air resistance:\n",
    "$$\\displaystyle \\frac{dx}{dt} = v_x \\qquad \\qquad \\frac{d v_x}{dt} = a_x = - b v_x$$\n",
    "$$\\displaystyle \\frac{dy}{dt} = v_y \\qquad \\qquad \\frac{d v_y}{dt} = a_y = -g - b v_y$$\n",
    "using $g = 9.8$ and $b = 0.1$.  You should write code that:\n",
    "- rewrites the ``time_step_array2`` function (Euler's method) to incorporate a different ``ax`` and ``ay``.  Note that these involve $v_x$ and $v_y$.\n",
    "- Use the same initial conditions, and plot the result\n",
    "- Include the projectile model as a second curve on the plot to see the difference.  Make sure at least one of the curves has a different ``linestyle``.\n",
    "- Plot energy vs. time to see that the results at least physically make sense."
   ]
  },
  {
   "cell_type": "code",
   "execution_count": null,
   "metadata": {},
   "outputs": [],
   "source": []
  },
  {
   "cell_type": "code",
   "execution_count": null,
   "metadata": {},
   "outputs": [],
   "source": []
  }
 ],
 "metadata": {
  "kernelspec": {
   "display_name": "Python 3 (ipykernel)",
   "language": "python",
   "name": "python3"
  },
  "language_info": {
   "codemirror_mode": {
    "name": "ipython",
    "version": 3
   },
   "file_extension": ".py",
   "mimetype": "text/x-python",
   "name": "python",
   "nbconvert_exporter": "python",
   "pygments_lexer": "ipython3",
   "version": "3.9.12"
  }
 },
 "nbformat": 4,
 "nbformat_minor": 2
}

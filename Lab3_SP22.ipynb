{
 "cells": [
  {
   "cell_type": "markdown",
   "metadata": {},
   "source": [
    "# Complex Numbers and Interference Phenomena"
   ]
  },
  {
   "cell_type": "code",
   "execution_count": 1,
   "metadata": {},
   "outputs": [],
   "source": [
    "%matplotlib inline\n",
    "import numpy as np\n",
    "import matplotlib.pyplot as plt\n",
    "import ipywidgets as widgets"
   ]
  },
  {
   "cell_type": "markdown",
   "metadata": {},
   "source": [
    "## Brief Review from Lab 2\n",
    "\n",
    "**Plotting Functions**"
   ]
  },
  {
   "cell_type": "markdown",
   "metadata": {},
   "source": [
    "## STOP:  Double click this text area and type your answer to the following question:\n",
    "\n",
    "**(1)** Look at the code immediate below.  What will the code below do.  Be as specific as possible.\n",
    "\n",
    "\n",
    "a function is created that takes one input and squares it, then multiplies it by 3. then an array is created with numbers between -1 and 5, with 6 places (the x-axis inputs)...then an array of zeros is created for the y axis that is the length of the x axis array. then a for loop is ran that assigns a number to each spot on the y axis array that is called from the function. then it is plotted."
   ]
  },
  {
   "cell_type": "code",
   "execution_count": 2,
   "metadata": {},
   "outputs": [
    {
     "data": {
      "image/png": "[encoded data removed]",
      "text/plain": [
       "<Figure size 432x288 with 1 Axes>"
      ]
     },
     "metadata": {
      "needs_background": "light"
     },
     "output_type": "display_data"
    }
   ],
   "source": [
    "def plot_me(x):\n",
    "    return (3 * x**2)\n",
    "\n",
    "x_axis = np.linspace(-1,5,6)\n",
    "y_axis = np.zeros(len(x_axis))\n",
    "for i in range(len(x_axis)):\n",
    "    y_axis[i] = plot_me(x_axis[i])\n",
    "    \n",
    "plt.figure()\n",
    "plt.plot(x_axis,y_axis)\n",
    "plt.xlabel(\"x-value\")\n",
    "plt.ylabel(\"y-value\")\n",
    "plt.show()"
   ]
  },
  {
   "cell_type": "markdown",
   "metadata": {},
   "source": [
    "In the code block below, create code that will create a graph that is:\n",
    "- smooth (not jagged like the previous plot)\n",
    "- a plot for x = 0 to x = 3\n",
    "- plotting the function $-4.9 x^2$\n",
    "- label \"time\" on the x-axis and \"displacement\" on the y-axis."
   ]
  },
  {
   "cell_type": "code",
   "execution_count": 5,
   "metadata": {},
   "outputs": [
    {
     "data": {
      "image/png": "[encoded data removed]",
      "text/plain": [
       "<Figure size 432x288 with 1 Axes>"
      ]
     },
     "metadata": {
      "needs_background": "light"
     },
     "output_type": "display_data"
    }
   ],
   "source": [
    "def fun_function(x):\n",
    "    return -4.9 * x**2\n",
    "\n",
    "xaxis = np.linspace(0,3)\n",
    "yaxis = np.zeros(len(xaxis))\n",
    "\n",
    "for i in range(len(xaxis)):\n",
    "    yaxis[i] = fun_function(xaxis[i])\n",
    "\n",
    "plt.figure()\n",
    "plt.plot(xaxis, yaxis, color= \"blueviolet\")\n",
    "plt.xlabel(\"time\")\n",
    "plt.ylabel(\"displacement\")\n",
    "plt.show()"
   ]
  },
  {
   "cell_type": "markdown",
   "metadata": {},
   "source": [
    "# Sliders and animations\n",
    "\n",
    "We created traveling waves, and were able to use a slider to \"animate\" them,\n",
    "$$w (x,t) = \\sin (2 \\pi x - \\pi t)$$\n",
    "Run the following code and confirm the wave travels to the right."
   ]
  },
  {
   "cell_type": "code",
   "execution_count": 6,
   "metadata": {},
   "outputs": [
    {
     "data": {
      "application/vnd.jupyter.widget-view+json": {
       "model_id": "97062d06bcd64ec881c7485a363b8373",
       "version_major": 2,
       "version_minor": 0
      },
      "text/plain": [
       "interactive(children=(FloatSlider(value=10.0, description='t', max=20.0), Output()), _dom_classes=('widget-int…"
      ]
     },
     "metadata": {},
     "output_type": "display_data"
    },
    {
     "data": {
      "text/plain": [
       "<function __main__.plot_wave(t)>"
      ]
     },
     "execution_count": 6,
     "metadata": {},
     "output_type": "execute_result"
    }
   ],
   "source": [
    "def w_right(x, t):\n",
    "    return np.sin(2*np.pi*x - np.pi*t)\n",
    "\n",
    "def plot_wave(t):\n",
    "    x = np.linspace(0,2,500)\n",
    "    y = np.zeros(len(x))\n",
    "    \n",
    "    for i in range(len(x)):\n",
    "        y[i] = w_right(x[i], t)\n",
    "        \n",
    "    plt.figure()\n",
    "    plt.plot(x, y)\n",
    "    plt.show()\n",
    "    \n",
    "widgets.interact(plot_wave, t=(0,20,0.1))"
   ]
  },
  {
   "cell_type": "markdown",
   "metadata": {},
   "source": [
    "# Complex Numbers\n",
    "\n",
    "In Python, $i = \\sqrt{-1}$ is written as ``1j``.  (It should be noted that any number can precede ``j``, but a number is necessary, otherwise, Python will treat it as a variable.  We can use it with an exponential, just like any other exponential, for example, $z = e^{i \\pi}$."
   ]
  },
  {
   "cell_type": "code",
   "execution_count": 9,
   "metadata": {},
   "outputs": [
    {
     "name": "stdout",
     "output_type": "stream",
     "text": [
      "(-1+1.2246467991473532e-16j)\n"
     ]
    }
   ],
   "source": [
    "z = np.exp(1j * np.pi)\n",
    "print(z)"
   ]
  },
  {
   "cell_type": "markdown",
   "metadata": {},
   "source": [
    "What is going on here?  We begin with Euler's formula,\n",
    "$$e^{i x} = \\cos x + i \\sin x .$$"
   ]
  },
  {
   "cell_type": "markdown",
   "metadata": {},
   "source": [
    "## STOP:  Double click this text area and type your answer to the following question:\n",
    "**(2)** Using Euler's formula, what do we expect for the value for $e^{i \\pi}$?  Why isn't our answer exactly that?  Check your answer with the instructor, or have a discussion if you're completely unsure.\n",
    "\n",
    "we would expect it to be -1."
   ]
  },
  {
   "cell_type": "markdown",
   "metadata": {},
   "source": [
    "Can we plot this?  Run the following code:"
   ]
  },
  {
   "cell_type": "code",
   "execution_count": 10,
   "metadata": {},
   "outputs": [
    {
     "name": "stderr",
     "output_type": "stream",
     "text": [
      "/var/folders/wj/vpgb50wn6ng7q81v_h_t2nfm0000gn/T/ipykernel_34221/902931747.py:8: ComplexWarning: Casting complex values to real discards the imaginary part\n",
      "  ce[i] = complex_exponential(phi[i])\n"
     ]
    },
    {
     "data": {
      "image/png": "[encoded data removed]",
      "text/plain": [
       "<Figure size 432x288 with 1 Axes>"
      ]
     },
     "metadata": {
      "needs_background": "light"
     },
     "output_type": "display_data"
    }
   ],
   "source": [
    "def complex_exponential(z):\n",
    "    return np.exp(1j * z)\n",
    "\n",
    "phi = np.linspace(0, 2*np.pi, 100)\n",
    "ce = np.zeros(len(phi))\n",
    "\n",
    "for i in range(len(phi)):\n",
    "    ce[i] = complex_exponential(phi[i])\n",
    "    \n",
    "plt.figure()\n",
    "plt.plot(phi,ce)\n",
    "plt.show()"
   ]
  },
  {
   "cell_type": "markdown",
   "metadata": {},
   "source": [
    "Take a moment to notice the warning.  When trying to plot complex numbers, Python only plots the real part.\n",
    "\n",
    "There are two parts to a complex number, its real and imaginary parts.  Run the following code:"
   ]
  },
  {
   "cell_type": "code",
   "execution_count": 11,
   "metadata": {},
   "outputs": [
    {
     "name": "stdout",
     "output_type": "stream",
     "text": [
      "-1.0\n",
      "1.2246467991473532e-16\n"
     ]
    }
   ],
   "source": [
    "print(np.real(z))\n",
    "print(np.imag(z))"
   ]
  },
  {
   "cell_type": "markdown",
   "metadata": {},
   "source": [
    "## STOP:  Double click this text area and type your answer to the following question:\n",
    "**(3)** What does ``np.real(z)`` and ``np.imag(z)`` do?\n",
    "\n",
    "np.real(z) is the real part of the comblex number z and np.imag(z) is the imaginary part (real+imaI)"
   ]
  },
  {
   "cell_type": "markdown",
   "metadata": {},
   "source": [
    "## STOP:  Double click this text area and type your answer to the following question:\n",
    "\n",
    "**(4)** Consider the function `fun(x)` as defined below.  What does it do?  What are three possible inputs where you can predict the output?  After you answer these questions in the space below, use the empty code box to print your three predictions to test them out.\n",
    "\n",
    "\n",
    "it will store the imaginary part of the function e^ix...fun(pi) = sin(pi)= 0...fun(0)=sin(0)=0...fun(pi/2)= sin(pi/2)=1"
   ]
  },
  {
   "cell_type": "code",
   "execution_count": 13,
   "metadata": {},
   "outputs": [],
   "source": [
    "def fun(x):\n",
    "    return np.imag( np.exp(1j * x) )"
   ]
  },
  {
   "cell_type": "code",
   "execution_count": 14,
   "metadata": {},
   "outputs": [
    {
     "name": "stdout",
     "output_type": "stream",
     "text": [
      "1.2246467991473532e-16\n",
      "0.0\n",
      "1.0\n"
     ]
    }
   ],
   "source": [
    "print(fun(np.pi))\n",
    "print(fun(0))\n",
    "print(fun(np.pi/2))"
   ]
  },
  {
   "cell_type": "markdown",
   "metadata": {},
   "source": [
    "We tested this function against our predictions for a few points, but how do we know that the functions are the same?  Say we have two functions:\n",
    "$\\displaystyle f(x) = (x + x)^2 \\qquad g(x) = 4 x^2$\n",
    "\n",
    "How do we know these functions are the same?  \n",
    "- We can test a few points:  $f(0) = g(0) = 0$, $f(1) = g(1) = 4$, $f(2) = g(2) = 16$.\n",
    "- But, we can also plot functions, for example, plot $f(x)$ and $g(x)$ on the same plot.\n",
    "- Better yet, since it's hard to tell if the two curves are exactly the same or not, we can plot $f(x) - g(x)$, and see how close to zero it is."
   ]
  },
  {
   "cell_type": "code",
   "execution_count": 15,
   "metadata": {},
   "outputs": [
    {
     "name": "stdout",
     "output_type": "stream",
     "text": [
      "0 0\n",
      "4 4\n",
      "16 16\n"
     ]
    },
    {
     "data": {
      "image/png": "[encoded data removed]",
      "text/plain": [
       "<Figure size 432x288 with 1 Axes>"
      ]
     },
     "metadata": {
      "needs_background": "light"
     },
     "output_type": "display_data"
    },
    {
     "data": {
      "image/png": "[encoded data removed]",
      "text/plain": [
       "<Figure size 432x288 with 1 Axes>"
      ]
     },
     "metadata": {
      "needs_background": "light"
     },
     "output_type": "display_data"
    }
   ],
   "source": [
    "def f(x):\n",
    "    return (x+x)**2\n",
    "def g(x):\n",
    "    return 4 * x**2\n",
    "\n",
    "print(f(0), g(0))\n",
    "print(f(1), g(1))\n",
    "print(f(2), g(2))\n",
    "\n",
    "x = np.linspace(0,10,100)\n",
    "f_plot = np.zeros(len(x))\n",
    "g_plot = np.zeros(len(x))\n",
    "f_minus_g = np.zeros(len(x))\n",
    "for i in range(len(x)):\n",
    "    f_plot[i] = f(x[i])\n",
    "    g_plot[i] = g(x[i])\n",
    "    f_minus_g[i] = f(x[i]) - g(x[i])\n",
    "    \n",
    "plt.figure()\n",
    "plt.plot(x, f_plot)\n",
    "plt.plot(x, g_plot,linestyle='--')\n",
    "plt.figure()\n",
    "plt.plot(x, f_minus_g)\n",
    "plt.show()"
   ]
  },
  {
   "cell_type": "markdown",
   "metadata": {},
   "source": [
    "For ``fun(x)``, identify a real function you identified as being equivalent to ``fun``, then graph both functions on the same plot to see if the two functions are similar, then plot their difference to show that they are the same (at least to computational precision)."
   ]
  },
  {
   "cell_type": "code",
   "execution_count": 20,
   "metadata": {},
   "outputs": [
    {
     "data": {
      "image/png": "[encoded data removed]",
      "text/plain": [
       "<Figure size 432x288 with 1 Axes>"
      ]
     },
     "metadata": {
      "needs_background": "light"
     },
     "output_type": "display_data"
    },
    {
     "data": {
      "image/png": "[encoded data removed]",
      "text/plain": [
       "<Figure size 432x288 with 1 Axes>"
      ]
     },
     "metadata": {
      "needs_background": "light"
     },
     "output_type": "display_data"
    }
   ],
   "source": [
    "def f(x):\n",
    "    return np.imag( np.exp(1j * x) )\n",
    "\n",
    "def g(x):\n",
    "    return np.sin(x)\n",
    "\n",
    "x = np.linspace(0,10)\n",
    "f_y = np.zeros(len(x))\n",
    "g_y = np.zeros(len(x))\n",
    "f_minus_g = np.zeros(len(x))\n",
    "\n",
    "for i in range(len(x)):\n",
    "    f_y[i] = f(x[i])\n",
    "    g_y[i] = g(x[i])\n",
    "    f_minus_g[i] = f(x[i]) - g(x[i])\n",
    "    \n",
    "plt.figure()\n",
    "plt.plot(x, f_y, color = \"blueviolet\")\n",
    "plt.plot(x, g_y, color = \"darkorange\")\n",
    "plt.figure()\n",
    "plt.plot(x, f_minus_g)\n",
    "plt.show()"
   ]
  },
  {
   "cell_type": "markdown",
   "metadata": {},
   "source": [
    "The cell below is an exact copy of the rightward moving wave above.  Change the function ``w_right(x,t)`` to be written in terms of the imaginary part of complex exponentials (and not sine).  Make sure the resulting traveling wave is correct (i.e., unchanged)."
   ]
  },
  {
   "cell_type": "code",
   "execution_count": 22,
   "metadata": {},
   "outputs": [
    {
     "data": {
      "application/vnd.jupyter.widget-view+json": {
       "model_id": "a2008e155b2e4b39bf4110d97c242350",
       "version_major": 2,
       "version_minor": 0
      },
      "text/plain": [
       "interactive(children=(FloatSlider(value=10.0, description='t', max=20.0), Output()), _dom_classes=('widget-int…"
      ]
     },
     "metadata": {},
     "output_type": "display_data"
    },
    {
     "data": {
      "text/plain": [
       "<function __main__.plot_waves(t)>"
      ]
     },
     "execution_count": 22,
     "metadata": {},
     "output_type": "execute_result"
    }
   ],
   "source": [
    "def w_sin(x, t):\n",
    "    return np.sin(2*np.pi*x - np.pi*t)\n",
    "\n",
    "def w_complex(x,t):\n",
    "    z = 2*np.pi*x-np.pi*t\n",
    "    return np.imag(np.exp(1j*z))\n",
    "\n",
    "\n",
    "x= np.linspace(0,100)\n",
    "sin_plot = np.zeros(len(x))\n",
    "complex_plot = np.zeros(len(x))\n",
    "sin_minus_complex = np.zeros(len(x))\n",
    "\n",
    "\n",
    "\n",
    "def plot_waves(t):\n",
    "    for i in range(len(x)):\n",
    "        sin_plot[i] = w_sin(x[i], t)\n",
    "        complex_plot[i] = w_complex(x[i], t)\n",
    "        sin_minus_complex[i] = w_sin(x[i],t) - w_complex(x[i], t)\n",
    "           \n",
    "    plt.figure()\n",
    "    plt.plot(x, sin_plot, color = \"blueviolet\")\n",
    "    plt.plot(x, complex_plot, color = \"darkorange\")\n",
    "    plt.figure()\n",
    "    plt.plot(x, sin_minus_complex, color = \"pink\")\n",
    "    plt.show()\n",
    "    \n",
    "widgets.interact(plot_waves, t=(0,20,0.1))"
   ]
  },
  {
   "cell_type": "markdown",
   "metadata": {},
   "source": [
    "One more useful thing is the absolute value squared of a complex number.  Consider the function below.  Plot the function from $x = 0$ to $2 \\pi$.  What do you notice about the result?"
   ]
  },
  {
   "cell_type": "code",
   "execution_count": 23,
   "metadata": {},
   "outputs": [],
   "source": [
    "def absolute_value_squared(x):\n",
    "    return (np.abs( complex_exponential(x) ))**2"
   ]
  },
  {
   "cell_type": "code",
   "execution_count": 24,
   "metadata": {},
   "outputs": [
    {
     "data": {
      "image/png": "[encoded data removed]",
      "text/plain": [
       "<Figure size 432x288 with 1 Axes>"
      ]
     },
     "metadata": {
      "needs_background": "light"
     },
     "output_type": "display_data"
    }
   ],
   "source": [
    "xaxis = np.linspace(0, 2*np.pi)\n",
    "funct = np.zeros(len(x))\n",
    "\n",
    "for i in range(len(x)):\n",
    "    funct[i] = absolute_value_squared(xaxis[i])\n",
    "\n",
    "plt.figure()\n",
    "plt.plot(xaxis, funct, color= \"hotpink\")\n",
    "plt.show()"
   ]
  },
  {
   "cell_type": "markdown",
   "metadata": {},
   "source": [
    "One can think of the absolute value squared of $e^{ix} = \\cos x + i \\sin x$ as the sum of the real part squared and the imaginary part squared.  Almost akin to a Pythagorean theorem.  Does your result make sense?\n",
    "\n",
    "\n",
    "yes it makes sense because (cosx)^2 + (sinx)^2 = 1"
   ]
  },
  {
   "cell_type": "code",
   "execution_count": null,
   "metadata": {},
   "outputs": [],
   "source": []
  },
  {
   "cell_type": "markdown",
   "metadata": {},
   "source": [
    "# Superposition and Interference\n",
    "\n",
    "If multiple electromagnetic waves are in the same location with the same frequency, they can add and produce interesting phenomena.\n",
    "\n",
    "One example is standing waves, in e.g., a microwave oven.  Let's consider a microwave oven, operating with frequency 2.45 GHz, wavelength 12.2 cm, and width 30.5 cm.  Let's write the electric field as the superposition of a right-moving and left-moving wave,\n",
    "$$E(x,t) = \\sin(k x - \\omega t) + \\sin(kx + \\omega t),$$\n",
    "with $k = 2 \\pi / \\lambda = 2 \\pi / 12.2$, $\\omega = 2 \\pi f = 2 \\pi (2.45)$, which uses units of cm for position and ns for time.\n",
    "\n",
    "In the cell below, create a slider to make an animation of the wave.  You are strongly encouraged to re-purpose the code above to do this.  In doing so, there should be the following changes:\n",
    "- Of course, a new function\n",
    "- Label the x-axis as \"x (cm)\", and the y-axis as \"Electric field\"\n",
    "- Plot the x-values from x = 0 to x = 30.5 (make sure there's enough points to ensure a smooth graph)\n",
    "- Include the statement ``plt.ylim(-2.5,2.5)`` so the y-axis doesn't change its scale as the wave evolves.\n",
    "- In the slider, use the interval ``t = (0, 5, 0.01)``"
   ]
  },
  {
   "cell_type": "code",
   "execution_count": 74,
   "metadata": {},
   "outputs": [
    {
     "name": "stdout",
     "output_type": "stream",
     "text": [
      "50\n"
     ]
    },
    {
     "data": {
      "application/vnd.jupyter.widget-view+json": {
       "model_id": "f61445f5978348a8aee168936274194c",
       "version_major": 2,
       "version_minor": 0
      },
      "text/plain": [
       "interactive(children=(FloatSlider(value=2.0, description='t', max=5.0, step=0.01), Output()), _dom_classes=('w…"
      ]
     },
     "metadata": {},
     "output_type": "display_data"
    },
    {
     "data": {
      "text/plain": [
       "<function __main__.plot_elec_field(t)>"
      ]
     },
     "execution_count": 74,
     "metadata": {},
     "output_type": "execute_result"
    }
   ],
   "source": [
    "k = (2*np.pi)/12.2\n",
    "w = 2*np.pi*2.45\n",
    "\n",
    "def elec_field(x,t):\n",
    "    return np.sin(k*x - w*t) + np.sin(k*x + w*t)\n",
    "\n",
    "def plot_elec_field(t):\n",
    "    xaxis = np.linspace(0, 30.5,100)\n",
    "    func = np.zeros(len(xaxis))\n",
    "    \n",
    "    for i in range(len(xaxis)):\n",
    "        func[i] = elec_field(x[i], t)\n",
    "        \n",
    "    plt.figure()\n",
    "    plt.plot(xaxis, func, color= \"darkorange\")\n",
    "    plt.ylim(-2.5, 2.5)\n",
    "    plt.xlabel(\"x (cm)\")\n",
    "    plt.ylabel(\"Electric field\")\n",
    "    plt.show()\n",
    "\n",
    "print(len(xaxis))    \n",
    "widgets.interact(plot_elec_field, t= (0, 5, .01))"
   ]
  },
  {
   "cell_type": "markdown",
   "metadata": {},
   "source": [
    "The intensity of the wave is proportional to the electric field squared, so create a new slider to animate\n",
    "$$I (x,t) = \\big[ \\sin(k x - \\omega t) + \\sin(kx + \\omega t) \\big]^2,$$\n",
    "Here, label the y-axis \"Intensity\" and choose an appropriate ``plt.ylim( , )`` statement so you can see the entirety of the result in your animation."
   ]
  },
  {
   "cell_type": "code",
   "execution_count": 56,
   "metadata": {
    "scrolled": true
   },
   "outputs": [
    {
     "data": {
      "application/vnd.jupyter.widget-view+json": {
       "model_id": "4c23b15640f843e5b91605f917e8e2e4",
       "version_major": 2,
       "version_minor": 0
      },
      "text/plain": [
       "interactive(children=(FloatSlider(value=2.0, description='t', max=5.0, step=0.01), Output()), _dom_classes=('w…"
      ]
     },
     "metadata": {},
     "output_type": "display_data"
    },
    {
     "data": {
      "text/plain": [
       "<function __main__.intensity_plot(t)>"
      ]
     },
     "execution_count": 56,
     "metadata": {},
     "output_type": "execute_result"
    }
   ],
   "source": [
    "def intensity(x,t):\n",
    "    return (np.sin(k*x - w*t) + np.sin(k*x + w*t))**2\n",
    "\n",
    "x = np.linspace(0, 30.5,100)\n",
    "function = np.zeros(len(x))\n",
    "\n",
    "def intensity_plot(t):\n",
    "    for i in range(len(x)):\n",
    "        function[i] = intensity(x[i], t)\n",
    "        \n",
    "    plt.figure()\n",
    "    plt.plot(x, function)\n",
    "    plt.ylim(-2,4)\n",
    "    plt.xlabel(\"x (cm)\")\n",
    "    plt.ylabel(\"intensity\")\n",
    "    plt.show()\n",
    "    \n",
    "widgets.interact(intensity_plot , t=(0, 5, .01))"
   ]
  },
  {
   "cell_type": "markdown",
   "metadata": {},
   "source": [
    "Since the oscillations of the standing wave occur on time scales of nanoseconds, it can be useful to define the time-averaged intensity, really just the average of what we saw in our previous animation.  You can notice by eye that there are nodes, locations where the intensity is always zero, and anti-nodes, locations where the intensity is maximal.\n",
    "\n",
    "To create the time-averaged intensity, it can be useful to use complex numbers to represent the wave.  Start by representing the electric field as the **imaginary part** of\n",
    "$$\\tilde{E} (x,t) = e^{i (kx - \\omega t)} + e^{i (-kx + \\pi - \\omega t)}.$$\n",
    "That may seem to be an awkward way to represent it, but it is mathematically useful when both parts of the superposition are proportional to $e^{-i \\omega t}$.\n",
    "\n",
    "Create a slider using this new function that involves complex exponentials to confirm that you get the same results as before."
   ]
  },
  {
   "cell_type": "code",
   "execution_count": 69,
   "metadata": {},
   "outputs": [
    {
     "name": "stdout",
     "output_type": "stream",
     "text": [
      "-1.5794848968650006\n"
     ]
    },
    {
     "data": {
      "application/vnd.jupyter.widget-view+json": {
       "model_id": "6e2755d2fea240cea0897c2da20d6644",
       "version_major": 2,
       "version_minor": 0
      },
      "text/plain": [
       "interactive(children=(FloatSlider(value=2.0, description='t', max=5.0, step=0.01), Output()), _dom_classes=('w…"
      ]
     },
     "metadata": {},
     "output_type": "display_data"
    },
    {
     "data": {
      "text/plain": [
       "<function __main__.elec_field2_plot(t)>"
      ]
     },
     "execution_count": 69,
     "metadata": {},
     "output_type": "execute_result"
    }
   ],
   "source": [
    "def elec_field2(x,t):\n",
    "    k = (2*np.pi)/12.2\n",
    "    w = 2*np.pi*2.45\n",
    "    return np.imag(np.exp(1j*(k*x - w*t)) + np.exp(1j*(-k*x+np.pi-w*t)))\n",
    "\n",
    "x = np.linspace(0, 30.5,100)\n",
    "function = np.zeros(len(x))\n",
    "\n",
    "def elec_field2_plot(t):\n",
    "    for i in range(len(x)):\n",
    "        function[i] = elec_field2(x[i], t)\n",
    "        \n",
    "    plt.figure()\n",
    "    plt.plot(x, function)\n",
    "    plt.ylim(-2.5,2.5)\n",
    "    plt.xlabel(\"x (cm)\")\n",
    "    plt.ylabel(\"electric field\")\n",
    "    plt.show()\n",
    "\n",
    "print(elec_field2(2.06 , 1.4))\n",
    "widgets.interact(elec_field2_plot , t=(0, 5, .01))"
   ]
  },
  {
   "cell_type": "markdown",
   "metadata": {},
   "source": [
    "Using this result, it can be shown that the time-averaged intensity is proportional to:\n",
    "$$I (x) = \\tfrac{1}{2}\\big\\vert\\, e^{i k x} + e^{i (-k x + \\pi)} \\,\\big\\vert^2$$\n",
    "This is the absolute value squared of the complex number (excluding the $e^{-i \\omega t}$).  Notice that the result is independent of time, so we can just make a regular plot (without the slider).  Create a plot of the time-averaged intensity."
   ]
  },
  {
   "cell_type": "code",
   "execution_count": 94,
   "metadata": {},
   "outputs": [
    {
     "data": {
      "image/png": "[encoded data removed]",
      "text/plain": [
       "<Figure size 432x288 with 1 Axes>"
      ]
     },
     "metadata": {
      "needs_background": "light"
     },
     "output_type": "display_data"
    }
   ],
   "source": [
    "def time_ave_int(x):\n",
    "    k = (2*np.pi)/12.2\n",
    "    return .5*np.abs(np.exp(1j*k*x)+np.exp(1j*(-k*x+np.pi)))**2\n",
    "\n",
    "\n",
    "xaxis = np.linspace(0, 30.5, 100)\n",
    "function = np.zeros(len(x))\n",
    "for i in range(len(xaxis)):\n",
    "    function[i] = time_ave_int(xaxis[i])\n",
    "\n",
    "plt.figure()\n",
    "plt.plot(xaxis, function, color= \"hotpink\")\n",
    "plt.show()"
   ]
  },
  {
   "cell_type": "code",
   "execution_count": null,
   "metadata": {},
   "outputs": [],
   "source": []
  }
 ],
 "metadata": {
  "kernelspec": {
   "display_name": "Python 3 (ipykernel)",
   "language": "python",
   "name": "python3"
  },
  "language_info": {
   "codemirror_mode": {
    "name": "ipython",
    "version": 3
   },
   "file_extension": ".py",
   "mimetype": "text/x-python",
   "name": "python",
   "nbconvert_exporter": "python",
   "pygments_lexer": "ipython3",
   "version": "3.9.12"
  }
 },
 "nbformat": 4,
 "nbformat_minor": 2
}

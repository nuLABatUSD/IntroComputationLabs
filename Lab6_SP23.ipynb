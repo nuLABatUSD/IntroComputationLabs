{
 "cells": [
  {
   "cell_type": "markdown",
   "metadata": {},
   "source": [
    "# Two-Dimensional Plotting and Matrices"
   ]
  },
  {
   "cell_type": "code",
   "execution_count": null,
   "metadata": {},
   "outputs": [],
   "source": [
    "import numpy as np\n",
    "import matplotlib.pyplot as plt\n",
    "import ipywidgets as widgets"
   ]
  },
  {
   "cell_type": "markdown",
   "metadata": {},
   "source": [
    "This Lab's goal is to create two-dimensional plots, \"heat maps\".  To do this, we need to create and manipulate matrices.  Run the code below."
   ]
  },
  {
   "cell_type": "code",
   "execution_count": null,
   "metadata": {},
   "outputs": [],
   "source": [
    "M = np.zeros((2,3))\n",
    "print(M)"
   ]
  },
  {
   "cell_type": "markdown",
   "metadata": {},
   "source": [
    "## STOP:  Double click this text area and type your answer to the following question:\n",
    "\n",
    "**(1)** What does the code `M = np.zeros((2,3))` create?  What in particular do you notice about the syntax in defining this object?\n",
    "\n"
   ]
  },
  {
   "cell_type": "markdown",
   "metadata": {},
   "source": [
    "You can access the individual terms of the matrix.  For example, ``M[i][j]`` will use the $i$-th row and $j$-th column of ``M``.  Run the code below:"
   ]
  },
  {
   "cell_type": "code",
   "execution_count": null,
   "metadata": {},
   "outputs": [],
   "source": [
    "M[1][0] = 2\n",
    "print(M)"
   ]
  },
  {
   "cell_type": "markdown",
   "metadata": {},
   "source": [
    "(don't forget that we start counting at 0, so that row 1 is the second row and column 0 is the first column)\n",
    "\n",
    "The code below is called a <b>nested</b> loop, where one loop is found inside another.  Run the code below."
   ]
  },
  {
   "cell_type": "code",
   "execution_count": null,
   "metadata": {},
   "outputs": [],
   "source": [
    "for a in range(2):\n",
    "    for b in range(3):\n",
    "        print('a = {}; b = {}; M[a][b] = {}'.format(a,b,M[a][b]))"
   ]
  },
  {
   "cell_type": "markdown",
   "metadata": {},
   "source": [
    "## STOP:  Double click this text area and type your answer to the following question:\n",
    "\n",
    "**(2)** What is happening in the code above?  Note that the `.format( )` statement at the end of the print statement mmeans to print `a` in the first `{}`, `b` in the second `{}` and `M[a][b]` in the third `{}`.\n",
    "\n"
   ]
  },
  {
   "cell_type": "markdown",
   "metadata": {},
   "source": [
    "This nested loop can be used to set the individual values of a matrix using a function as shown below.\n",
    "\n",
    "Run the following code."
   ]
  },
  {
   "cell_type": "code",
   "execution_count": null,
   "metadata": {},
   "outputs": [],
   "source": [
    "def NotFun(a,b):\n",
    "    return a + 3*b\n",
    "M = np.zeros((2,3))\n",
    "for i in range(2):\n",
    "    for j in range(3):\n",
    "        M[i][j] = NotFun(i,j)"
   ]
  },
  {
   "cell_type": "markdown",
   "metadata": {},
   "source": [
    "## STOP:  Double click this text area and type your answer to the following question:\n",
    "\n",
    "**(3)** Before you `print(M)`, predict what `M` is in the space below.  (Then use the code box to print `M` to confirm.)\n"
   ]
  },
  {
   "cell_type": "code",
   "execution_count": null,
   "metadata": {},
   "outputs": [],
   "source": []
  },
  {
   "cell_type": "markdown",
   "metadata": {},
   "source": [
    "To make a 2D plot, we will construct what's called a heat map.  To do this, we first create a function that we will plot.  The function will have two inputs and output a number."
   ]
  },
  {
   "cell_type": "code",
   "execution_count": null,
   "metadata": {},
   "outputs": [],
   "source": [
    "def heat(x,y):\n",
    "    return (x**2 / 1.0) + (y**2 / 0.5)"
   ]
  },
  {
   "cell_type": "markdown",
   "metadata": {},
   "source": [
    "First, we're going to define our x- and y-axes to make the 2D plot, just as we've defined them before:"
   ]
  },
  {
   "cell_type": "code",
   "execution_count": null,
   "metadata": {},
   "outputs": [],
   "source": [
    "x_axis = np.linspace(-2,2,200)\n",
    "y_axis = np.linspace(-3,3,300)"
   ]
  },
  {
   "cell_type": "markdown",
   "metadata": {},
   "source": [
    "Next, we define a matrix that will hold all the data.  Notice that:\n",
    "- The ``np.zeros( ( , ) )`` has two sets of parentheses to deal with making a matrix\n",
    "- The first index is associated with the y-axis.  That's because the first index is the rows of a matrix.\n",
    "- The second index is associated with the x-axis, because the second index is the columns of a matrix."
   ]
  },
  {
   "cell_type": "code",
   "execution_count": null,
   "metadata": {},
   "outputs": [],
   "source": [
    "M_values = np.zeros((len(y_axis),len(x_axis)))"
   ]
  },
  {
   "cell_type": "markdown",
   "metadata": {},
   "source": [
    "We need to introduce two loops, one to get all the rows, and another to do all the columns.  Notice that I need to introduce two different variables for the ``for`` loop, and that here ``i`` corresponds to ``y_axis[i]`` and ``j`` corresponds to ``x_axis[j]``.  Be extremely careful not to mess this up."
   ]
  },
  {
   "cell_type": "code",
   "execution_count": null,
   "metadata": {},
   "outputs": [],
   "source": [
    "for i in range(len(y_axis)):\n",
    "    for j in range(len(x_axis)):\n",
    "        M_values[i,j] = heat(x_axis[j], y_axis[i])"
   ]
  },
  {
   "cell_type": "markdown",
   "metadata": {},
   "source": [
    "The last thing we need to do is make the heat map:"
   ]
  },
  {
   "cell_type": "code",
   "execution_count": null,
   "metadata": {},
   "outputs": [],
   "source": [
    "plt.figure(figsize=(8,8))\n",
    "plt.imshow(M_values, extent=[-2,2,-3,3])\n",
    "plt.colorbar()\n",
    "plt.show()"
   ]
  },
  {
   "cell_type": "markdown",
   "metadata": {},
   "source": [
    "In this code:\n",
    "- ``figsize=(8,8)`` creates an 8x8 figure that includes everything\n",
    "- ``plt.imshow`` creates the color plot\n",
    "- ``extent = [x_min, x_max, y_min, y_max]`` sets the min and max values of x and y\n",
    "- ``plt.colorbar()`` creates the color bar on the right"
   ]
  },
  {
   "cell_type": "markdown",
   "metadata": {},
   "source": [
    "<b>Example:  Double Slit Interference Pattern</b>.  \n",
    "\n",
    "Let's observe the interference pattern of a double slit at any y and at any L (while keeping d and wavelength fixed).  We need functions to deal with the double slit intensity pattern.  To do this, make sure you download the file ``interference.py`` and put it in the same folder as this notebook.  \n",
    "\n",
    "First, we want to ``import`` the functions in this file with an import statement.  When we use the statement ``import numpy as np``, we import all the functions in ``numpy`` and we use those functions with the abbreviation ``np`` (e.g., ``np.linspace( )``).  So, use ``import interference as write_your_abbreviation_here``.  Ok, you should choose something shorter than that.  Don't use anything that Python likes to use (e.g., ``int`` means something, so don't use that)."
   ]
  },
  {
   "cell_type": "code",
   "execution_count": null,
   "metadata": {},
   "outputs": [],
   "source": []
  },
  {
   "cell_type": "markdown",
   "metadata": {},
   "source": [
    "Say you said ``import interference as ChadsInterference``, then we can use the function ``ChadsInterference.DoubleSlitIntensity(y,d,L,lam)`` to get the intensity at location ``y`` mm, with slit spacing ``d`` mm, on the screen distance ``L`` m away, with wavelength ``lam`` nm.  Let's fix d = 0.05 mm and $\\lambda$ = 400 nm, so we would use ``ChadsInterference.DoubleSlitIntensity(y, 0.05, L, 400)`` (remember, you're replacing ``ChadsInterference`` with whatever abbreviation you used alongside ``import interference``.\n",
    "\n",
    "Now, let's make our plot:\n",
    "- Create two arrays:  y values (in mm), with 200 points linearly spaced between -50 and 50 mm; and L values (in m) with 100 points linearly spaced between 0 and 2 m.\n",
    "- Create a matrix of zeros such that the number of rows match with the length of y, and the number of columns match with the length of L (use len, and also remember that the ${\\tt np.zeros}$ command requires two sets of parentheses).\n",
    "- Use a nested for loop to assign the individual elements of your matrix using your intensity function.  To do this, you're going to have to use as inputs to your intensity function the ``y[i]`` from the appropriate row and the ``L[j]`` from the appropriate column.  (e.g., ``ChadsInterference.DoubleSlitIntensity(y[i],0.05,L[j],400)``)\n",
    "- Use ``imshow`` to create a heat map.  Here, you should use ``extent=[0,2,-50,50]``, also introduce ``aspect=0.02`` to stretch out the horizontal scale, so: ``plt.imshow(YourMatrixName,extent=[0,2,-50,50],aspect=0.02)``, where ``YourMatrixName`` is the name of the matrix you created."
   ]
  },
  {
   "cell_type": "code",
   "execution_count": null,
   "metadata": {},
   "outputs": [],
   "source": []
  },
  {
   "cell_type": "markdown",
   "metadata": {},
   "source": [
    "## Now it's your turn.\n",
    "**Interference pattern from holes in 2-dimensions**.  Rather than interference from slits, we will look at the interference pattern from tiny holes arranged in a circular pattern.\n",
    "\n",
    "The file ``interference.py`` includes a function, ``NIntensity2D()`` whose inputs are: ``x_in_mm``, ``y_in_mm``, and ``N`` (the number of tiny holes).  "
   ]
  },
  {
   "cell_type": "markdown",
   "metadata": {},
   "source": [
    "Now, let's create a heat map of the intensity.  **Create a function** whose input is ``N``, and uses that value of ``N`` to create the intensity pattern from N-holes.  To do this, you should:\n",
    "- Create two linearly spaces arrays to represent the x- and y-axes, each array should span from -50 to 50 mm, with 100 points each.\n",
    "- Create a matrix that will store the intensities for the locations (x,y) on the spring\n",
    "- Use the nested ``for`` loops to fill in all the terms of the matrix.  Note that the first two inputs of the ``NIntensity2D`` function that you import from ``interference`` are in mm, so there is no need for any unit conversions.\n",
    "    - In your nested loops, you should be very careful to use the appropriate indexes for x and y.  Look at your previous example to recognize how we associate the first index (rows) with y, and the second index (columns) with x.\n",
    "- Create a heat map.  Note that you'll want to use the appropriate values for the ``extent`` input to ``imshow``, but also you can either not include ``aspect`` or try ``aspect=1``.\n",
    "\n",
    "**Test your function for N = 4.**"
   ]
  },
  {
   "cell_type": "code",
   "execution_count": null,
   "metadata": {},
   "outputs": [],
   "source": []
  },
  {
   "cell_type": "markdown",
   "metadata": {},
   "source": [
    "Create a slider that allows you to look at N = 2 to 10."
   ]
  },
  {
   "cell_type": "code",
   "execution_count": null,
   "metadata": {},
   "outputs": [],
   "source": []
  },
  {
   "cell_type": "markdown",
   "metadata": {},
   "source": [
    "## Completing this lab in its entirety is Homework 6.  Please Submit by Monday, April 3\n",
    "\n",
    "Before you submit, make sure that your code works with Kernel > Restart & Run All"
   ]
  },
  {
   "cell_type": "code",
   "execution_count": null,
   "metadata": {},
   "outputs": [],
   "source": []
  }
 ],
 "metadata": {
  "kernelspec": {
   "display_name": "Python 3 (ipykernel)",
   "language": "python",
   "name": "python3"
  },
  "language_info": {
   "codemirror_mode": {
    "name": "ipython",
    "version": 3
   },
   "file_extension": ".py",
   "mimetype": "text/x-python",
   "name": "python",
   "nbconvert_exporter": "python",
   "pygments_lexer": "ipython3",
   "version": "3.9.7"
  }
 },
 "nbformat": 4,
 "nbformat_minor": 2
}

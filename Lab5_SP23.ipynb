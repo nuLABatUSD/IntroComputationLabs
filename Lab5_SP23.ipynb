{
 "cells": [
  {
   "cell_type": "markdown",
   "metadata": {},
   "source": [
    "# Interference Phenomena"
   ]
  },
  {
   "cell_type": "code",
   "execution_count": null,
   "metadata": {},
   "outputs": [],
   "source": [
    "import numpy as np\n",
    "import matplotlib.pyplot as plt\n",
    "import ipywidgets as widgets"
   ]
  },
  {
   "cell_type": "markdown",
   "metadata": {},
   "source": [
    "We can create variables that can be used in calculations and in functions.  Here's two constants in SI units:"
   ]
  },
  {
   "cell_type": "code",
   "execution_count": null,
   "metadata": {},
   "outputs": [],
   "source": [
    "hbar_SI = 1.055e-34\n",
    "c_SI = 3.00e8\n",
    "\n",
    "def x_times_hbar_c(x):\n",
    "    return x * hbar_SI * c_SI"
   ]
  },
  {
   "cell_type": "code",
   "execution_count": null,
   "metadata": {},
   "outputs": [],
   "source": [
    "print(x_times_hbar_c)"
   ]
  },
  {
   "cell_type": "markdown",
   "metadata": {},
   "source": [
    "A function is a bunch of rules.  What happened here?  We asked Python to print ``x_times_hbar_c`` which is the **name** of a function, which is just a bunch of rules.  So, Python responded by showing you where in its memory it is storing those rules.\n",
    "\n",
    "We fix this below, by giving the function an input.  A function is something that takes inputs and follows rules to create outputs."
   ]
  },
  {
   "cell_type": "code",
   "execution_count": null,
   "metadata": {},
   "outputs": [],
   "source": [
    "print(x_times_hbar_c(2))"
   ]
  },
  {
   "cell_type": "markdown",
   "metadata": {},
   "source": [
    "Oh no, what are we doing here?"
   ]
  },
  {
   "cell_type": "code",
   "execution_count": null,
   "metadata": {},
   "outputs": [],
   "source": [
    "def weird_function(hbar_SI, c_SI):\n",
    "    return hbar_SI * c_SI"
   ]
  },
  {
   "cell_type": "code",
   "execution_count": null,
   "metadata": {},
   "outputs": [],
   "source": [
    "print(weird_function)"
   ]
  },
  {
   "cell_type": "markdown",
   "metadata": {},
   "source": [
    "Why doesn't Python know what ``weird_function`` is?  It seems like we fully defined the inputs.  Well, a function takes inputs and produces outputs.  So, the inputs to a function are called **local variables**, they are names that just exist for the purposes of the function."
   ]
  },
  {
   "cell_type": "code",
   "execution_count": null,
   "metadata": {},
   "outputs": [],
   "source": [
    "print(weird_function(1,2))"
   ]
  },
  {
   "cell_type": "markdown",
   "metadata": {},
   "source": [
    "Let's show how all of this works:"
   ]
  },
  {
   "cell_type": "code",
   "execution_count": null,
   "metadata": {},
   "outputs": [],
   "source": [
    "def weird_function(hbar_SI, c_SI):\n",
    "    print(hbar_SI, c_SI)\n",
    "    return hbar_SI * c_SI\n",
    "\n",
    "print(weird_function(1,2))\n",
    "print(hbar_SI, c_SI)"
   ]
  },
  {
   "cell_type": "markdown",
   "metadata": {},
   "source": [
    "What happened?  Within the function ``weird_function``, the variables ``hbar_SI`` and ``c_SI`` are called **local variables** they just exist inside the function and they are independent of variables outside the function.\n",
    "\n",
    "So, when we print ``hbar_SI`` and ``c_SI`` **inside** the function, we get the values of the inputs (1 and 2); while if we print ``hbar_SI`` and ``c_SI`` **outside** the function, we get the previously defined values.\n",
    "\n",
    "One last thing, variables defined inside functions, stay inside them.  Those are local variables."
   ]
  },
  {
   "cell_type": "code",
   "execution_count": null,
   "metadata": {},
   "outputs": [],
   "source": [
    "def x_times_hbar_c_2(x):\n",
    "    result_xhc = x * hbar_SI * c_SI\n",
    "    return result_xhc"
   ]
  },
  {
   "cell_type": "code",
   "execution_count": null,
   "metadata": {},
   "outputs": [],
   "source": [
    "print(x_times_hbar_c_2(2))\n",
    "print(result_xhc)"
   ]
  },
  {
   "cell_type": "markdown",
   "metadata": {},
   "source": [
    "In the last lab, you were asked to do a double slit interference pattern.  Here are some functions you needed.  (Run it with Shift-Enter so you can use them.)"
   ]
  },
  {
   "cell_type": "code",
   "execution_count": null,
   "metadata": {},
   "outputs": [],
   "source": [
    "def convert_units(y_mm, s_mm, L_m, lam_nm):\n",
    "    y_m = y_mm * 1e-3\n",
    "    s_m = s_mm * 1e-3\n",
    "    lam_m = lam_nm * 1e-9\n",
    "    return y_m, s_m, L_m, lam_m\n",
    "\n",
    "def r(y_in_m, s_in_m, L_in_m):\n",
    "    return np.sqrt(L_in_m**2 + (y_in_m-s_in_m)**2)\n",
    "\n",
    "def ComplexWave(r_in_m, lam_in_m):\n",
    "    return np.exp(1j * 2 * np.pi * r_in_m / lam_in_m)\n",
    "\n",
    "def DoubleSlitIntensity(y_in_mm, d_in_mm, L_in_m, lam_in_nm):\n",
    "    y_m, d_m, L_m, lam_m = convert_units(y_in_mm, d_in_mm, L_in_m, lam_in_nm)\n",
    "    \n",
    "    total_wave = 0\n",
    "    \n",
    "    r_value = r(y_m, -d_m/2, L_m)\n",
    "    total_wave = total_wave + ComplexWave(r_value, lam_m)\n",
    "    \n",
    "    r_value = r(y_m, d_m/2, L_m)\n",
    "    total_wave = total_wave + ComplexWave(r_value, lam_m)\n",
    "    \n",
    "    return (np.abs(total_wave))**2"
   ]
  },
  {
   "cell_type": "markdown",
   "metadata": {},
   "source": [
    "- Function: ``DoubleSlitIntensity(y_in_mm, d_in_mm, L_in_m, lam_in_nm)``:\n",
    "    - **Inputs**: ``y_in_mm``: location on screen in mm\n",
    "    - ``d_in_mm``: distance between slits in mm\n",
    "    - ``L_in_m``: distance to screen in m\n",
    "    - ``lam_in_nm``: wavelength in nm\n",
    "    - **Output**: Intensity of light"
   ]
  },
  {
   "cell_type": "markdown",
   "metadata": {},
   "source": [
    "Now, we want to make a plot.  Let's use $d = 0.05~{\\rm mm}$, $L = 2~{\\rm m}$, $\\lambda = 400~{\\rm nm}$ and the function ``DoubleSlitIntensity()`` to make a plot between $y = -50~{\\rm mm}$ to $50~{\\rm mm}$.  Most of the code is written below, just include the one missing line:"
   ]
  },
  {
   "cell_type": "code",
   "execution_count": null,
   "metadata": {},
   "outputs": [],
   "source": [
    "y = np.linspace(-50,50,1000)\n",
    "intensity = np.zeros(len(y))\n",
    "for i in range(len(y)):\n",
    "    intensity[i] = DoubleSlitIntensity()   #<== put the appropriate inputs to the function here\n",
    "plt.figure()\n",
    "plt.plot(y,intensity)\n",
    "plt.ylabel(\"Intensity\")\n",
    "plt.xlabel(\"y (mm)\")\n",
    "plt.show()"
   ]
  },
  {
   "cell_type": "markdown",
   "metadata": {},
   "source": [
    "We want to deal with an N-slit device: one that has an arbitrary number of slits.  To do this we need to generalize our Double Slit function to have multiple slits.  We will walk through how to use the code as written above and incorporate a ``for`` loop."
   ]
  },
  {
   "cell_type": "markdown",
   "metadata": {},
   "source": [
    "First, let's create an array that has the locations of the two slits: "
   ]
  },
  {
   "cell_type": "code",
   "execution_count": null,
   "metadata": {},
   "outputs": [],
   "source": [
    "d_in_m = 0.05 * 1e-3\n",
    "slit_locations = np.array([-d_in_m/2, d_in_m/2])"
   ]
  },
  {
   "cell_type": "markdown",
   "metadata": {},
   "source": [
    "Use a print statement to figure out what is ``slit_locations[0]`` and ``slit_locations[1]``."
   ]
  },
  {
   "cell_type": "code",
   "execution_count": null,
   "metadata": {},
   "outputs": [],
   "source": []
  },
  {
   "cell_type": "markdown",
   "metadata": {},
   "source": [
    "Now we are ready to create a new function.  In the function below, replace the ``*!*!*`` with either ``slit_locations[0]`` or ``slit_locations[1]`` to match the function ``DoubleSlitIntensity( )`` above."
   ]
  },
  {
   "cell_type": "code",
   "execution_count": null,
   "metadata": {},
   "outputs": [],
   "source": [
    "def NSlitIntensity_1(y_in_mm, d_in_mm, L_in_m, lam_in_nm):\n",
    "    y_m, d_m, L_m, lam_m = convert_units(y_in_mm, d_in_mm, L_in_m, lam_in_nm)\n",
    "    \n",
    "    slit_locations = np.array([-d_m/2, d_m/2])\n",
    "    \n",
    "    total_wave = 0\n",
    "    \n",
    "    r_value = r(y_m, *!*!*, L_m)\n",
    "    total_wave = total_wave + ComplexWave(r_value, lam_m)\n",
    "    \n",
    "    r_value = r(y_m, *!*!*, L_m)\n",
    "    total_wave = total_wave + ComplexWave(r_value, lam_m)\n",
    "    \n",
    "    return (np.abs(total_wave))**2"
   ]
  },
  {
   "cell_type": "markdown",
   "metadata": {},
   "source": [
    "Now, we need to test that this works.  Make a plot, as you did above, except use this new function, ``NSlitIntensity_1``."
   ]
  },
  {
   "cell_type": "code",
   "execution_count": null,
   "metadata": {},
   "outputs": [],
   "source": []
  },
  {
   "cell_type": "markdown",
   "metadata": {},
   "source": [
    "Once this works, hopefully you'll notice that this is ripe for the use of a ``for`` loop.  In the function below, use a ``for`` loop to have the same result as ``NSlitIntensity_1`` above.  Follow it up by making a plot to ensure we get the same results.  Remember, instead of using ``in range(2):`` for your loop, try using ``in range(len(slit_locations)):``"
   ]
  },
  {
   "cell_type": "code",
   "execution_count": null,
   "metadata": {},
   "outputs": [],
   "source": [
    "def NSlitIntensity_2(y_in_mm, d_in_mm, L_in_m, lam_in_nm):\n",
    "    y_m, d_m, L_m, lam_m = convert_units(y_in_mm, d_in_mm, L_in_m, lam_in_nm)\n",
    "    \n",
    "    slit_locations = np.array([-d_m/2, d_m/2])\n",
    "    \n",
    "    total_wave = 0\n",
    "    \n",
    "    #########################\n",
    "    # Put a for loop here to calculate total_wave\n",
    "    \n",
    "    \n",
    "    \n",
    "    return (np.abs(total_wave))**2"
   ]
  },
  {
   "cell_type": "code",
   "execution_count": null,
   "metadata": {},
   "outputs": [],
   "source": []
  },
  {
   "attachments": {
    "282fig2.jpg": {
     "image/jpeg": "[encoded data removed]"
    }
   },
   "cell_type": "markdown",
   "metadata": {},
   "source": [
    "Now we can generalize our result to have N-slits.  The difference is that instead of adding two waves (two complex exponentials) as we did for the double slit, we will add N waves.  Hopefully, we wrote our ``for`` loop generally enough to take this into account.\n",
    "\n",
    "First, let's sketch a 2-, 3-, and 4-slit device.  In the figure, the dashed line represents the center, which we will call $s = 0$, and we will call $d$ the distance between the slits.\n",
    "\n",
    "![282fig2.jpg](attachment:282fig2.jpg)"
   ]
  },
  {
   "cell_type": "markdown",
   "metadata": {},
   "source": [
    "We are going to use $d = 0.05~{\\rm mm}$.  The table below shows the value of N (number of slits) and the slit locations (given here, in mm).\n",
    "\n",
    "- N = 2, d = 0.05:  -0.025 mm, 0.025 mm\n",
    "- N = 3, d = 0.05:  -0.05 mm, 0 mm, 0.05 mm\n",
    "- N = 4, d = 0.05:  -0.075 mm, -0.025 mm, 0.025 mm, 0.075 mm\n"
   ]
  },
  {
   "cell_type": "markdown",
   "metadata": {},
   "source": [
    "First, create a function that takes inputs ``N`` and ``d_in_mm``, and outputs an array with N elements that has the location of the slits.  Where are they?  It happens they follow the formula:\n",
    "\n",
    "$\\displaystyle s_i = - \\frac{d (N-1)}{2} + i d$, for $i = 0, 1, \\ldots, N-1$.\n",
    "\n",
    "How do we know this is correct?  First, write a function that will create an array of these values.  In the function you will:\n",
    "- first, initialize an array, as we've done when creating the y-axis for plots.\n",
    "- next, use a ``for`` loop to set the individual elements of the array, using the formula above."
   ]
  },
  {
   "cell_type": "code",
   "execution_count": null,
   "metadata": {},
   "outputs": [],
   "source": [
    "def make_slits(N,d_in_m):\n",
    "    slits =                 #<== Initialize an array\n",
    "    \n",
    "    ##############\n",
    "    # Use a for loop to set the individual values of the slits array\n",
    "    \n",
    "    return slits"
   ]
  },
  {
   "cell_type": "markdown",
   "metadata": {},
   "source": [
    "Test it out your function with d = 0.05 mm and N = 2, 3 and 4, and make sure the results make sense."
   ]
  },
  {
   "cell_type": "code",
   "execution_count": null,
   "metadata": {},
   "outputs": [],
   "source": [
    "# change the line below to test that your function works as expected:\n",
    "print(make_slits( , 0.05 * 1e-3))"
   ]
  },
  {
   "cell_type": "markdown",
   "metadata": {},
   "source": [
    "Now we're ready to create a function that **has five inputs** -- N and the four inputs from ``DoubleSlitIntensity()`` (or ``NSlitIntensity_1`` and 2), and that outputs the intensity using the same process as in ``NSlitIntensity_2``.  (In fact, you should start with ``NSlitIntensity_2`` and modify it for your needs.  There should only be a couple of small modifications!)."
   ]
  },
  {
   "cell_type": "code",
   "execution_count": null,
   "metadata": {},
   "outputs": [],
   "source": []
  },
  {
   "cell_type": "markdown",
   "metadata": {},
   "source": [
    "How do we test if this works?  We can test the function with d = 0.05 mm, L = 2 m, $\\lambda$ = 400 nm, and N = 2.  This is important because it should look exactly like the double slit."
   ]
  },
  {
   "cell_type": "code",
   "execution_count": null,
   "metadata": {},
   "outputs": [],
   "source": []
  },
  {
   "cell_type": "markdown",
   "metadata": {},
   "source": [
    "Create a function that plots the intensity.  The function should have inputs: N, d, L, and $\\lambda$, and it should make a plot using the NIntensity function to plot intensity versus y for y from -50 to 50 mm.  Test your function with the same inputs as the double slit to make sure it works."
   ]
  },
  {
   "cell_type": "code",
   "execution_count": null,
   "metadata": {},
   "outputs": [],
   "source": []
  },
  {
   "cell_type": "markdown",
   "metadata": {},
   "source": [
    "Make a new slider that includes a range of N = 2 to 10 in increments of 1.  (Yes, you will have sliders for the other four varaibles as well.)  What happens as N increases?"
   ]
  },
  {
   "cell_type": "code",
   "execution_count": null,
   "metadata": {},
   "outputs": [],
   "source": []
  },
  {
   "cell_type": "markdown",
   "metadata": {},
   "source": [
    "<b>Example:  Single-Slit Diffraction.</b>  Now, single-slit diffraction can be treated as if there are many (infinitely many?) slits providing waves that interfere at the screen.  So, how do we use what we've already created to do single slit?  \n",
    "\n",
    "The inputs to our plotting function were N, d, L, $\\lambda$.  L and $\\lambda$ have nothing to do with the slit, but N is the number of slits and d is the distance between them.\n",
    "\n",
    "Our goal is to make N as big as possible (without killing our computer).  How do we find d?  Well, we usually call the width of the slit a.  The entire slit is going to include N-1 increments of d, therefore:  $\\displaystyle d = a / (N-1)$.  "
   ]
  },
  {
   "cell_type": "markdown",
   "metadata": {},
   "source": [
    "Create a function that accepts as inputs:  N, a, L and $\\lambda$.  This function will plot the single slit interference pattern for a slit with width a, plot the intensity as a function of y using 100 points on the screen between y = -50 mm and y = +50 mm.\n",
    "\n",
    "Once you have a function, test it out with N = 100, a = 0.05 mm, L = 2 m and $\\lambda$ = 400 nm.  Can you run it 10 times longer without it taking more than a second or so?  Try it out.  Increase by factors of 10 until the running time takes longer than a second (or until you reach N = $10^9$, because that's a lot)."
   ]
  },
  {
   "cell_type": "code",
   "execution_count": null,
   "metadata": {},
   "outputs": [],
   "source": []
  },
  {
   "cell_type": "markdown",
   "metadata": {},
   "source": [
    "How do we know that was correct?  First off, does it have the right form?\n",
    "\n",
    "Second, we should do a calculation to see what we expect.  The second minimum (destructive interference) occurs at:\n",
    "<center> $a \\sin \\theta = 2 \\lambda$</center>\n",
    "which corresponds to a y value:\n",
    "<center>$ y = L \\tan \\theta$.</center>\n",
    "Let's use a wavelength of 400 nm, with L = 2 m and a = 0.05 mm.  Calculate the expected location of the second minimum.  Does it agree with your graph?"
   ]
  },
  {
   "cell_type": "code",
   "execution_count": null,
   "metadata": {},
   "outputs": [],
   "source": []
  },
  {
   "cell_type": "markdown",
   "metadata": {},
   "source": [
    "Create a slider to show the results when wavelength, L or a is changed:\n",
    "- Wavelength values of 400 to 700 nm, in increments of 10 nm\n",
    "- L from 1 to 2 m, in increments of 0.1 m\n",
    "- a from 0.01 to 0.1 mm in increments of 0.01 mm\n",
    "Double check with the values you've already used to make sure it works."
   ]
  },
  {
   "cell_type": "code",
   "execution_count": null,
   "metadata": {},
   "outputs": [],
   "source": []
  },
  {
   "cell_type": "markdown",
   "metadata": {},
   "source": [
    "Use your slider to answer the following:"
   ]
  },
  {
   "cell_type": "code",
   "execution_count": null,
   "metadata": {},
   "outputs": [],
   "source": [
    "# When wavelength increases, the pattern:\n",
    "# When L increases, the pattern:\n",
    "# When a increases, the pattern:"
   ]
  },
  {
   "cell_type": "markdown",
   "metadata": {},
   "source": [
    "## Completing this lab in its entirety is Homework 5.  Please Submit by Monday, March 27\n",
    "\n",
    "Before you submit, make sure that your code works with Kernel > Restart & Run All"
   ]
  },
  {
   "cell_type": "code",
   "execution_count": null,
   "metadata": {},
   "outputs": [],
   "source": []
  }
 ],
 "metadata": {
  "kernelspec": {
   "display_name": "Python 3 (ipykernel)",
   "language": "python",
   "name": "python3"
  },
  "language_info": {
   "codemirror_mode": {
    "name": "ipython",
    "version": 3
   },
   "file_extension": ".py",
   "mimetype": "text/x-python",
   "name": "python",
   "nbconvert_exporter": "python",
   "pygments_lexer": "ipython3",
   "version": "3.9.7"
  }
 },
 "nbformat": 4,
 "nbformat_minor": 2
}

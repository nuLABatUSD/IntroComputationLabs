{
 "cells": [
  {
   "cell_type": "markdown",
   "metadata": {},
   "source": [
    "# Lab 9: Random Numbers and Random Walks"
   ]
  },
  {
   "cell_type": "code",
   "execution_count": null,
   "metadata": {},
   "outputs": [],
   "source": [
    "import numpy as np\n",
    "import matplotlib.pyplot as plt"
   ]
  },
  {
   "cell_type": "markdown",
   "metadata": {},
   "source": [
    "Random numbers play an important role in many computational methods. ``numpy`` has methods to create \"pseudo-random\" numbers. Run the following code:"
   ]
  },
  {
   "cell_type": "code",
   "execution_count": null,
   "metadata": {},
   "outputs": [],
   "source": [
    "rng = np.random.default_rng()\n",
    "for i in range(10):\n",
    "    print(rng.random())"
   ]
  },
  {
   "cell_type": "markdown",
   "metadata": {},
   "source": [
    "Now, run it again... and again. What do you notice?"
   ]
  },
  {
   "cell_type": "markdown",
   "metadata": {},
   "source": [
    "These numbers are called pseudo-random because they aren't truly random (a numerical scheme is used to calculate them), but they are random in the sense that there is no correlation between successive random numbers. ``rng = np.random.default_rng()`` creates a random number generator, a Python object that we will use to create random numbers. Then, ``rng.random()`` samples a random number uniformly distributed between 0 and 1. However, it can be difficult to test your code if there's always new random numbers being created. So, we can introduce what is called a seed, an integer that we use to start the calculations of these pseudo-random numbers. In the code below replace ``...`` with an integer (any integer) and run it:"
   ]
  },
  {
   "cell_type": "code",
   "execution_count": null,
   "metadata": {},
   "outputs": [],
   "source": [
    "rng = np.random.default_rng(...)\n",
    "for i in range(10):\n",
    "    print(rng.random())"
   ]
  },
  {
   "cell_type": "markdown",
   "metadata": {},
   "source": [
    "Ok, this looks indistinguishably random like before. The power is when you run the code again... and again. (Do it.) So, what's the difference? When we give the random number generator a fixed value (called a seed), then it starts its calculations from the same number, which means the \"pseudo-random\" numbers that are created are always the same. When we ran the code before without a seed, Python just used your computer's time to choose its seed, which is why the results are not repeatable."
   ]
  },
  {
   "cell_type": "markdown",
   "metadata": {},
   "source": [
    "A histogram is useful in visualizing random numbers. To use this, we need to first create an array of random numbers. Our random number generator has a useful way to do this:"
   ]
  },
  {
   "cell_type": "code",
   "execution_count": null,
   "metadata": {},
   "outputs": [],
   "source": [
    "random_vals = rng.random(100)\n",
    "print(random_vals)"
   ]
  },
  {
   "cell_type": "markdown",
   "metadata": {},
   "source": [
    "The argument to ``rng.random( )`` is the size of the array that it creates. We can visualize this two ways, first as a simple plot, to show that the series appears to be random, and a histogram that shows the distribution of these random values."
   ]
  },
  {
   "cell_type": "code",
   "execution_count": null,
   "metadata": {},
   "outputs": [],
   "source": [
    "plt.figure()\n",
    "plt.plot(random_vals, 'o')\n",
    "plt.figure()\n",
    "plt.hist(random_vals)\n",
    "plt.show()"
   ]
  },
  {
   "cell_type": "markdown",
   "metadata": {},
   "source": [
    "This does not look great. In the cell below, put all the code needed to create one million random numbers and create a histogram."
   ]
  },
  {
   "cell_type": "code",
   "execution_count": null,
   "metadata": {},
   "outputs": [],
   "source": []
  },
  {
   "cell_type": "markdown",
   "metadata": {},
   "source": [
    "As expected, you should see approximately 100,000 points in each of the 10 bins. However, it seems a little crude to plot only 10 bins with a million data points. ``plt.hist(random_vals, 100)`` will create 100 bins. See what happens. And, run the code again, and again. You'll notice that there are slight fluctuations in the distributions. This is because the random numbers are indeed random."
   ]
  },
  {
   "cell_type": "code",
   "execution_count": null,
   "metadata": {},
   "outputs": [],
   "source": []
  },
  {
   "cell_type": "markdown",
   "metadata": {},
   "source": [
    "Another useful distribution is the standard normal distribution, also known as a Gaussian with zero mean and standard deviation of 1. To use this, we can simply repeat our steps but with ``rng.standard_normal(size)`` as the function to generate an array of standard normal random numbers. In the cell below, copy all the code you'll need (starting with ``rng = np.random.default_rng()`` to create a histogram of one million standard normal random numbers."
   ]
  },
  {
   "cell_type": "code",
   "execution_count": null,
   "metadata": {},
   "outputs": [],
   "source": []
  },
  {
   "cell_type": "markdown",
   "metadata": {},
   "source": [
    "Once you're happy with your result, copy and paste your code into your submission notebook and make sure it runs."
   ]
  },
  {
   "cell_type": "markdown",
   "metadata": {},
   "source": [
    "A **random walk** is a model for diffusion, where a walker takes steps that are defined by a random number generator. Run the following code:"
   ]
  },
  {
   "cell_type": "code",
   "execution_count": null,
   "metadata": {},
   "outputs": [],
   "source": [
    "for i in range(10):\n",
    "    print(rng.choice((-1,1)))"
   ]
  },
  {
   "cell_type": "markdown",
   "metadata": {},
   "source": [
    "Run the code again and again. What does it appear is happening? \n",
    "\n",
    "We can be a little more precise because ``rng.choice((-1,1), 1000)`` creates 1000 random numbers. Make a histogram to confirm that the random number generator samples +1 and -1 with a 50/50 probability."
   ]
  },
  {
   "cell_type": "code",
   "execution_count": null,
   "metadata": {},
   "outputs": [],
   "source": []
  },
  {
   "cell_type": "markdown",
   "metadata": {},
   "source": [
    "In a random walk, the location of the walker changes by +1 or -1 at each step, so we may look to do something like:"
   ]
  },
  {
   "cell_type": "code",
   "execution_count": null,
   "metadata": {},
   "outputs": [],
   "source": [
    "location = np.zeros(4)\n",
    "\n",
    "location[0] = 0\n",
    "\n",
    "location[1] = location[0] + rng.choice((-1,1))\n",
    "location[2] = location[1] + rng.choice((-1,1))\n",
    "location[3] = location[2] + rng.choice((-1,1))\n",
    "\n",
    "plt.figure()\n",
    "plt.plot(location, '-o')"
   ]
  },
  {
   "cell_type": "markdown",
   "metadata": {},
   "source": [
    "Run the code many times to confirm that it appears to be a random walk that starts at zero, and takes a random step of +1 or -1 at every time step. We want to both have many more steps and to automate this with a ``for`` loop (and make sure your loop starts on the correct index). Create and plot a random walk with 100 steps."
   ]
  },
  {
   "cell_type": "code",
   "execution_count": null,
   "metadata": {},
   "outputs": [],
   "source": []
  },
  {
   "cell_type": "markdown",
   "metadata": {},
   "source": [
    "Even better, we can write a function. Create a function with:\n",
    "- Input ``N``, the number of steps in the random walk\n",
    "- Output is a random walk as a ``numpy`` array of length ``N`` (initialize with ``np.zeros(N)`` then set the terms using a loop)\n",
    "\n",
    "We can then plot it:\n",
    "- ``plt.figure()``\n",
    "- ``plt.plot(your_function_name(100))``\n",
    "- ``plt.show``\n",
    "\n",
    "Using your function name, these three lines would create a plot of a random walk."
   ]
  },
  {
   "cell_type": "code",
   "execution_count": null,
   "metadata": {},
   "outputs": [],
   "source": []
  },
  {
   "cell_type": "markdown",
   "metadata": {},
   "source": [
    "Once you like your results, copy and paste your code to the submission notebook and make sure it works."
   ]
  },
  {
   "cell_type": "markdown",
   "metadata": {},
   "source": [
    "Random walks are useful in the aggregation of many walks and taking averages. To do this, it's useful to have a matrix as a data structure, replace the name of your random walk function below and run"
   ]
  },
  {
   "cell_type": "code",
   "execution_count": null,
   "metadata": {},
   "outputs": [],
   "source": [
    "matrix_of_walks = np.zeros((2000, 100))\n",
    "matrix_of_walks[0, :] = your_function_here(100)\n",
    "\n",
    "time = np.arange(100)\n",
    "\n",
    "plt.figure()\n",
    "plt.plot(time, matrix_of_walks[0,:], color='blue')\n",
    "plt.plot(time, matrix_of_walks[1,:], color='black')\n",
    "plt.show()"
   ]
  },
  {
   "cell_type": "markdown",
   "metadata": {},
   "source": [
    "- The first line creates a 2000 x 100 matrix. In this matrix, the first index is a trial number (0 to 1999) and the second index is a time index (0 to 99).\n",
    "- The second line sets the first row of the matrix ``[0,:]`` equal to a random walk of 100 steps. this sets trial number 0, and the 100 steps.\n",
    "- We then create an array. The time array is 100 points from 0 to 99.\n",
    "- The plots show two things: in blue, you see a random walk; in black, you see nothing (because the code I've provided you doesn't do the other rows of the matrix).\n",
    "\n",
    "Now, we want to use a loop to create all 2000 random walks, and set them equal to different random walks. Next, we want to plot some of them. It may stress your computer to plot all 2000 walks, but we can plot, say 100 of them. To do this, you can use your ``plt.plot(time, matrix_of_walks[i,:])`` within a loop to give Python 100 plot statements! The statement ``matrix_of_walks[i,:]`` is an array that represents trial i and all 100 steps in the random walk."
   ]
  },
  {
   "cell_type": "code",
   "execution_count": null,
   "metadata": {},
   "outputs": [],
   "source": []
  },
  {
   "cell_type": "markdown",
   "metadata": {},
   "source": [
    "In random walks, the most useful quantity is called the mean-squared-displacement, or msd for short. This is the average value of the position, squared. First, let's look at the arrays ``matrix_of_walks[:,0]``; ``matrix_of_walks[:,1]``; and ``matrix_of_walks[:,2]``. The ``:`` means we are looking at all trials, and the 0, 1, and 2 mean we are looking at the initial location, the location after one step, and the step after that."
   ]
  },
  {
   "cell_type": "code",
   "execution_count": null,
   "metadata": {},
   "outputs": [],
   "source": [
    "print(matrix_of_walks[:,0])\n",
    "print(matrix_of_walks[:,1])\n",
    "print(matrix_of_walks[:,2])"
   ]
  },
  {
   "cell_type": "markdown",
   "metadata": {},
   "source": [
    "We can also square these arrays,"
   ]
  },
  {
   "cell_type": "code",
   "execution_count": null,
   "metadata": {},
   "outputs": [],
   "source": [
    "print(matrix_of_walks[:,0]**2)\n",
    "print(matrix_of_walks[:,1]**2)\n",
    "print(matrix_of_walks[:,2]**2)"
   ]
  },
  {
   "cell_type": "markdown",
   "metadata": {},
   "source": [
    "Finally, we can find the average (msd):"
   ]
  },
  {
   "cell_type": "code",
   "execution_count": null,
   "metadata": {},
   "outputs": [],
   "source": [
    "print(np.mean(matrix_of_walks[:,0]**2))\n",
    "print(np.mean(matrix_of_walks[:,1]**2))\n",
    "print(np.mean(matrix_of_walks[:,2]**2))"
   ]
  },
  {
   "cell_type": "markdown",
   "metadata": {},
   "source": [
    "The first two steps results should make sense. After that, randomness ensues. We want to do this for all 100 time steps.\n",
    "\n",
    "To do this we will need to:\n",
    "- initialize an array of length 100 to store all our msd values\n",
    "- Use a ``for`` loop to calculate each msd value and store it in our array\n",
    "- Create a plot of msd vs. time"
   ]
  },
  {
   "cell_type": "code",
   "execution_count": null,
   "metadata": {},
   "outputs": [],
   "source": []
  },
  {
   "cell_type": "markdown",
   "metadata": {},
   "source": [
    "Finally, we can ask what we should expect. Statistical analysis of the random walk problem finds that we expect that \n",
    "$${\\rm msd} = 2 D ({\\rm time}),$$\n",
    "$D$ is called the diffusion coefficient, and in these units, $D = 0.5$. So, create a plot that has two curves, msd. vs time from your random walks, and the mathematical model with $D = 0.5$."
   ]
  },
  {
   "cell_type": "code",
   "execution_count": null,
   "metadata": {},
   "outputs": [],
   "source": []
  },
  {
   "cell_type": "markdown",
   "metadata": {},
   "source": [
    "**Exercise**: Gaussian (standard normal) random walks. It's a little disjoint to see steps just +1 or -1. So, instead of ``rng.choice((-1,1))``, let's use ``rng.standard_normal()`` to determine the step size. Now, not only can the step be positive or negative, but its size can vary. This will lead to smoother (and sometimes crazier) looking results. In the cell below, include all the code needed to:\n",
    "- A function that takes N as an input and outputs an array of length N that is a random walk whose steps are chosen by taking standard normal steps.\n",
    "- Create a matrix of 2000 trials, each of 100 steps\n",
    "- Plot 100 of these trials\n",
    "- Calculate msd at each of the 100 time steps\n",
    "- Plot msd vs. time and include a second plot with the $D = 0.5$ model curve."
   ]
  },
  {
   "cell_type": "code",
   "execution_count": null,
   "metadata": {},
   "outputs": [],
   "source": []
  },
  {
   "cell_type": "markdown",
   "metadata": {},
   "source": [
    "When you are satisfied with your results, copy and paste your results into the submission notebook and make sure it works!"
   ]
  }
 ],
 "metadata": {
  "kernelspec": {
   "display_name": "Python [conda env:base] *",
   "language": "python",
   "name": "conda-base-py"
  },
  "language_info": {
   "codemirror_mode": {
    "name": "ipython",
    "version": 3
   },
   "file_extension": ".py",
   "mimetype": "text/x-python",
   "name": "python",
   "nbconvert_exporter": "python",
   "pygments_lexer": "ipython3",
   "version": "3.12.7"
  }
 },
 "nbformat": 4,
 "nbformat_minor": 4
}

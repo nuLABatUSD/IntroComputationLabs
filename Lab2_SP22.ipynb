{
 "cells": [
  {
   "cell_type": "markdown",
   "metadata": {},
   "source": [
    "# Plotting\n",
    "\n",
    "## First thing to do:  Rename the file by clicking on the file name next to the jupyter logo."
   ]
  },
  {
   "cell_type": "markdown",
   "metadata": {},
   "source": [
    "As before, we import out packages; we're including `matplotlib.pyplot` which will make sciency-looking graphs for us:"
   ]
  },
  {
   "cell_type": "code",
   "execution_count": null,
   "metadata": {},
   "outputs": [],
   "source": [
    "import numpy as np\n",
    "import matplotlib.pyplot as plt\n",
    "import ipywidgets as widgets"
   ]
  },
  {
   "cell_type": "markdown",
   "metadata": {},
   "source": [
    "## Brief Review from Lab 1\n",
    "\n",
    "**Functions**"
   ]
  },
  {
   "cell_type": "markdown",
   "metadata": {},
   "source": [
    "## STOP:  Double click this text area and type your answer to the following question:\n",
    "\n",
    "**(1)** Look at the code immediate below.  What does the function `times2plus2(x)` do?  Predict the value of `times2plus2(4)` and check your result by explicitly printing its output in the empty cell below.\n",
    "\n"
   ]
  },
  {
   "cell_type": "code",
   "execution_count": null,
   "metadata": {},
   "outputs": [],
   "source": [
    "def times2plus2(x):\n",
    "    result = 2 * x\n",
    "    result = result + 2\n",
    "    return result"
   ]
  },
  {
   "cell_type": "code",
   "execution_count": null,
   "metadata": {},
   "outputs": [],
   "source": []
  },
  {
   "cell_type": "markdown",
   "metadata": {},
   "source": [
    "**Sliders**\n",
    "\n",
    "To create a slider, we use ``widgets.interact``.  Run the slider command below."
   ]
  },
  {
   "cell_type": "code",
   "execution_count": null,
   "metadata": {},
   "outputs": [],
   "source": [
    "widgets.interact(times2plus2,x=(0,20,0.1))"
   ]
  },
  {
   "cell_type": "markdown",
   "metadata": {},
   "source": [
    "## Creating 1-D plots"
   ]
  },
  {
   "cell_type": "markdown",
   "metadata": {},
   "source": [
    "First, let's look make a plot by importing data, and making a plot, then making that plot look good.\n",
    "\n",
    "**Download ``ligo-data.csv`` from Blackboard, place it in the same folder as this lab.**\n",
    "\n",
    "- We need to load the data from file into lists of numbers that Python can use to plot.\n",
    "\n",
    "``column1, column2 = np.loadtxt('ligo-data.csv',delimiter=',',usecols=(0,1),unpack=True)``\n",
    "\n",
    "Let's break down this command, starting from the right-hand-side:\n",
    "- ``np.loadtxt( )`` is the name of a function that will take a file and create lists of numbers we can plot and manipulate.\n",
    "- ``'ligo-data.csv'`` is the name of the data file (it needs to be in quotes)\n",
    "- ``delimiter = ','`` tells the code that the columns in the data file are separated by commas\n",
    "- ``usecols = (0, 1)`` tells the code which columns it wants to use (here, the 1st and 2nd)\n",
    "- ``unpack = True`` allows us to create two variables that have all the data\n",
    "\n",
    "Finally, the form:  ``column1, column2 = np.loadtxt(...`` uses this function to create two arrays of numbers, that corresponds to the 1st (0) and 2nd (1) columns of the data file, and will save these arrays as the variables ``column1`` and ``column2``.\n",
    "\n",
    "The data file ``ligo-data.csv`` has three column:  the first column (0) has the time, measured in seconds, the second column (1) has the inferred gravitational wave strain data (dimensionless) measured by LIGO in Hanover, the third column (2) has the inferred gravitational wave strain data (dimensionless) measured by LIGO in Livingston.\n",
    "\n",
    "Write code to save the time and Hanover data to variables.  Please name the variables where this data will be saved in your code appropriately and descriptively."
   ]
  },
  {
   "cell_type": "code",
   "execution_count": null,
   "metadata": {},
   "outputs": [],
   "source": [
    "column1, column2 = np.loadtxt('ligo-data.csv',delimiter=',',usecols=(0,1),unpack=True)"
   ]
  },
  {
   "cell_type": "markdown",
   "metadata": {},
   "source": [
    "Now, to plot we need three commands:\n",
    "- ``plt.figure()`` which creates a figure\n",
    "- ``plt.plot(x,y)`` which creates the plot with ``x`` on the x-axis and ``y`` on the y-axis\n",
    "- ``plt.show()`` shows the result\n",
    "\n",
    "Include the three commands above in the cell below, and use the appropriate names of your `x` and `y` variables to plot your data."
   ]
  },
  {
   "cell_type": "code",
   "execution_count": null,
   "metadata": {},
   "outputs": [],
   "source": [
    "plt.figure()\n",
    "plt.plot(column1,column2)\n",
    "plt.show()"
   ]
  },
  {
   "cell_type": "markdown",
   "metadata": {},
   "source": [
    "We can change the color of our graph, run the code below."
   ]
  },
  {
   "cell_type": "code",
   "execution_count": null,
   "metadata": {},
   "outputs": [],
   "source": [
    "plt.figure()\n",
    "plt.plot(column1,column2,color='black')\n",
    "plt.show()"
   ]
  },
  {
   "cell_type": "markdown",
   "metadata": {},
   "source": [
    "Change the color of the plot above to a color of your choosing.  See, e.g., here: https://matplotlib.org/stable/gallery/color/named_colors.html"
   ]
  },
  {
   "cell_type": "markdown",
   "metadata": {},
   "source": [
    "In your code above, add the command: ``plt.xlim(-0.2,0.1)`` and run your code."
   ]
  },
  {
   "cell_type": "markdown",
   "metadata": {},
   "source": [
    "## STOP:  Double click this text area and type your answer to the following question:\n",
    "\n",
    "**(2)** What does the command `plt.xlim( , )` do?\n",
    "\n"
   ]
  },
  {
   "cell_type": "markdown",
   "metadata": {},
   "source": [
    "Now, we want to make a good looking plot.  In your code add ``plt.xlabel(\"time\")`` and ``plt.ylabel(\"strain\")`` to add titles to your x- and y-axes, respectively.  This completes your Nobel Prize-worthy plot."
   ]
  },
  {
   "cell_type": "markdown",
   "metadata": {},
   "source": [
    "There are many simple ways to make 1-dimensional plots in Python.  The way we'll work with here is a little obtuse and pedagogical, but serve as a means to discuss vectors (or matrices of numbers) and allow us to practice the fundamentals of loops and programming that we've begun to learn.\n",
    "\n",
    "The simplest plot command is ``plt.plot(x,y)`` (``plt.plot(,)`` is imported by the ``matplotlib.pyplot`` import command).  Both ``x`` and ``y`` are arrays (i.e., lists of N numbers).  In order for ``plt.plot(,)`` to work, you'll need each array to be of the same length (which, of course, makes sense because this is how we would plot it if asked to do so).  ``plt.plot(x,y)`` will plot the points (x[0],y[0]), (x[1],y[1]), etc, and connect the points in order.  Note two things:\n",
    "- x[0] is the first element of the array ``x`` (yes, we count starting from zero)\n",
    "- the bracket means the element of the array\n",
    "\n",
    "Let's plot height vs. time for a projectile, fired directly upward.  This can be written as\n",
    "$$ y(t) = \\frac{v_0 + v_t}{b} (1 - e^{-b t}) - v_t t$$\n",
    "and use $v_0 = 20~{\\rm m/s}$, $v_t = 10~{\\rm m/s}$, $b = 0.75~{\\rm s}^{-1}$.  (Note that ``np.exp(a)`` yields the value of $e^a$.)  While we are reporting these values in SI units, your code won't handle the units, so you simply need to keep track of the units to make sure it makes sense.\n",
    "\n",
    "Let's plot this for times between 0 and 4.  First, we create an array of times, then an array of heights.  Run the following code."
   ]
  },
  {
   "cell_type": "code",
   "execution_count": null,
   "metadata": {},
   "outputs": [],
   "source": [
    "time = np.linspace(0,4,5)\n",
    "height = np.zeros(len(time))"
   ]
  },
  {
   "cell_type": "markdown",
   "metadata": {},
   "source": [
    "Let's unpack all this.  First, a print statement is useful:  (Run the following code)"
   ]
  },
  {
   "cell_type": "code",
   "execution_count": null,
   "metadata": {},
   "outputs": [],
   "source": [
    "print(time)\n",
    "print(len(time))\n",
    "print(height)"
   ]
  },
  {
   "cell_type": "markdown",
   "metadata": {},
   "source": [
    "## STOP:  Double click this text area and type your answer to the following question:\n",
    "\n",
    "**(3)** In the table below, explain what each of the following commands do:\n",
    "\n",
    "- `np.linspace(0,4,5)`: \n",
    "- `len(time)`: \n",
    "- `np.zeros(len(time))`: \n"
   ]
  },
  {
   "cell_type": "raw",
   "metadata": {},
   "source": []
  },
  {
   "cell_type": "markdown",
   "metadata": {},
   "source": [
    "This creates two arrays, ``time`` and ``height``.  By array, I mean a list of numbers.  Run the following code:"
   ]
  },
  {
   "cell_type": "code",
   "execution_count": null,
   "metadata": {},
   "outputs": [],
   "source": [
    "print(time)\n",
    "print(time[0])\n",
    "print(time[1])\n",
    "print(time[2])\n",
    "print(time[3])\n",
    "print(time[4])"
   ]
  },
  {
   "cell_type": "markdown",
   "metadata": {},
   "source": [
    "## STOP:  Double click this text area and type your answer to the following question:\n",
    "\n",
    "**(4)** What does `time[0]`, `time[1]`, `time[2]`, `time[3]`, and `time[4]` mean?  and what do you notice about the numbering scheme?\n",
    "\n"
   ]
  },
  {
   "cell_type": "markdown",
   "metadata": {},
   "source": [
    "In the code below, replace the two ``...`` to print the individual elements of the array ``time``"
   ]
  },
  {
   "cell_type": "code",
   "execution_count": null,
   "metadata": {},
   "outputs": [],
   "source": [
    "for i in range(len(...)):\n",
    "    print(time[...])"
   ]
  },
  {
   "cell_type": "markdown",
   "metadata": {},
   "source": [
    "Why do we want to create ``height = np.zeros(len(time))``?  We're creating an empty array of ``height`` values, so we can store the appropriate values into it.  This way, we can do our plot.  Let's use our array of 5 values to set the individual values of height.  Run the code below"
   ]
  },
  {
   "cell_type": "code",
   "execution_count": null,
   "metadata": {},
   "outputs": [],
   "source": [
    "v0 = 20\n",
    "vt = 10\n",
    "b = 0.75\n",
    "for i in range(len(time)):\n",
    "    height[i] = (v0+vt)/b * (1 - np.exp(-b * time[i])) - vt * time[i]"
   ]
  },
  {
   "cell_type": "markdown",
   "metadata": {},
   "source": [
    "Finally, write code to plot height vs. time."
   ]
  },
  {
   "cell_type": "code",
   "execution_count": null,
   "metadata": {},
   "outputs": [],
   "source": []
  },
  {
   "cell_type": "markdown",
   "metadata": {},
   "source": [
    "## STOP:  Double click this text area and type your answer to the following question:\n",
    "\n",
    "**(5)** The plot works, but it doesn't look great.  Why doesn't it look great and how can you make it look better?\n",
    "\n"
   ]
  },
  {
   "cell_type": "markdown",
   "metadata": {},
   "source": [
    "## STOP:  Double click this text area and type your answer to the following question:\n",
    "\n",
    "**(6)** Why is it useful to use `len(time)` when you define `height` above?\n",
    "\n"
   ]
  },
  {
   "cell_type": "markdown",
   "metadata": {},
   "source": [
    "Make a better plot below, and mess around it until it looks good.  (Start by copy-and-pasting all the relevant code below, starting with `time = np.linspace(...)`.)"
   ]
  },
  {
   "cell_type": "code",
   "execution_count": null,
   "metadata": {},
   "outputs": [],
   "source": []
  },
  {
   "cell_type": "markdown",
   "metadata": {},
   "source": [
    "Creating a function is a really useful way to make this work seamlessly.  For example:"
   ]
  },
  {
   "cell_type": "code",
   "execution_count": null,
   "metadata": {},
   "outputs": [],
   "source": [
    "def height_air_resistance(t):\n",
    "    v0 = 20\n",
    "    vt = 10\n",
    "    b = 0.75\n",
    "    return (v0+vt)/b * (1 - np.exp(-b * t)) - vt * t\n",
    "time = np.linspace(0,4,5)\n",
    "height = np.zeros(len(time))\n",
    "for i in range(len(time)):\n",
    "    height[i] = height_air_resistance(time[i])\n",
    "plt.figure()\n",
    "plt.plot(time,height)\n",
    "plt.show()"
   ]
  },
  {
   "cell_type": "markdown",
   "metadata": {},
   "source": [
    "Change the code above to make the plot more presentable by:\n",
    "- Making the plot smoother\n",
    "- include labels on the x- and y-axes\n",
    "- We should only include the plot from y = 0 (the projectile doesn't go through the ground).  So, make sure the plot only shows from y = 0 and higher."
   ]
  },
  {
   "cell_type": "markdown",
   "metadata": {},
   "source": [
    "In the cell below, make a plot of the displacement vs. time of a particle undergoing simple harmonic motion with damping, where $$x(t) = A e^{- b t} \\cos( \\omega t + \\phi ),$$ using $A = 3~{\\rm cm}$, $b = 0.3~{\\rm s}^{-1}$, $\\omega = 1.5~{\\rm rad/s}$, $\\phi = \\pi / 3$.  (Note that $\\pi$ can be represented as ``np.pi`` and the cosine function is ``np.cos( )``.)  Use 10 time points with $-1 < t < 10$ to make the plot.  The number 10 should show up in your code once.  Write your code by first creating a function of the ordinates (the y-values), as done in the example above.\n",
    "\n",
    "Make sure that your variables are approrpriately and descriptively named, and make sure that your graph looks nice, and is well labeled."
   ]
  },
  {
   "cell_type": "code",
   "execution_count": null,
   "metadata": {},
   "outputs": [],
   "source": []
  },
  {
   "cell_type": "markdown",
   "metadata": {},
   "source": [
    "## Traveling and Standing Waves\n",
    "\n",
    "Now, let's try an interesting scenario:\n",
    "\n",
    "$ w_1 (x, t) = \\sin (2 \\pi x - \\pi t)$\n",
    "\n",
    "which represents a wave traveling to the right with velocity 0.5.  \n",
    "- First, create a function that accepts x and t as inputs and returns $w_1 (x, t)$.\n"
   ]
  },
  {
   "cell_type": "code",
   "execution_count": null,
   "metadata": {},
   "outputs": [],
   "source": []
  },
  {
   "cell_type": "markdown",
   "metadata": {},
   "source": [
    "- Now, let's plot it:\n",
    "    - Create a plot of $w_1 (x, t = 0)$, what is the wave at time t = 0.\n",
    "    - Your plot should be done from x = 0 to x = 2 and include enough points so that it looks nice.\n",
    "    - Force your plot to keep the limits on the y-axis between -1 and +1."
   ]
  },
  {
   "cell_type": "code",
   "execution_count": null,
   "metadata": {},
   "outputs": [],
   "source": []
  },
  {
   "cell_type": "markdown",
   "metadata": {},
   "source": [
    "Wouldn't it be neat if we could evolve this in time?  Well, a slider can help us do this.  However, to make a slider, we need a function.  \n",
    "- Create a function, whose input is time, that creates the plot of $w_1 (x, t)$ where x goes from 0 to 2 and t is the value input to the function.  As before, make sure to fix the y-limits from -1 to 1.  You do not need a return statement (or you can, at the end, simply write return( ) ).  \n",
    "\n",
    "**Remember**:  to define all the variables you want *inside the function* so your function works exactly as you intend.  Also, you should use the function you defined for $w_1 (x,t)$ that you created earlier.\n",
    "\n",
    "This should involve a lot of copy-and-paste, with a few manipulations."
   ]
  },
  {
   "cell_type": "code",
   "execution_count": null,
   "metadata": {},
   "outputs": [],
   "source": []
  },
  {
   "cell_type": "markdown",
   "metadata": {},
   "source": [
    "- After you create your function and run the cell, nothing happens.  Test your function by giving by calling it and using 0 as an input to make sure the graph looks right, then test it by using 1 as the input to make sure the graph looks right.\n",
    "\n"
   ]
  },
  {
   "cell_type": "code",
   "execution_count": null,
   "metadata": {},
   "outputs": [],
   "source": []
  },
  {
   "cell_type": "markdown",
   "metadata": {},
   "source": [
    "- Make a slider that uses your function and runs time values from 0 to 20 in increments of 0.1."
   ]
  },
  {
   "cell_type": "code",
   "execution_count": null,
   "metadata": {},
   "outputs": [],
   "source": []
  },
  {
   "cell_type": "markdown",
   "metadata": {},
   "source": [
    "Now, repeat the steps above with a left-moving wave:\n",
    "\n",
    "$w_2 (x, t) = \\sin (2 \\pi x + \\pi t)$\n",
    "\n",
    "which is a wave traveling to the left with velocity 0.5.\n",
    "\n",
    "To do this, please put all the necessary code below.  This will require you to define two new functions and one slider command.  Copy and paste will work extremely well for you here with minimal change."
   ]
  },
  {
   "cell_type": "code",
   "execution_count": null,
   "metadata": {},
   "outputs": [],
   "source": []
  },
  {
   "cell_type": "markdown",
   "metadata": {},
   "source": [
    "Finally, repeat with the superposition of the two waves:\n",
    "\n",
    "$w (x, t) = w_1 (x, t) + w_2 (x, t)$\n",
    "\n",
    "Please note that now the y-limits should be from -2 to +2."
   ]
  },
  {
   "cell_type": "code",
   "execution_count": null,
   "metadata": {},
   "outputs": [],
   "source": []
  },
  {
   "cell_type": "markdown",
   "metadata": {},
   "source": [
    "It would be neat if we could see all three at the same time.  You should have downloaded the file `waveplot.py` from Blackboard and placed it in the same folder.  The code below will import a function that will be up to the task:  (Hit Shift-Enter to enter the code into the computer)."
   ]
  },
  {
   "cell_type": "code",
   "execution_count": null,
   "metadata": {},
   "outputs": [],
   "source": [
    "import waveplot as wp"
   ]
  },
  {
   "cell_type": "markdown",
   "metadata": {},
   "source": [
    "The code accepts three inputs as the three functions, the first function, the second and a total function, and it works for a given time.  Let's try to call this function.  Enter the names of your functions for the right moving wave, left moving wave and total wave (i.e., the functions $w_1 (x,t)$, $w_2 (x,t)$ and $w (x,t)$, not the functions you used to make the plots).  This will plot the three waves at t = 0.  (For example, you should use this as:\n",
    "\n",
    "``wp.plot_all( w1, w2, w, 0 ) ``\n",
    "\n",
    "with the proper function names that you defined for the individual functions (that take x and t as inputs)."
   ]
  },
  {
   "cell_type": "code",
   "execution_count": null,
   "metadata": {},
   "outputs": [],
   "source": [
    "wp.plot_all( , , ,0)"
   ]
  },
  {
   "cell_type": "markdown",
   "metadata": {},
   "source": [
    "Now, lets \"animate\" it with a widget.  In the three \"fixed\" parentheses, write the name of your functions again.  This is a way to give fixed information to your function that isn't subject to a slider.\n",
    "\n",
    "That is, you should include the name of the $w_1$ function in the fn1, the $w_2$ function in the fn2, and the $w$ function in the fntot."
   ]
  },
  {
   "cell_type": "code",
   "execution_count": null,
   "metadata": {},
   "outputs": [],
   "source": [
    "widgets.interact(wp.plot_all,t=(0,20,0.1),fn1=widgets.fixed( ),fn2=widgets.fixed( ),fntot=widgets.fixed( ))"
   ]
  },
  {
   "cell_type": "code",
   "execution_count": null,
   "metadata": {},
   "outputs": [],
   "source": []
  }
 ],
 "metadata": {
  "kernelspec": {
   "display_name": "Python 3 (ipykernel)",
   "language": "python",
   "name": "python3"
  },
  "language_info": {
   "codemirror_mode": {
    "name": "ipython",
    "version": 3
   },
   "file_extension": ".py",
   "mimetype": "text/x-python",
   "name": "python",
   "nbconvert_exporter": "python",
   "pygments_lexer": "ipython3",
   "version": "3.9.7"
  }
 },
 "nbformat": 4,
 "nbformat_minor": 2
}

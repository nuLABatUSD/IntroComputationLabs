{
 "cells": [
  {
   "cell_type": "markdown",
   "metadata": {},
   "source": [
    "# Plotting"
   ]
  },
  {
   "cell_type": "markdown",
   "metadata": {},
   "source": [
    "As before, we import out packages; we're including `matplotlib.pyplot` which will make sciency-looking graphs for us:"
   ]
  },
  {
   "cell_type": "code",
   "execution_count": 8,
   "metadata": {},
   "outputs": [],
   "source": [
    "import numpy as np\n",
    "import matplotlib.pyplot as plt"
   ]
  },
  {
   "cell_type": "markdown",
   "metadata": {},
   "source": [
    "## Functions"
   ]
  },
  {
   "cell_type": "markdown",
   "metadata": {},
   "source": [
    "## STOP:  Double click this text area and type your answer to the following question:\n",
    "\n",
    "**(1)** Look at the code immediate below.  What does the function `times2plus2(x)` do?  Predict the value of `times2plus2(4)` and check your result by explicitly printing its output in the empty cell below.\n",
    "\n"
   ]
  },
  {
   "cell_type": "code",
   "execution_count": null,
   "metadata": {},
   "outputs": [],
   "source": [
    "def times2plus2(x):\n",
    "    result = 2 * x\n",
    "    result = result + 2\n",
    "    return result"
   ]
  },
  {
   "cell_type": "code",
   "execution_count": null,
   "metadata": {},
   "outputs": [],
   "source": []
  },
  {
   "cell_type": "markdown",
   "metadata": {},
   "source": [
    "We can also create functions with **(1)** multiple inputs or **(2)** multiple outputs (run the following code)"
   ]
  },
  {
   "cell_type": "code",
   "execution_count": null,
   "metadata": {},
   "outputs": [],
   "source": [
    "def multiply_them(x, y):\n",
    "    return x * y\n",
    "\n",
    "def add_and_multiply(x, y):\n",
    "    return x+y, multiply_them(x, y)"
   ]
  },
  {
   "cell_type": "code",
   "execution_count": null,
   "metadata": {},
   "outputs": [],
   "source": [
    "print(multiply_them(3, 5))\n",
    "print(add_and_multiply(3, 5))"
   ]
  },
  {
   "cell_type": "markdown",
   "metadata": {},
   "source": [
    "But it's really most useful to set these outputs equal to variables (run the following code):"
   ]
  },
  {
   "cell_type": "code",
   "execution_count": null,
   "metadata": {},
   "outputs": [],
   "source": [
    "a = multiply_them(3, 5)\n",
    "b, c = add_and_multiply(3, 5)\n",
    "print(a, b, c)"
   ]
  },
  {
   "cell_type": "markdown",
   "metadata": {},
   "source": [
    "## Creating 1-D plots"
   ]
  },
  {
   "cell_type": "markdown",
   "metadata": {},
   "source": [
    "First, let's look make a plot by importing data, and making a plot, then making that plot look good.\n",
    "\n",
    "**Download ``ligo-data.csv`` from Blackboard, place it in the same folder as this lab.**\n",
    "\n",
    "- We need to load the data from file into lists of numbers that Python can use to plot.\n",
    "\n",
    "``column1, column2 = np.loadtxt('ligo-data.csv',delimiter=',',usecols=(0,1),unpack=True)``\n",
    "\n",
    "Let's break down this command, starting from the right-hand-side:\n",
    "- ``np.loadtxt( )`` is the name of a function that will take a file and create lists of numbers we can plot and manipulate.\n",
    "- ``'ligo-data.csv'`` is the name of the data file (it needs to be in quotes)\n",
    "- ``delimiter = ','`` tells the code that the columns in the data file are separated by commas\n",
    "- ``usecols = (0, 1)`` tells the code which columns it wants to use (here, the 1st and 2nd)\n",
    "- ``unpack = True`` allows us to create two variables that have all the data\n",
    "\n",
    "Finally, the form:  ``column1, column2 = np.loadtxt(...)`` uses this function to create two arrays of numbers, that corresponds to the 1st (0) and 2nd (1) columns of the data file, and will save these arrays as the variables ``column1`` and ``column2``.\n",
    "\n",
    "The data file ``ligo-data.csv`` has three column:  the first column (0) has the time, measured in seconds, the second column (1) has the inferred gravitational wave strain data (dimensionless) measured by LIGO in Hanover, the third column (2) has the inferred gravitational wave strain data (dimensionless) measured by LIGO in Livingston.\n",
    "\n",
    "Write code to save the time and Hanover data to variables.  Please name the variables where this data will be saved in your code appropriately and descriptively."
   ]
  },
  {
   "cell_type": "code",
   "execution_count": null,
   "metadata": {},
   "outputs": [],
   "source": [
    "column1, column2 = np.loadtxt('ligo-data.csv',delimiter=',',usecols=(0,1),unpack=True)"
   ]
  },
  {
   "cell_type": "markdown",
   "metadata": {},
   "source": [
    "Now, to plot we need three commands:\n",
    "- ``plt.figure()`` which creates a figure\n",
    "- ``plt.plot(x,y)`` which creates the plot with ``x`` on the x-axis and ``y`` on the y-axis\n",
    "- ``plt.show()`` shows the result\n",
    "\n",
    "Include the three commands above in the cell below, and use the appropriate names of your `x` and `y` variables to plot your data."
   ]
  },
  {
   "cell_type": "code",
   "execution_count": null,
   "metadata": {},
   "outputs": [],
   "source": [
    "plt.figure()\n",
    "plt.plot(column1,column2)\n",
    "plt.show()"
   ]
  },
  {
   "cell_type": "markdown",
   "metadata": {},
   "source": [
    "We can change the color of our graph, run the code below."
   ]
  },
  {
   "cell_type": "code",
   "execution_count": null,
   "metadata": {},
   "outputs": [],
   "source": [
    "plt.figure()\n",
    "plt.plot(column1,column2,color='black')\n",
    "plt.show()"
   ]
  },
  {
   "cell_type": "markdown",
   "metadata": {},
   "source": [
    "Change the color of the plot above to a color of your choosing.  See, e.g., here: https://matplotlib.org/stable/gallery/color/named_colors.html"
   ]
  },
  {
   "cell_type": "markdown",
   "metadata": {},
   "source": [
    "In your code above, add the command: ``plt.xlim(-0.2,0.1)`` and run your code."
   ]
  },
  {
   "cell_type": "markdown",
   "metadata": {},
   "source": [
    "## STOP:  Double click this text area and type your answer to the following question:\n",
    "\n",
    "**(2)** What does the command `plt.xlim( , )` do?\n",
    "\n"
   ]
  },
  {
   "cell_type": "markdown",
   "metadata": {},
   "source": [
    "Now, we want to make a good looking plot.  In your code add ``plt.xlabel(\"time\")`` and ``plt.ylabel(\"strain\")`` to add titles to your x- and y-axes, respectively.  This completes your Nobel Prize-worthy plot."
   ]
  },
  {
   "cell_type": "markdown",
   "metadata": {},
   "source": [
    "There are many simple ways to make 1-dimensional plots in Python.  The way we'll work with here is a little obtuse and pedagogical, but serve as a means to discuss vectors (or matrices of numbers) and allow us to practice the fundamentals of loops and programming that we've begun to learn.\n",
    "\n",
    "The simplest plot command is ``plt.plot(x,y)`` (``plt.plot(,)`` is imported by the ``matplotlib.pyplot`` import command).  Both ``x`` and ``y`` are arrays (i.e., lists of N numbers).  In order for ``plt.plot(,)`` to work, you'll need each array to be of the same length (which, of course, makes sense because this is how we would plot it if asked to do so).  ``plt.plot(x,y)`` will plot the points (x[0],y[0]), (x[1],y[1]), etc, and connect the points in order.  Note two things:\n",
    "- x[0] is the first element of the array ``x`` (yes, we count starting from zero)\n",
    "- the bracket means the element of the array\n",
    "\n",
    "Let's plot height vs. time for a projectile, fired directly upward.  This can be written as\n",
    "$$ y(t) = \\frac{v_0 + v_t}{b} (1 - e^{-b t}) - v_t t$$\n",
    "and use $v_0 = 20~{\\rm m/s}$, $v_t = 10~{\\rm m/s}$, $b = 0.75~{\\rm s}^{-1}$.  (Note that ``np.exp(a)`` yields the value of $e^a$.)  While we are reporting these values in SI units, your code won't handle the units, so you simply need to keep track of the units to make sure it makes sense.\n",
    "\n",
    "Let's plot this for times between 0 and 4.  First, we create an array of times, then an array of heights.  Run the following code."
   ]
  },
  {
   "cell_type": "code",
   "execution_count": null,
   "metadata": {},
   "outputs": [],
   "source": [
    "time = np.linspace(0,4,5)\n",
    "height = np.zeros(len(time))"
   ]
  },
  {
   "cell_type": "markdown",
   "metadata": {},
   "source": [
    "Let's unpack all this.  First, a print statement is useful:  (Run the following code)"
   ]
  },
  {
   "cell_type": "code",
   "execution_count": null,
   "metadata": {},
   "outputs": [],
   "source": [
    "print(time)\n",
    "print(len(time))\n",
    "print(height)"
   ]
  },
  {
   "cell_type": "markdown",
   "metadata": {},
   "source": [
    "## STOP:  Double click this text area and type your answer to the following question:\n",
    "\n",
    "**(3)** In the table below, explain what each of the following commands do:\n",
    "\n",
    "- `np.linspace(0,4,5)`: \n",
    "- `len(time)`: \n",
    "- `np.zeros(len(time))`: \n"
   ]
  },
  {
   "cell_type": "raw",
   "metadata": {},
   "source": []
  },
  {
   "cell_type": "markdown",
   "metadata": {},
   "source": [
    "This creates two arrays, ``time`` and ``height``.  By array, I mean a list of numbers.  Run the following code:"
   ]
  },
  {
   "cell_type": "code",
   "execution_count": null,
   "metadata": {},
   "outputs": [],
   "source": [
    "print(time)\n",
    "print(time[0])\n",
    "print(time[1])\n",
    "print(time[2])\n",
    "print(time[3])\n",
    "print(time[4])"
   ]
  },
  {
   "cell_type": "markdown",
   "metadata": {},
   "source": [
    "## STOP:  Double click this text area and type your answer to the following question:\n",
    "\n",
    "**(4)** What does `time[0]`, `time[1]`, `time[2]`, `time[3]`, and `time[4]` mean?  and what do you notice about the numbering scheme?\n",
    "\n"
   ]
  },
  {
   "cell_type": "markdown",
   "metadata": {},
   "source": [
    "In the code below, replace the two ``...`` to print the individual elements of the array ``time``"
   ]
  },
  {
   "cell_type": "code",
   "execution_count": null,
   "metadata": {},
   "outputs": [],
   "source": [
    "for i in range(len(...)):\n",
    "    print(time[...])"
   ]
  },
  {
   "cell_type": "markdown",
   "metadata": {},
   "source": [
    "Why do we want to create ``height = np.zeros(len(time))``?  We're creating an empty array of ``height`` values, so we can store the appropriate values into it.  This way, we can do our plot.  Let's use our array of 5 values to set the individual values of height.  Run the code below"
   ]
  },
  {
   "cell_type": "code",
   "execution_count": null,
   "metadata": {},
   "outputs": [],
   "source": [
    "v0 = 20\n",
    "vt = 10\n",
    "b = 0.75\n",
    "for i in range(len(time)):\n",
    "    height[i] = (v0+vt)/b * (1 - np.exp(-b * time[i])) - vt * time[i]"
   ]
  },
  {
   "cell_type": "markdown",
   "metadata": {},
   "source": [
    "Finally, write code to plot height vs. time."
   ]
  },
  {
   "cell_type": "code",
   "execution_count": null,
   "metadata": {},
   "outputs": [],
   "source": []
  },
  {
   "cell_type": "markdown",
   "metadata": {},
   "source": [
    "## STOP:  Double click this text area and type your answer to the following question:\n",
    "\n",
    "**(5)** The plot works, but it doesn't look great.  Why doesn't it look great and how can you make it look better?\n",
    "\n"
   ]
  },
  {
   "cell_type": "markdown",
   "metadata": {},
   "source": [
    "## STOP:  Double click this text area and type your answer to the following question:\n",
    "\n",
    "**(6)** Why is it useful to use `len(time)` when you define `height` above?\n",
    "\n"
   ]
  },
  {
   "cell_type": "markdown",
   "metadata": {},
   "source": [
    "Make a better plot below, and mess around it until it looks good.  (Start by copy-and-pasting all the relevant code below, starting with `time = np.linspace(...)`.)"
   ]
  },
  {
   "cell_type": "code",
   "execution_count": null,
   "metadata": {},
   "outputs": [],
   "source": []
  },
  {
   "cell_type": "markdown",
   "metadata": {},
   "source": [
    "Creating a function is a really useful way to make this work seamlessly.  For example:"
   ]
  },
  {
   "cell_type": "code",
   "execution_count": 12,
   "metadata": {},
   "outputs": [
    {
     "data": {
      "image/png": "[encoded data removed]",
      "text/plain": [
       "<Figure size 640x480 with 1 Axes>"
      ]
     },
     "metadata": {},
     "output_type": "display_data"
    }
   ],
   "source": [
    "def height_air_resistance(t):\n",
    "    v0 = 20\n",
    "    vt = 10\n",
    "    b = 0.75\n",
    "    return (v0+vt)/b * (1 - np.exp(-b * t)) - vt * t\n",
    "time = np.linspace(0,4,5000)\n",
    "height = np.zeros(len(time))\n",
    "for i in range(len(time)):\n",
    "    height[i] = height_air_resistance(time[i])\n",
    "plt.figure()\n",
    "plt.plot(time,height)\n",
    "plt.show()"
   ]
  },
  {
   "cell_type": "markdown",
   "metadata": {},
   "source": [
    "Change the code above to make the plot more presentable by:\n",
    "- Making the plot smoother\n",
    "- include labels on the x- and y-axes\n",
    "- We should only include the plot from y = 0 (the projectile doesn't go through the ground).  So, make sure the plot only shows from y = 0 and higher."
   ]
  },
  {
   "cell_type": "markdown",
   "metadata": {},
   "source": [
    "**Exercise:** In the cell below, make a plot of the displacement vs. time of a particle undergoing simple harmonic motion with damping, where $$x(t) = A e^{- b t} \\cos( \\omega t + \\phi ),$$ using $A = 3~{\\rm cm}$, $b = 0.3~{\\rm s}^{-1}$, $\\omega = 1.5~{\\rm rad/s}$, $\\phi = \\pi / 3$.  (Note that $\\pi$ can be represented as ``np.pi`` and the cosine function is ``np.cos( )``.)  Use 10 time points with $-1 < t < 15$ to make the plot.  The number ``10`` should show up in your code once.  \n",
    "Write your code by:\n",
    "- Create a function of the ordinates (the y-values)\n",
    "- Use that function to populate the arrays you'll need to make a plot.\n",
    "\n",
    "Make sure that your variables are approrpriately and descriptively named. Finally, change your code so that your graph looks nice, and is well labeled."
   ]
  },
  {
   "cell_type": "code",
   "execution_count": null,
   "metadata": {},
   "outputs": [],
   "source": []
  },
  {
   "cell_type": "code",
   "execution_count": null,
   "metadata": {},
   "outputs": [],
   "source": []
  },
  {
   "cell_type": "markdown",
   "metadata": {},
   "source": [
    "## Copy your code into your submission file and make sure it works."
   ]
  },
  {
   "cell_type": "markdown",
   "metadata": {},
   "source": [
    "**Exercise:** We can aim to create a parametric plot, where the points $(x, y) = (\\cos \\theta,\\,\\sin \\theta)$ for $0 \\leq \\theta \\leq 2\\pi$.\n",
    "To do this, let's look to create\n",
    "- a **function** whose input is $\\theta$ and whose outputs are x and y (to get the appropriate x and y points from the expression above)\n",
    "- a **linearly spaced** array of $\\theta$ between 0 and $2 \\pi$ with lots of points\n",
    "- initialize arrays for x and y\n",
    "- use a loop to set the individual values of x and y\n",
    "- plot y vs. x; make sure you have enough points to make a smooth plot"
   ]
  },
  {
   "cell_type": "code",
   "execution_count": null,
   "metadata": {},
   "outputs": [],
   "source": []
  },
  {
   "cell_type": "code",
   "execution_count": null,
   "metadata": {},
   "outputs": [],
   "source": []
  },
  {
   "cell_type": "markdown",
   "metadata": {},
   "source": [
    "## Copy your code into your submission file and make sure it works."
   ]
  },
  {
   "cell_type": "markdown",
   "metadata": {},
   "source": [
    "**Exercise:**  The file ``Lab2.csv``, has three columns: (0) is time (in seconds); (1) is position (in meters); (2) is velocity (in meters per second) for a $m = 2~{\\rm kg}$ projectile falling under the influence of gravity and air resistance.  \n",
    "\n",
    "You will use ``np.loadtxt`` again, but now with three columns, our generalization is:\n",
    "\n",
    "``c1, c2, c3 = np.loadtxt(...`` with ``usecols=(0,1,2)`` (and plus use more informative names for ``c1``, ``c2``, and ``c3``.\n",
    "\n",
    "- Create a plot of velocity versus time\n",
    "- Include axis labels for the x- and y-axes\n",
    "- Choose a color for the curve on the plot\n",
    "- Choose a marker for the data points by adding an additional statement: ``plt.plot(.., .., color='..', marker='..')``.  If you search for \"matplotlib marker\", you can find options\n",
    "- Choose a line style for the graph with ``linestyle = '..'``\n",
    "\n",
    "(Please note that all the ``..`` above should be replaced by appropriate arrays and/or options.)"
   ]
  },
  {
   "cell_type": "code",
   "execution_count": null,
   "metadata": {},
   "outputs": [],
   "source": []
  },
  {
   "cell_type": "markdown",
   "metadata": {},
   "source": [
    "Now, we will look to plot energy and momentum versus time.\n",
    "- Create a function to calculate the energy and momentum, whose inputs are position, $y$, and velocity, $v$, and whose output is\n",
    "$$E = \\frac{1}{2} m v^2 + m g y \\qquad , \\qquad p = m v$$\n",
    "with $m = 2~{\\rm kg}$.\n",
    "- On the same plot, plot both energy vs. time and momentum vs. time.\n",
    "- To make the plot easier to read, we can include a legend. To do this, we include another input to the plot statement:  ``plt.plot(.., .., color='..', marker='..', label='..')`` You can put any text for ``label``.\n",
    "- However, just doing that, nothing shows up in terms of labels. We include the legend with ``plt.legend(loc='lower left')``. We can choose the location of the legend. Add the legend (and, of course, make sure you label your x-axis).\n"
   ]
  },
  {
   "cell_type": "code",
   "execution_count": null,
   "metadata": {},
   "outputs": [],
   "source": []
  },
  {
   "cell_type": "markdown",
   "metadata": {},
   "source": [
    "## Copy your code into your submission file and make sure it works."
   ]
  }
 ],
 "metadata": {
  "kernelspec": {
   "display_name": "Python [conda env:base] *",
   "language": "python",
   "name": "conda-base-py"
  },
  "language_info": {
   "codemirror_mode": {
    "name": "ipython",
    "version": 3
   },
   "file_extension": ".py",
   "mimetype": "text/x-python",
   "name": "python",
   "nbconvert_exporter": "python",
   "pygments_lexer": "ipython3",
   "version": "3.12.7"
  }
 },
 "nbformat": 4,
 "nbformat_minor": 4
}

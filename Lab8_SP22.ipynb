{
 "cells": [
  {
   "cell_type": "markdown",
   "metadata": {},
   "source": [
    "# First, rename the lab so it includes your name"
   ]
  },
  {
   "cell_type": "code",
   "execution_count": 1,
   "metadata": {},
   "outputs": [],
   "source": [
    "%matplotlib inline\n",
    "import numpy as np\n",
    "import matplotlib.pyplot as plt\n",
    "import ipywidgets as widgets"
   ]
  },
  {
   "cell_type": "markdown",
   "metadata": {},
   "source": [
    "# Using Functions to solve differential equations\n",
    "\n",
    "Let's start easy:  projectile motion.  We use this because we know the answer, and we're going to make sure our functions work before doing harder problems.  For projectile motion, using initial conditions of (x,y) = (0,0) and (vx,vy) = (30,40) (implicitly using SI units), we know that ($g = 9.8$)\n",
    "\n",
    "$$x = v_{x0} t$$\n",
    "$$y = v_{y0} t - 0.5 g t^2$$\n",
    "\n",
    "- Lets first create variables for the initial velocity\n",
    "- Create a function for the x, and y values whose input is time and output is given by the equations above.\n",
    "\n",
    "A skeleton code is there for you to start with"
   ]
  },
  {
   "cell_type": "code",
   "execution_count": 2,
   "metadata": {},
   "outputs": [],
   "source": [
    "vx_0 = 30\n",
    "vy_0 = 40\n",
    "g = 9.8\n",
    "\n",
    "def x_projectile(t):\n",
    "    return vx_0 * t\n",
    "\n",
    "def y_projectile(t):\n",
    "    return vy_0 * t - 0.5 * g * t**2"
   ]
  },
  {
   "cell_type": "markdown",
   "metadata": {},
   "source": [
    "Next, we want to make a plot.  However, this'll be a \"parametric plot\", where we first define time, use time to define our x and y arrays, then plot x and y.\n",
    "- First, define a time array between 0 and 8 with 100 points.\n",
    "- Create an array of x values, the same way we've done for plotting:  first with ``np.zeros`` then with a ``for`` loop.\n",
    "- Repeat for y values.\n",
    "- Make a plot with the x values on the x-axis and y values on the y-axis.  Notice how the time array isn't directly used in the plot."
   ]
  },
  {
   "cell_type": "code",
   "execution_count": 7,
   "metadata": {},
   "outputs": [
    {
     "data": {
      "image/png": "[encoded data removed]",
      "text/plain": [
       "<Figure size 432x288 with 1 Axes>"
      ]
     },
     "metadata": {
      "needs_background": "light"
     },
     "output_type": "display_data"
    }
   ],
   "source": [
    "time = np.linspace(0,8,100)\n",
    "x_values = np.zeros(len(time))\n",
    "y_values = np.zeros(len(time))\n",
    "\n",
    "vx_0 = 30\n",
    "vy_0 = 40\n",
    "g = 9.8\n",
    "\n",
    "for i in range(len(x_values)):\n",
    "    x_values[i] = x_projectile(time[i])\n",
    "    \n",
    "for i in range(len(y_values)):\n",
    "    y_values[i] = y_projectile(time[i])\n",
    "    \n",
    "plt.figure()\n",
    "plt.plot(x_values, y_values)\n",
    "plt.show()"
   ]
  },
  {
   "cell_type": "markdown",
   "metadata": {},
   "source": [
    "Instead of having two different function, we can create one function that has two outputs:"
   ]
  },
  {
   "cell_type": "code",
   "execution_count": 9,
   "metadata": {},
   "outputs": [],
   "source": [
    "def projectile(t):\n",
    "    x_values = vx_0 * t\n",
    "    y_values = vy_0 * t - 0.5 * 9.8 * t**2\n",
    "    return x_values, y_values"
   ]
  },
  {
   "cell_type": "markdown",
   "metadata": {},
   "source": [
    "Now, instead of using two separate ``for`` loops, we use one statement that looks like:\n",
    "\n",
    "``for i in range(len(t)):\n",
    "      x_values[i], y_values[i] = projectile(t[i])``\n",
    "      \n",
    "You'll need to change the sample code above to use the appropriate time, x, and y arrays that you've already named.\n",
    "\n",
    "Below, re-do your code above using the ``projectile( )`` function to make the plot.  In doing so, make sure you name your x and y as something more imaginative (and descriptive) than just ``x`` and ``y``."
   ]
  },
  {
   "cell_type": "code",
   "execution_count": 10,
   "metadata": {},
   "outputs": [
    {
     "data": {
      "image/png": "[encoded data removed]",
      "text/plain": [
       "<Figure size 432x288 with 1 Axes>"
      ]
     },
     "metadata": {
      "needs_background": "light"
     },
     "output_type": "display_data"
    }
   ],
   "source": [
    "time = np.linspace(0,8,100)\n",
    "x_values = np.zeros(len(time))\n",
    "y_values = np.zeros(len(time))\n",
    "\n",
    "for i in range(len(time)):\n",
    "    x_values[i], y_values[i] = projectile(time[i])\n",
    "\n",
    "plt.figure()\n",
    "plt.plot(x_values, y_values)\n",
    "plt.show()"
   ]
  },
  {
   "cell_type": "markdown",
   "metadata": {},
   "source": [
    "But we don't always know the solution.  We know that projectile motion comes from Newton's Laws, which is just the solution to differential equations:\n",
    "\n",
    "$\\displaystyle \\frac{dx}{dt} = v_x \\qquad \\qquad \\frac{d v_x}{dt} = a_x$\n",
    "\n",
    "$\\displaystyle \\frac{dy}{dt} = v_y \\qquad \\qquad \\frac{d v_y}{dt} = a_y$\n",
    "\n",
    "where in this case, $a_x = 0$ and $a_y = -9.8$.\n",
    "\n",
    "We can numerically solve this problem by introducing a time step $\\Delta t$, and thus:\n",
    "\n",
    "$\\displaystyle x_f = x + v_x \\Delta t \\qquad \\qquad v_{xf} = v_x + a_x \\Delta t$\n",
    "\n",
    "$\\displaystyle y_f = y + v_y \\Delta t \\qquad \\qquad v_{yf} = v_y + a_y \\Delta t$\n",
    "\n",
    "Let's create a function.  Call it ``time_step``.  The inputs to function ``time_step`` will be the values of x, y, vx, vy, and $\\Delta t$ (incidentally, all the information on the right-hand-sides of the equations above).  The output of the function time_step should be $x_f$, $y_f$, $v_{xf}$, $v_{yf}$.  In other words, the function should accept the previous time information (x, y, vx, vy) AND $\\Delta t$ as inputs, and return the next time information.  "
   ]
  },
  {
   "cell_type": "code",
   "execution_count": 11,
   "metadata": {},
   "outputs": [],
   "source": [
    "def time_step(x,y,vx,vy,dt):\n",
    "    ax = 0\n",
    "    ay = - 9.8\n",
    "    xf = x + vx * dt\n",
    "    yf = y + vy * dt\n",
    "    vxf = vx + ax * dt\n",
    "    vyf = vy + ay * dt\n",
    "    \n",
    "    return xf, yf, vxf, vyf"
   ]
  },
  {
   "cell_type": "markdown",
   "metadata": {},
   "source": [
    "How can we use this?  Let's first take a little diversion.  What does the function below do?\n",
    "\n",
    "adds one to the inputted value"
   ]
  },
  {
   "cell_type": "code",
   "execution_count": 13,
   "metadata": {},
   "outputs": [],
   "source": [
    "def add_one(x):\n",
    "    return x+1"
   ]
  },
  {
   "cell_type": "markdown",
   "metadata": {},
   "source": [
    "Now, we are going to create a variable ``a``, set it equal to zero, then change the value of ``a`` using our function:"
   ]
  },
  {
   "cell_type": "code",
   "execution_count": 14,
   "metadata": {},
   "outputs": [],
   "source": [
    "a = 0\n",
    "a = add_one(a)"
   ]
  },
  {
   "cell_type": "markdown",
   "metadata": {},
   "source": [
    "What's the value of ``a`` now?  ``print(a)`` below to confirm."
   ]
  },
  {
   "cell_type": "code",
   "execution_count": 15,
   "metadata": {},
   "outputs": [
    {
     "name": "stdout",
     "output_type": "stream",
     "text": [
      "1\n"
     ]
    }
   ],
   "source": [
    "print(a)"
   ]
  },
  {
   "cell_type": "markdown",
   "metadata": {},
   "source": [
    "We can actually do this twice:"
   ]
  },
  {
   "cell_type": "code",
   "execution_count": 16,
   "metadata": {},
   "outputs": [
    {
     "name": "stdout",
     "output_type": "stream",
     "text": [
      "2\n"
     ]
    }
   ],
   "source": [
    "a = 0\n",
    "a = add_one(a)\n",
    "a = add_one(a)\n",
    "print(a)"
   ]
  },
  {
   "cell_type": "markdown",
   "metadata": {},
   "source": [
    "If we parse this code:\n",
    "- First, ``a`` is set to the value 0\n",
    "- Next, we use ``add_one()`` to take ``a``, add one (which produces 1), and set that value as ``a``; hence ``a`` is now 1.\n",
    "- We repeat it so now ``a`` is 2.\n",
    "\n",
    "Before running the next cell of code, predict the result.  Make sure you think you can reason through your prediction before confirming your result.  Ask for help if you don't understand the result.\n",
    "\n",
    "5\n"
   ]
  },
  {
   "cell_type": "code",
   "execution_count": 17,
   "metadata": {
    "scrolled": true
   },
   "outputs": [
    {
     "name": "stdout",
     "output_type": "stream",
     "text": [
      "5\n"
     ]
    }
   ],
   "source": [
    "a = 0\n",
    "for i in range(5):\n",
    "    a = add_one(a)\n",
    "print(a)"
   ]
  },
  {
   "cell_type": "markdown",
   "metadata": {},
   "source": [
    "Now, back to our projectile motion problem.  If we make a graph, we can compare the solution using ``time_step`` with the projectile motion model.\n",
    "- First, we need to create an array of time values, and use it to determine ``dt``"
   ]
  },
  {
   "cell_type": "code",
   "execution_count": 32,
   "metadata": {},
   "outputs": [],
   "source": [
    "time = np.linspace(0,8,1000)\n",
    "dt = time[1] - time[0]"
   ]
  },
  {
   "cell_type": "markdown",
   "metadata": {},
   "source": [
    "- Create x and y arrays that will be plotted.  In the code below, it's called ``x_step`` and ``y_step``.\n"
   ]
  },
  {
   "cell_type": "code",
   "execution_count": 33,
   "metadata": {},
   "outputs": [],
   "source": [
    "x_step = np.zeros(len(time))\n",
    "y_step = np.zeros(len(time))"
   ]
  },
  {
   "cell_type": "markdown",
   "metadata": {},
   "source": [
    "- Create variables ``x, y, vx, vy`` using the initial conditions.\n",
    "- Set the value of ``x_step[0]`` and ``y_step[0]`` as the initial conditions"
   ]
  },
  {
   "cell_type": "code",
   "execution_count": 34,
   "metadata": {},
   "outputs": [],
   "source": [
    "x = 0\n",
    "y = 0\n",
    "vx = vx_0\n",
    "vy = vy_0\n",
    "\n",
    "x_step[0] = x\n",
    "y_step[0] = y"
   ]
  },
  {
   "cell_type": "markdown",
   "metadata": {},
   "source": [
    "- The line ``x, y, vx, vy = time_step(x, y, vx, vy, dt)`` works by using the **current** value of x, y, vx, vy and the function ``time_step`` to find the **next** values of x, y, vx, vy.\n",
    "- Then, we save these **next** values as `x_step[1]` and `y_step[1]`."
   ]
  },
  {
   "cell_type": "code",
   "execution_count": 35,
   "metadata": {},
   "outputs": [],
   "source": [
    "x, y, vx, vy = time_step(x, y, vx, vy, dt)\n",
    "x_step[1] = x\n",
    "y_step[1] = y"
   ]
  },
  {
   "cell_type": "markdown",
   "metadata": {},
   "source": [
    "- This repeats again for ``x_step[2]`` and ``y_step[2]``, and in principle, should go on for all the terms in ``x_step`` and ``y_step``."
   ]
  },
  {
   "cell_type": "code",
   "execution_count": 36,
   "metadata": {},
   "outputs": [],
   "source": [
    "x, y, vx, vy = time_step(x, y, vx, vy, dt)\n",
    "x_step[2] = x\n",
    "y_step[2] = y"
   ]
  },
  {
   "cell_type": "markdown",
   "metadata": {},
   "source": [
    "The code above just takes care of the first two steps, but it really looks ready to put in a ``for`` loop to do all the terms.  In the cell below, re-write all the above code, but utilizing a `for` loop to set all the values of `x_step`.  You should have all the relevant code in the cell below.\n",
    "\n",
    "Please note that ``for i in range(len(time)):`` starts with ``i = 0``.  If you want to start somewhere else, e.g., ``i = 1``, then you should use ``for i in range(1,len(time)):``"
   ]
  },
  {
   "cell_type": "code",
   "execution_count": 52,
   "metadata": {},
   "outputs": [
    {
     "data": {
      "image/png": "[encoded data removed]",
      "text/plain": [
       "<Figure size 432x288 with 1 Axes>"
      ]
     },
     "metadata": {
      "needs_background": "light"
     },
     "output_type": "display_data"
    }
   ],
   "source": [
    "time = np.linspace(0,8,1000000)\n",
    "dt = time[1] - time[0]\n",
    "x_step = np.zeros(len(time))\n",
    "y_step = np.zeros(len(time))\n",
    "\n",
    "x = 0\n",
    "y = 0\n",
    "vx = vx_0\n",
    "vy = vy_0\n",
    "\n",
    "for i in range(len(time)):\n",
    "    x, y, vx, vy = time_step(x, y, vx, vy, dt)\n",
    "    x_step[i] = x\n",
    "    y_step [i] = y\n",
    "plt.figure()\n",
    "plt.plot(x_step, y_step, color= \"blueviolet\")\n",
    "plt.plot(x_values, y_values, color= \"darkorange\")\n",
    "plt.show()"
   ]
  },
  {
   "cell_type": "markdown",
   "metadata": {},
   "source": [
    "Now, you want to see how well this worked.  One way to do this is to make a graph.  \n",
    "- As you did at the beginning, plot the model projectile motion curve. \n",
    "- Also, plot ``y_step`` vs. ``x_step``.\n",
    "- Sometimes it's hard to figure out which one is which.  One way to tell the difference is to have a different line style, for example, ``plt.plot(x_step, y_step, linestyle='--')`` will create a dashed line.  (You can search for other line styles as well, also you can figure out how to make plots different colors, etc.)"
   ]
  },
  {
   "cell_type": "code",
   "execution_count": 48,
   "metadata": {},
   "outputs": [
    {
     "data": {
      "image/png": "[encoded data removed]",
      "text/plain": [
       "<Figure size 432x288 with 1 Axes>"
      ]
     },
     "metadata": {
      "needs_background": "light"
     },
     "output_type": "display_data"
    }
   ],
   "source": [
    "plt.figure()\n",
    "plt.plot(x_step, y_step, color= \"blueviolet\")\n",
    "plt.plot(x_values, y_values, color= \"darkorange\")\n",
    "plt.show()"
   ]
  },
  {
   "cell_type": "markdown",
   "metadata": {},
   "source": [
    "Your results will have the same shape, but won't perfectly match.  Why not?  Basically, you replaced $\\displaystyle \\frac{dx}{dt}$ with $\\displaystyle \\frac{\\Delta x}{\\Delta t}$.  In calculus, this equivalence only work when $\\Delta t \\rightarrow 0$.  However, with a computer, we can't actually let ``dt = 0`` (because then we'd take an infinite number of time steps!).  The solution:  take as small a value of dt as possible for accuracy, while taking as large a value of dt as possible for speed.  It is a trade-off.  \n",
    "\n",
    "In your code above, we want to make ``dt`` smaller.  How can we do that?  Well, the line ``dt = time[1] - time[0]`` uses the results of ``np.linspace( )`` to figure out ``dt``.  This means we should change the ``np.linspace( )`` command to make the spacing between time points closer.  Change this by an order of magnitude and run the code, you should see that the result is closer to the model.  Continue to make ``dt`` smaller by an order of magnitude until there is a noticable slowdown of your computing time (i.e., it takes at least a second to run; you don't want to go further because 1 second quickly becomes 10, then 100 and so on).  Put all the code needed to do the calculation and graph the output into one cell for ease."
   ]
  },
  {
   "cell_type": "code",
   "execution_count": 53,
   "metadata": {},
   "outputs": [
    {
     "data": {
      "image/png": "[encoded data removed]",
      "text/plain": [
       "<Figure size 432x288 with 1 Axes>"
      ]
     },
     "metadata": {
      "needs_background": "light"
     },
     "output_type": "display_data"
    }
   ],
   "source": [
    "time = np.linspace(0,8,1000000)\n",
    "dt = time[1] - time[0]\n",
    "x_step = np.zeros(len(time))\n",
    "y_step = np.zeros(len(time))\n",
    "\n",
    "x = 0\n",
    "y = 0\n",
    "vx = vx_0\n",
    "vy = vy_0\n",
    "\n",
    "for i in range(len(time)):\n",
    "    x, y, vx, vy = time_step(x, y, vx, vy, dt)\n",
    "    x_step[i] = x\n",
    "    y_step [i] = y\n",
    "plt.figure()\n",
    "plt.plot(x_step, y_step, color= \"blueviolet\")\n",
    "plt.plot(x_values, y_values, color= \"darkorange\")\n",
    "plt.show()"
   ]
  },
  {
   "cell_type": "markdown",
   "metadata": {},
   "source": [
    "But, what if we didn't actually know what it should look like?  We, can do some physics and know that the total energy is conserved (setting m = 1 and knowing that $g = 9.8$):\n",
    "\n",
    "$\\displaystyle E = \\frac{1}{2} (v_x^2 + v_y^2) + g y $\n",
    "\n",
    "Let's check the energy at each time for our time_step routine.  Since we want to calculate energy a lot, it make sense to create a function.  Create an energy function that accepts as inputs x, y, vx, vy and returns the energy as defined above."
   ]
  },
  {
   "cell_type": "code",
   "execution_count": 56,
   "metadata": {},
   "outputs": [],
   "source": [
    "def energy_func(x, y, vx, vy):\n",
    "    g = 9.8\n",
    "    return .5*(vx**2+vy**2)+g*y"
   ]
  },
  {
   "cell_type": "markdown",
   "metadata": {},
   "source": [
    "Now we're prepared to take the energy at every time point, and make a graph.  To do this, we need to alter our previous code so that you save not only `x_step` and `y_step`, but the energy as well within your ``for`` loop.\n",
    "- Create a plot of energy vs. time\n",
    "- Notice how this plot changes as ``dt`` gets smaller"
   ]
  },
  {
   "cell_type": "code",
   "execution_count": 71,
   "metadata": {},
   "outputs": [
    {
     "data": {
      "image/png": "[encoded data removed]",
      "text/plain": [
       "<Figure size 432x288 with 1 Axes>"
      ]
     },
     "metadata": {
      "needs_background": "light"
     },
     "output_type": "display_data"
    }
   ],
   "source": [
    "time = np.linspace(0,8,10000000)\n",
    "dt = time[1] - time[0]\n",
    "\n",
    "energy = np.zeros(len(time))\n",
    "\n",
    "x = 0\n",
    "y = 0\n",
    "vx = vx_0\n",
    "vy = vy_0\n",
    "\n",
    "for i in range(len(time)):\n",
    "    x, y, vx, vy = time_step(x, y, vx, vy, dt)\n",
    "    energy[i] = energy_func(x, y, vx, vy)\n",
    "    \n",
    "plt.figure()\n",
    "plt.plot(time, energy, color = \"hotpink\")\n",
    "plt.show()"
   ]
  },
  {
   "cell_type": "markdown",
   "metadata": {},
   "source": [
    "**If you have time, completing this is your homework:** Let's include air resistance:\n",
    "$$\\displaystyle \\frac{dx}{dt} = v_x \\qquad \\qquad \\frac{d v_x}{dt} = a_x = - b v_x$$\n",
    "$$\\displaystyle \\frac{dy}{dt} = v_y \\qquad \\qquad \\frac{d v_y}{dt} = a_y = -g - b v_y$$\n",
    "using $g = 9.8$ and $b = 0.1$.  You should write code that:\n",
    "- rewrites the ``time_step`` function to incorporate a different ``ax`` and ``ay``.\n",
    "- Use the same initial conditions, and plot the result\n",
    "- Include the projectile model as a second curve on the plot to see the difference.  Make sure at least one of the curves has a different ``linestyle``.\n",
    "- Plot energy vs. time to see that the results at least physically make sense."
   ]
  },
  {
   "cell_type": "code",
   "execution_count": null,
   "metadata": {},
   "outputs": [],
   "source": []
  }
 ],
 "metadata": {
  "kernelspec": {
   "display_name": "Python 3 (ipykernel)",
   "language": "python",
   "name": "python3"
  },
  "language_info": {
   "codemirror_mode": {
    "name": "ipython",
    "version": 3
   },
   "file_extension": ".py",
   "mimetype": "text/x-python",
   "name": "python",
   "nbconvert_exporter": "python",
   "pygments_lexer": "ipython3",
   "version": "3.9.12"
  }
 },
 "nbformat": 4,
 "nbformat_minor": 2
}

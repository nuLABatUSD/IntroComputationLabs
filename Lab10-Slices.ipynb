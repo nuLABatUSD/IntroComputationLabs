{
 "cells": [
  {
   "cell_type": "markdown",
   "metadata": {},
   "source": [
    "# Lab 10: Slices"
   ]
  },
  {
   "cell_type": "code",
   "execution_count": null,
   "metadata": {},
   "outputs": [],
   "source": [
    "import numpy as np\n",
    "import matplotlib.pyplot as plt"
   ]
  },
  {
   "cell_type": "markdown",
   "metadata": {},
   "source": [
    "Python has many ways of accessing elements of arrays. Start by creating an array:"
   ]
  },
  {
   "cell_type": "code",
   "execution_count": null,
   "metadata": {},
   "outputs": [],
   "source": [
    "arr = np.arange(10)\n",
    "print(arr)"
   ]
  },
  {
   "cell_type": "markdown",
   "metadata": {},
   "source": [
    "Now, as we've done before, we can print elements from this array:"
   ]
  },
  {
   "cell_type": "code",
   "execution_count": null,
   "metadata": {},
   "outputs": [],
   "source": [
    "print(arr[0])\n",
    "print(arr[1])\n",
    "print(arr[2])"
   ]
  },
  {
   "cell_type": "markdown",
   "metadata": {},
   "source": [
    "This is indexes as we are used to them. We start counting from zero, and access the array elements in order. However, we can also use negative numbers as indexes:"
   ]
  },
  {
   "cell_type": "code",
   "execution_count": null,
   "metadata": {},
   "outputs": [],
   "source": [
    "print(arr[-1])\n",
    "print(arr[-2])\n",
    "print(arr[-3])"
   ]
  },
  {
   "cell_type": "markdown",
   "metadata": {},
   "source": [
    "So, we can see that the index ``[-1]`` is the last element, and we count backward through the array,"
   ]
  },
  {
   "cell_type": "code",
   "execution_count": null,
   "metadata": {},
   "outputs": [],
   "source": [
    "for i in range(1, 11):\n",
    "    print(-i, arr[-i])"
   ]
  },
  {
   "cell_type": "markdown",
   "metadata": {},
   "source": [
    "So, with our array of 10 numbers, we can use the index 0 through 9 to index the elements counting forward; and we can use the index -1 through -10 to index the elements counting backward.\n",
    "\n",
    "Let's bring back our random walks from the last lab. Here is some code to create Gaussian random walks, and a matrix that contains 2000 rows and 100 columns, each of the 2000 rows representing a different random walk."
   ]
  },
  {
   "cell_type": "code",
   "execution_count": null,
   "metadata": {},
   "outputs": [],
   "source": [
    "rng = np.random.default_rng()\n",
    "def gaussian_random_walk(N):\n",
    "    walk = np.zeros(N)\n",
    "    for i in range(1, N):\n",
    "        walk[i] = walk[i-1] + rng.standard_normal()\n",
    "    return walk\n",
    "\n",
    "matrix_of_walks = np.zeros((2000,100))\n",
    "for i in range(2000):\n",
    "    matrix_of_walks[i, :] = gaussian_random_walk(100)\n",
    "time = np.arange(100)\n",
    "\n",
    "plt.figure()\n",
    "plt.plot(time, matrix_of_walks[0,:])\n",
    "plt.show()"
   ]
  },
  {
   "cell_type": "markdown",
   "metadata": {},
   "source": [
    "The plot statement shows us how to create a plot of the first (index 0) random walk. In the cell below, create a loop to plot the first 100 walks. Then, in a separate figure, create a loop to plot the last 100 walks (indexes -1 through -100). Please note in the code above how to ensure you have 100 walks plotted."
   ]
  },
  {
   "cell_type": "code",
   "execution_count": null,
   "metadata": {},
   "outputs": [],
   "source": []
  },
  {
   "cell_type": "markdown",
   "metadata": {},
   "source": [
    "But what does the ``[:]`` mean? This is called a *slice* of the array, which allows us to pick values from an array. Let's go back to our original array:"
   ]
  },
  {
   "cell_type": "code",
   "execution_count": null,
   "metadata": {},
   "outputs": [],
   "source": [
    "print(arr[:])"
   ]
  },
  {
   "cell_type": "markdown",
   "metadata": {},
   "source": [
    "What does ``[:]`` do? It includes all the terms. Run the following:"
   ]
  },
  {
   "cell_type": "code",
   "execution_count": null,
   "metadata": {},
   "outputs": [],
   "source": [
    "print(arr[:2])\n",
    "print(arr[:6])"
   ]
  },
  {
   "cell_type": "markdown",
   "metadata": {},
   "source": [
    "``arr[:2]`` is the first **two** terms of the array, which are index 0 and 1. ``arr[:6]`` is the first **six** terms of the array, which are indexes 0, 1, 2, 3, 4, 5. In the cell below, print out the first 4 terms of the array using a slice."
   ]
  },
  {
   "cell_type": "code",
   "execution_count": null,
   "metadata": {},
   "outputs": [],
   "source": []
  },
  {
   "cell_type": "markdown",
   "metadata": {},
   "source": [
    "We can also use negative indexes, but it becomes a little more nuanced:"
   ]
  },
  {
   "cell_type": "code",
   "execution_count": null,
   "metadata": {},
   "outputs": [],
   "source": [
    "print(arr[:-1])\n",
    "print(arr[:-3])"
   ]
  },
  {
   "cell_type": "markdown",
   "metadata": {},
   "source": [
    "``arr[:-1]`` includes all terms **except for** the last one, and ``arr[:-3]`` includes all terms except for the final three.\n",
    "\n",
    "We can further slice arrays:"
   ]
  },
  {
   "cell_type": "code",
   "execution_count": null,
   "metadata": {},
   "outputs": [],
   "source": [
    "print(arr[2:6])\n",
    "print(arr[2], arr[6])"
   ]
  },
  {
   "cell_type": "markdown",
   "metadata": {},
   "source": [
    "You'll notice that ``arr[2:6]`` tells us which index to start on (index 2) and it tells us to stop before index 6. (It's much like ``range()`` when we do ``for`` loops.)\n",
    "\n",
    "We can make a plot of a random walk over a slice, for example the following creates a plot for random walk index 50 for time steps starting at 10 and ending at 30."
   ]
  },
  {
   "cell_type": "code",
   "execution_count": null,
   "metadata": {},
   "outputs": [],
   "source": [
    "plt.figure()\n",
    "plt.plot(time[10:31], matrix_of_walks[50, 10:31])\n",
    "plt.show()"
   ]
  },
  {
   "cell_type": "markdown",
   "metadata": {},
   "source": [
    "Notice we needed to take a slice of both the time array as well as the random walk to make sure the x and y axes have the same length.\n",
    "\n",
    "Create a plot of the random walk with index 100 for time steps between 15 and 44."
   ]
  },
  {
   "cell_type": "code",
   "execution_count": null,
   "metadata": {},
   "outputs": [],
   "source": []
  },
  {
   "cell_type": "markdown",
   "metadata": {},
   "source": [
    "**Exercise**: mean and standard deviation. The standard normal provides random numbers whose mean is 0, standard deviation is 1, and follows a Gaussian distribution Let's first calculate a million standard normal random numbers, then calculate its mean, its standard deviation, and create a histogram."
   ]
  },
  {
   "cell_type": "code",
   "execution_count": null,
   "metadata": {},
   "outputs": [],
   "source": [
    "z = rng.standard_normal(1000000)"
   ]
  },
  {
   "cell_type": "code",
   "execution_count": null,
   "metadata": {},
   "outputs": [],
   "source": [
    "print(\"mean = \", np.mean(z))\n",
    "print(\"standard deviation = \", np.std(z))\n",
    "plt.figure()\n",
    "plt.hist(z, 100)\n",
    "plt.show()"
   ]
  },
  {
   "cell_type": "markdown",
   "metadata": {},
   "source": [
    "The mean is not zero and the standard deviation is not one. How do we know that these results are consistent with a standard normal random number? If we were doing an experiment, we would run this many times, and perhaps we could define a mean value of the means and a mean value of the standard deviations, and maybe some sense of uncertainty. We can do a computational experiment. *However*, it may take a really long time to run code, so we don't want to continually create millions of standard normal random variables. \n",
    "\n",
    "We introduce a method of sampling to estimate these values and, crucially, their uncertainty. First, let's look at the first 10000 random variables:"
   ]
  },
  {
   "cell_type": "code",
   "execution_count": null,
   "metadata": {},
   "outputs": [],
   "source": [
    "test_array = np.arange(len(z))\n",
    "print(test_array[0:10000])\n",
    "print(len(test_array[0:10000]))\n",
    "print(len(z[0:10000]))\n",
    "print(np.mean(z[0:10000]), np.std(z[0:10000]))"
   ]
  },
  {
   "cell_type": "markdown",
   "metadata": {},
   "source": [
    "What are we doing here?\n",
    "- First, we create ``test_array``. We create this so we can make certain that our slices match what we expect.\n",
    "- ``test_array[0:10000]`` is shown to be the first 10,000 elements from 0 to 9999.\n",
    "- ``len(test_array[0:10000])`` confirms that the length is 10,000, that there are 10,000 elements in the array\n",
    "- ``len(z[0:10000])`` confirms that we are looking at 10,000 elements of ``z``, our array of standard normal random variables.\n",
    "- Finally, we print the mean and standard deviation of the first 10,000 random values.\n",
    "\n",
    "Now, we don't need to re-define ``test_array``, but we can certainly use it to make sure we are doing the right thing. In the cell below, write code that will print the mean and standard deviation of the second 10,000 random values, that is those from index 10000 to 19999. The first three print statements above confirm to us that we are looking at the second 10,000 random values. You should notice that both the mean and standard deviation are close to their expected values, but not quite."
   ]
  },
  {
   "cell_type": "code",
   "execution_count": null,
   "metadata": {},
   "outputs": [],
   "source": []
  },
  {
   "cell_type": "markdown",
   "metadata": {},
   "source": [
    "Repeat your work, but now for the next 10,000 values, index 20000 to 29999. We are doing this so we can determine the appropriate pattern."
   ]
  },
  {
   "cell_type": "code",
   "execution_count": null,
   "metadata": {},
   "outputs": [],
   "source": []
  },
  {
   "cell_type": "markdown",
   "metadata": {},
   "source": [
    "Hopefully we are now ready to create a loop, but before we do so, let's confirm. We can do this 100 times to cover the entire array. \n",
    "\n",
    "To confirm we have the right pattern, fill in the ``[ : ]`` so that the first slice runs from 0 to 9999, then the second from 10000 to 19999, and so forth. To do so we need an appropriate expression that involves our loop variable ``i``."
   ]
  },
  {
   "cell_type": "code",
   "execution_count": null,
   "metadata": {},
   "outputs": [],
   "source": [
    "for i in range(100):\n",
    "    print(test_array[ : ])"
   ]
  },
  {
   "cell_type": "markdown",
   "metadata": {},
   "source": [
    "Now we can do this. We can create 100 slices of 10,000 entries in ``z``. For each slice, we can calculate the mean value and the standard deviation and store it in an array, e.g.:"
   ]
  },
  {
   "cell_type": "code",
   "execution_count": null,
   "metadata": {},
   "outputs": [],
   "source": [
    "mean_array = np.zeros(100)\n",
    "std_array = np.zeros(100)\n",
    "\n",
    "mean_array[0] = np.mean(z[0:10000])\n",
    "std_array[0] = np.std(z[0:10000])\n",
    "\n",
    "mean_array[1] = np.mean(z[10000:20000])\n",
    "std_array[1] = np.mean(z[10000:20000])"
   ]
  },
  {
   "cell_type": "markdown",
   "metadata": {},
   "source": [
    "Create a loop to find all 100 values of ``mean_array`` and ``std_array``. Once you've gotten these two arrays we want four things:\n",
    "- Create a histogram (``plt.hist(mean_array)``) of the mean values.\n",
    "- Create a second histogram of the standard deviation values.\n",
    "- Print out the mean and standard deviation of the mean values (the mean of the means and the standard deviation of the mean).\n",
    "- Print out the mean and standard deviation of the standard deviation values (the mean of the standard deviations and the standard deviation of the standard deviations!)\n",
    "\n",
    "This work should show that the results are consistent with a Gaussian with zero mean and unit standard deviation."
   ]
  },
  {
   "cell_type": "code",
   "execution_count": null,
   "metadata": {},
   "outputs": [],
   "source": []
  },
  {
   "cell_type": "markdown",
   "metadata": {},
   "source": [
    "Once you're happy with your result you should copy and paste code into the submission notebook. There you'll need to remember to include the steps of initializing the random number generator, then creating an array of 1,000,000 standard normal random values."
   ]
  },
  {
   "cell_type": "markdown",
   "metadata": {},
   "source": [
    "**Exercise:** 2D random walks. We can discuss 2-dimensional random walks, whose x- and y-components are stepped as chosen by a standard normal random variable. Because the steps are independent, we can use the same functions we did previously, just once for x and once for y. For example, we can plot a single random walk in 2-dimensions, which starts at (0, 0) and takes its random steps. The function returns an array as its result, so we can use ``gaussian_random_walk(100)`` to create a random walk in x and a random walk in y."
   ]
  },
  {
   "cell_type": "code",
   "execution_count": null,
   "metadata": {},
   "outputs": [],
   "source": [
    "plt.figure()\n",
    "plt.plot(gaussian_random_walk(100), gaussian_random_walk(100))\n",
    "plt.show()"
   ]
  },
  {
   "cell_type": "markdown",
   "metadata": {},
   "source": [
    "Now we are ready to create two matrices, each of size (2000, 100)...(make sure you have enough parentheses). After initializing both matrices, use a loop to calculate the random walks for each matrix. In total we are going to have two matrices, each 2000 x 100 with a random walk on every row."
   ]
  },
  {
   "cell_type": "code",
   "execution_count": null,
   "metadata": {},
   "outputs": [],
   "source": []
  },
  {
   "cell_type": "markdown",
   "metadata": {},
   "source": [
    "To plot a single random walk, we would want to: ``plt.plot(x[0,:], y[0,:])``, which would trace out the path of the random walk, index 0. Use a loop to plot the first 100 random walks."
   ]
  },
  {
   "cell_type": "code",
   "execution_count": null,
   "metadata": {},
   "outputs": [],
   "source": []
  },
  {
   "cell_type": "markdown",
   "metadata": {},
   "source": [
    "Use a loop to plot the **final** 100 walks."
   ]
  },
  {
   "cell_type": "code",
   "execution_count": null,
   "metadata": {},
   "outputs": [],
   "source": []
  },
  {
   "cell_type": "markdown",
   "metadata": {},
   "source": [
    "When you're satisfied with your result, copy and paste your work in the submission notebook. To do so, you're going to need to make sure to include functions for creating random walks."
   ]
  },
  {
   "cell_type": "code",
   "execution_count": null,
   "metadata": {},
   "outputs": [],
   "source": []
  },
  {
   "cell_type": "markdown",
   "metadata": {},
   "source": [
    "How far do the random walks travel in 100 units of time? To do this, it would be useful to have a matrix of distances, say: ``r_matrix = np.sqrt(x_matrix**2 + y_matrix**2)``. The result is a 2000 x 100 matrix of radius values. (Here ``x_matrix`` and ``y_matrix`` are the matrices of random walks you've already generated.)"
   ]
  },
  {
   "cell_type": "code",
   "execution_count": null,
   "metadata": {},
   "outputs": [],
   "source": []
  },
  {
   "cell_type": "markdown",
   "metadata": {},
   "source": [
    "How do we know this works? First, in the space below ``print(r_matrix.shape)``. If you don't call your matrix ``r_matrix``, use whatever name you called it. You can see it should print (2000, 100), which tells you the shape of the matrix."
   ]
  },
  {
   "cell_type": "code",
   "execution_count": null,
   "metadata": {},
   "outputs": [],
   "source": []
  },
  {
   "cell_type": "markdown",
   "metadata": {},
   "source": [
    "Next, create a plot of the first 100 walks with their r-value vs. time (e.g., ``plt.plot(time, r_matrix[i,:])``)."
   ]
  },
  {
   "cell_type": "code",
   "execution_count": null,
   "metadata": {},
   "outputs": [],
   "source": []
  },
  {
   "cell_type": "markdown",
   "metadata": {},
   "source": [
    "Finally, we want to find how far the walks get after 100 steps. First, ``r_matrix[:,-1]``. Let's unpack this:\n",
    "- ``[:]``, the first index includes all values of the first index, in other words, all 2000 walks.\n",
    "- ``[-1]``, the second index tells us we're just looking at the last step.\n",
    "\n",
    "So, ``r_matrix[:,-1]`` is an array, and it's an array of all the final time values of r. Create a histogram of these r values."
   ]
  },
  {
   "cell_type": "code",
   "execution_count": null,
   "metadata": {},
   "outputs": [],
   "source": []
  },
  {
   "cell_type": "markdown",
   "metadata": {},
   "source": [
    "Finally, we'd like an estimate of this final value. To do this, we want to find a value for r and its standard deviation. To do this:\n",
    "- Let's create 20 samples, each with 100 elements (compare this with our previous work where we created 100 samples of 10,000 elements).\n",
    "- For each sample of 100 elements, we calculate the mean value of r.\n",
    "- Using these 20 samples, we find a mean value and standard deviation of this mean. The result is a best-value for r and an uncertainty."
   ]
  },
  {
   "cell_type": "code",
   "execution_count": null,
   "metadata": {},
   "outputs": [],
   "source": []
  },
  {
   "cell_type": "markdown",
   "metadata": {},
   "source": [
    "When you're happy with your results, on your submission notebook you should create a histogram of r values, as well as printing a value for r and its uncertainty."
   ]
  }
 ],
 "metadata": {
  "kernelspec": {
   "display_name": "Python [conda env:base] *",
   "language": "python",
   "name": "conda-base-py"
  },
  "language_info": {
   "codemirror_mode": {
    "name": "ipython",
    "version": 3
   },
   "file_extension": ".py",
   "mimetype": "text/x-python",
   "name": "python",
   "nbconvert_exporter": "python",
   "pygments_lexer": "ipython3",
   "version": "3.12.7"
  }
 },
 "nbformat": 4,
 "nbformat_minor": 4
}

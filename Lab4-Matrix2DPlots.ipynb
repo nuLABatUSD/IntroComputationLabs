{
 "cells": [
  {
   "cell_type": "markdown",
   "id": "9cde98df-ac55-411a-ac3c-326f8b4cf40e",
   "metadata": {},
   "source": [
    "# Plotting in 2D\n",
    "\n",
    "We always start by importing our essential Python modules"
   ]
  },
  {
   "cell_type": "code",
   "execution_count": 1,
   "id": "eb33e183-aa02-48a7-858d-1e62d0e41c5e",
   "metadata": {},
   "outputs": [],
   "source": [
    "import numpy as np\n",
    "import matplotlib.pyplot as plt"
   ]
  },
  {
   "cell_type": "markdown",
   "id": "841dba53-ba31-460a-bf8e-fea863bf1d6b",
   "metadata": {},
   "source": [
    "# Matrices\n",
    "\n",
    "Run the code below."
   ]
  },
  {
   "cell_type": "code",
   "execution_count": null,
   "id": "b4df7b7c-b9e7-4812-9ee7-8076734a7ec1",
   "metadata": {},
   "outputs": [],
   "source": [
    "M = np.zeros((2,3))\n",
    "print(M)"
   ]
  },
  {
   "cell_type": "markdown",
   "id": "24b6931f-7766-40d7-aa5a-914adaed9cc8",
   "metadata": {},
   "source": [
    "Take careful note of the syntax (especially the number of parentheses required).\n",
    "\n",
    "What kind of mathematical object is ``M``? What are the dimensions of this object?\n",
    "\n",
    "To access individual elements, use ``M[row, column]``. (Don't forget that we start counting at 0, so that row 1 is the second row and column 0 is the first column)"
   ]
  },
  {
   "cell_type": "code",
   "execution_count": null,
   "id": "4d8d1a33-d25c-4ef2-a547-0130c1351b63",
   "metadata": {},
   "outputs": [],
   "source": [
    "M[1,0] = 2\n",
    "print(M)"
   ]
  },
  {
   "cell_type": "markdown",
   "id": "19047bec-aace-418d-96b6-6ca833199821",
   "metadata": {},
   "source": [
    "We need to introduce something new, a **nested for loop**, where one loop runs within another. Run the code below:"
   ]
  },
  {
   "cell_type": "code",
   "execution_count": null,
   "id": "fc2f23d9-3d90-4793-bf75-b6ec5a725f90",
   "metadata": {},
   "outputs": [],
   "source": [
    "for a in range(2):\n",
    "    for b in range(3):\n",
    "        print(\"a=\", a, \"b=\", b)"
   ]
  },
  {
   "cell_type": "markdown",
   "id": "c8440e9a-4c61-493c-a64e-554b5ec3849e",
   "metadata": {},
   "source": [
    "What do you notice about the values in the loop? The nested for loop allows us to set every element of the matrix.\n",
    "\n",
    "But, a matrix is an array of arrays. Run the code below:"
   ]
  },
  {
   "cell_type": "code",
   "execution_count": null,
   "id": "30833b13-2f7d-43bd-a663-13646a1719f3",
   "metadata": {},
   "outputs": [],
   "source": [
    "for a in range(2):\n",
    "    print(\"Row a=\", a, \": M[a]=\", M[a])"
   ]
  },
  {
   "cell_type": "markdown",
   "id": "1e15d441-bfaa-4eeb-8ca1-3851f76b8de7",
   "metadata": {},
   "source": [
    "So, accessing the matrix with a single index gives us an array.\n",
    "\n",
    "Run the following code:"
   ]
  },
  {
   "cell_type": "code",
   "execution_count": null,
   "id": "9ce12dbb-59b8-4974-acde-532f751a1cf8",
   "metadata": {},
   "outputs": [],
   "source": [
    "def NotFun(a,b):\n",
    "    return np.cos( np.pi * (a + 3*b) )  \n",
    "M = np.zeros((2,3))\n",
    "for i in range(2):\n",
    "    for j in range(3):\n",
    "        M[i,j] = NotFun(i,j)"
   ]
  },
  {
   "cell_type": "markdown",
   "id": "8f6765e1-0f14-4243-bbf5-8abca83b4c92",
   "metadata": {},
   "source": [
    "Predict the elements of the matrix and then print the matrix in the cell below."
   ]
  },
  {
   "cell_type": "code",
   "execution_count": null,
   "id": "e7aa95c5-abc6-4d40-8467-8dfcb5b4bc86",
   "metadata": {},
   "outputs": [],
   "source": []
  },
  {
   "cell_type": "markdown",
   "id": "1a2093e3-6bfc-429c-aed3-2b3b7aa9b55f",
   "metadata": {},
   "source": [
    "This is how we can set up the values of a matrix using a function.\n",
    "\n",
    "We want to create a 2-dimensional plot. Recall with a 1-dimensional plot, we \n",
    "- created an array of x-axis values,\n",
    "- initialized an array of y-axis values,\n",
    "- created a function, then used the function and a loop to set the values of the y-axis values\n",
    "- then used ``plt.plot(x, y)`` to make a plot\n",
    "\n",
    "To create a 2-dimensional plot we need to:\n",
    "- create **two** arrays of x-axis and y-axis values,\n",
    "- initialized a **matrix** to hold all the values to plot\n",
    "- create a function and use a **nested loop** to set all the values of the matrix\n",
    "- create what's called a \"heat map\" plot"
   ]
  },
  {
   "cell_type": "markdown",
   "id": "32a97d3c-e2f6-4f4e-8d80-0c9053f8b4a4",
   "metadata": {},
   "source": [
    "Let's make a heat map of the function\n",
    "$$ f(x, y) = e^{-(x^2 + y^2)}$$\n",
    "**First**: Create two arrays of x- and y-axis values, 100 values, linearly spaced, between -2 and 2. (Print out both arrays to confirm that this does what you expect.)"
   ]
  },
  {
   "cell_type": "code",
   "execution_count": null,
   "id": "f90dc384-4789-41bd-823f-274cc3378e9a",
   "metadata": {},
   "outputs": [],
   "source": []
  },
  {
   "cell_type": "markdown",
   "id": "f6fe5138-b0fb-4469-b3fe-e489b45edf53",
   "metadata": {},
   "source": [
    "**Next**, initialize a matrix. We want the rows to correspond to the y-axis values and the columns to the x-axis values, so we want to make sure the values that go into our ``np.zeros`` expression are the tuple ``(len(y), len(x))`` ... with the appropriate array names here."
   ]
  },
  {
   "cell_type": "code",
   "execution_count": null,
   "id": "32569587-f7e7-410f-a712-c35d1fd3929d",
   "metadata": {},
   "outputs": [],
   "source": []
  },
  {
   "cell_type": "markdown",
   "id": "b5ab7254-28c8-4401-a05f-ad16228a7a22",
   "metadata": {},
   "source": [
    "**Create** a function, $f (x, y)$ that takes two inputs and returns $e^{-(x^2 + y^2)}$. Print out a couple of values to make sure your function works as expected."
   ]
  },
  {
   "cell_type": "code",
   "execution_count": null,
   "id": "afe045e7-7197-434d-990d-2e9f8b9fa320",
   "metadata": {},
   "outputs": [],
   "source": []
  },
  {
   "cell_type": "markdown",
   "id": "b9481a62-fb0a-4c5d-952c-63a2aaf466fc",
   "metadata": {},
   "source": [
    "Now, the important step. We need a nested loop, let's choose ``i`` to be the index for rows and ``j`` the index for columns. So, we would use ``for i in range(len(y)):`` and ``for j in range(len(x)):`` as the nested loops that incorporate all of the elements of the matrix.\n",
    "\n",
    "Finally, we set the elements of the matrix ``M[i,j]``. ``i`` is for the rows, so it corresponds to ``y[i]``; ``j`` is for the columns, so it corresponds to ``x[j]``. Create the nested loop to use the function (with its appropriate inputs, ``x[j]`` and ``j[i]``) to fill the matrix."
   ]
  },
  {
   "cell_type": "code",
   "execution_count": null,
   "id": "ec0f638b-b5a3-4ca6-9734-a6e68e7aea22",
   "metadata": {},
   "outputs": [],
   "source": []
  },
  {
   "cell_type": "markdown",
   "id": "0540ca1f-7b9c-4cdb-9ee1-61ee371e1593",
   "metadata": {},
   "source": [
    "Now, we are ready to plot. Replace ``MatrixName`` below with the name of your matrix and run:"
   ]
  },
  {
   "cell_type": "code",
   "execution_count": null,
   "id": "0c55f92a-c48e-42cf-891f-8240557413f2",
   "metadata": {},
   "outputs": [],
   "source": [
    "plt.figure(figsize=(8,8))\n",
    "plt.imshow(MatrixName,extent=[-2,2,-2,2]) #<== Replace MatrixName with your matrix's name\n",
    "plt.colorbar()\n",
    "plt.show()"
   ]
  },
  {
   "cell_type": "markdown",
   "id": "a2a09a11-4eda-489c-9905-5f1d150b93c5",
   "metadata": {},
   "source": [
    "In this code:\n",
    "- ``figsize=(8,8)`` creates an 8x8 figure\n",
    "- ``plt.imshow`` creates the color plot\n",
    "- ``extent = [x_min, x_max, y_min, y_max]`` sets the min and max values of x and y.\n",
    "- ``plt.colorbar()`` creates the color bar\n",
    "\n",
    "Place all your code needed to create the heat map in the cell below and run it."
   ]
  },
  {
   "cell_type": "code",
   "execution_count": null,
   "id": "ccce9896-d2b0-46c4-a946-d17d411ec12e",
   "metadata": {},
   "outputs": [],
   "source": []
  },
  {
   "cell_type": "markdown",
   "id": "596c36b6-f7c9-467b-9c89-62faa8f1eb83",
   "metadata": {},
   "source": [
    "There's a lot of repetition and it looks nice, but let's make sure we've got it. Let's plot the heat map, except:\n",
    "- Use 50 points in x from -2 to +2\n",
    "- Use 200 points in y from -4 to +4\n",
    "\n",
    "In you should (1) copy your code from the cell above; and make sure that you just need to change the code in three places: (a) forming your array of x-values; (b) forming your array of y-values; and (c) the ``extent`` input into ``plt.imshow``. Your heat map should look the same, though the region plotted will be diffeerent."
   ]
  },
  {
   "cell_type": "code",
   "execution_count": null,
   "id": "02c48b7e-f4dc-4a43-aa71-0854ba855cd1",
   "metadata": {},
   "outputs": [],
   "source": []
  },
  {
   "cell_type": "markdown",
   "id": "e67409a4-88ff-4ad9-a9ae-8657a52a427d",
   "metadata": {},
   "source": [
    "**When you are satisfied with your result,** copy and paste your code into the submission notebook and make sure it runs.\n",
    "\n",
    "Next, we need to make sure we've taken care of the x- and y-axes. So, let's make a heat map of a new function,\n",
    "$$ g(x, y) = e^{-x^2} e^{-y^2 / 4} .$$\n",
    "Use the same x- and y-axis arrays. Your heat map should appear to be elliptical, oriented with its longer axis (it's \"major axis\") in the y-direction."
   ]
  },
  {
   "cell_type": "code",
   "execution_count": null,
   "id": "6e3195a8-c0f8-4c5b-971d-2d65e96dda89",
   "metadata": {},
   "outputs": [],
   "source": []
  },
  {
   "cell_type": "markdown",
   "id": "32b10aef-db3f-417f-93c9-22d20420ebc2",
   "metadata": {},
   "source": [
    "**Once you're satisfied with your result,** copy and paste your code into the submission notebook and make sure it runs."
   ]
  },
  {
   "cell_type": "markdown",
   "id": "781b2d6a-271f-4ad4-8bd8-f2e92c449d27",
   "metadata": {},
   "source": [
    "These heat maps are visually appealing, but more difficult to do science, since they lack definition. A **contour plot** creates similar plot, with well-defined values and contours. To do this, replace your ``plt.imshow(MatrixName,...)`` command with ``plt.contourf(x, y, MatrixName)``. Plot below."
   ]
  },
  {
   "cell_type": "code",
   "execution_count": null,
   "id": "9b2f5909-f63a-4ce8-9181-748c9d77a935",
   "metadata": {},
   "outputs": [],
   "source": []
  },
  {
   "cell_type": "markdown",
   "id": "dee18876-1aec-4af7-9c93-d041faea408b",
   "metadata": {},
   "source": [
    "This creates a more precise plot that better connects the values to locations. What is most useful is to not have shading, just lines. To do this, use ``plt.contour``. (The extra \"f\" we used before stands for \"filled\".) In the cell block below, create a contour plot."
   ]
  },
  {
   "cell_type": "code",
   "execution_count": null,
   "id": "8d4e8159-5074-4490-852b-fc71382f569e",
   "metadata": {},
   "outputs": [],
   "source": []
  },
  {
   "cell_type": "markdown",
   "id": "c0e26146-e3a9-4c5c-bad5-acddbbaff5fd",
   "metadata": {},
   "source": [
    "We are relying on Python to choose the contours for us, but really, we want to be in charge. Let's choose to create contours that are: 75%, 50%, and 25% of the maximum value. How can we do this? ``np.max( )`` works for matrices too. This will determine the maximum value, which you'll need to form our contours. To choose the contour levels, we can use the ``levels`` option: ``plt.contour(x, y, MatrixName, levels = [.., .., ..])`` Using ``levels``, we create a list of values we want to be our contours.\n",
    "\n",
    "Use ``np.max`` in choosing to plot contours of $g(x, y)$, once again with x from -2 to +2 and y from -4 to +4."
   ]
  },
  {
   "cell_type": "code",
   "execution_count": null,
   "id": "a12f7f2b-7caf-4e29-ba25-b5591aef3a03",
   "metadata": {},
   "outputs": [],
   "source": []
  },
  {
   "cell_type": "markdown",
   "id": "d5ee6329-722e-4190-86fc-b99810b536bb",
   "metadata": {},
   "source": [
    "We can actually have Python label our lines, but it's not so straight forward. Add to our code the following:\n",
    "\n",
    "``CS = plt.contour(x, y, MatrixName, levels=[..]``\n",
    "\n",
    "``plt.clabel(CS)``\n",
    "\n",
    "The first step both creates the contour plot and creates the information for labeling the lines; and the second line adds the labels to the contours. Add these so we can include the numbers on the contours."
   ]
  },
  {
   "cell_type": "code",
   "execution_count": null,
   "id": "e3e47d1f-3b31-42c8-ba29-6f63abcc74b5",
   "metadata": {},
   "outputs": [],
   "source": []
  },
  {
   "cell_type": "markdown",
   "id": "5fe0ccc2-7181-459e-bee7-d1008d10ce82",
   "metadata": {},
   "source": [
    "Finally, we can find the values of x and y that maximize the function. We saw that ``np.max`` found the greatest value in our matrix, but what are the x and y values that correspond to this value? To do this we use ``np.argmax`` (change ``MatrixName`` in the code below as needed)"
   ]
  },
  {
   "cell_type": "code",
   "execution_count": null,
   "id": "4b54d4d4-fcfc-49b3-b0dc-a7f5ad648c45",
   "metadata": {},
   "outputs": [],
   "source": [
    "print(MatrixName.shape)\n",
    "print(np.argmax(MatrixName))\n",
    "print(np.unravel_index(np.argmax(MatrixName), MatrixName.shape))"
   ]
  },
  {
   "cell_type": "markdown",
   "id": "12bcb437-b028-445b-b1a7-349e36cb0fe1",
   "metadata": {},
   "source": [
    "Let's look at the output.\n",
    "- ``MatrixName.shape`` returns values that are the dimensions of the matrix.\n",
    "- ``np.argmax( )`` returns a single number. How can we make sense of that? Well, Python calls it a \"flattened matrix\", imagine a long list of numbers, instead of a matrix. Kind of useless.\n",
    "- ``np.unravel_index( , )`` is what we need! It tells us the row and the column that corresponds to the maximum.\n",
    "\n",
    "Now, remembering that the rows are ``y`` and the columns are ``x``. Use these indexes to find the x and y values that maximize the function."
   ]
  },
  {
   "cell_type": "code",
   "execution_count": null,
   "id": "c1b1bea2-4e3f-466c-9856-4182e702f7e0",
   "metadata": {},
   "outputs": [],
   "source": []
  },
  {
   "cell_type": "markdown",
   "id": "f1a4d44a-5418-4aab-b97b-ec47ef70be2f",
   "metadata": {},
   "source": [
    "Finally, we'd like to automate this so we don't have to read the numbers and translate:"
   ]
  },
  {
   "cell_type": "code",
   "execution_count": null,
   "id": "5da58a42-f0dd-4448-8627-ba354750f235",
   "metadata": {},
   "outputs": [],
   "source": [
    "maximum_index = np.unravel_index(np.argmax(MatrixName), MatrixName.shape)\n",
    "print(maximum_index[0], maximum_index[1])"
   ]
  },
  {
   "cell_type": "markdown",
   "id": "6191aa78-cfe4-48b3-b512-b6c7a66eb9e1",
   "metadata": {},
   "source": [
    "We can use this to create computer variables for the max index, and use them to print the values of x and y. All without having to change numbers on our part. Print the maximum values of x and y."
   ]
  },
  {
   "cell_type": "code",
   "execution_count": null,
   "id": "0eb69483-faf9-4c2c-9242-a990504953c9",
   "metadata": {},
   "outputs": [],
   "source": []
  },
  {
   "cell_type": "markdown",
   "id": "6fa6d20e-a300-4895-ba56-d1be3d81443d",
   "metadata": {},
   "source": [
    "Finally, what if we included a little star (or other shape) on our contour plot that tells us where the maximum value can be found. To do this, we include a ``plt.plot`` statement, e.g., ``plt.plot(1, 2, '*')`` will put a little star at the point (x=1, y=2). Try it!\n",
    "\n",
    "Ok, we don't want to place a star there. We want to place a star a the (x, y) that maximizes the function. Use your code to do so using indexes as above, without \"hard coding\" in any specific numbers."
   ]
  },
  {
   "cell_type": "code",
   "execution_count": null,
   "id": "25ee5a2d-baa7-42af-b79e-22bd03c38344",
   "metadata": {},
   "outputs": [],
   "source": []
  },
  {
   "cell_type": "markdown",
   "id": "872ec03c-14ca-456c-9e8a-664a407f0cf4",
   "metadata": {},
   "source": [
    "Collect the code you need to create a contour plot, with contours at 75%, 50%, 25% of the maximum value. Label the contours, and place a symbol (whatever your choice) at the location that corresponds to the maximum value."
   ]
  },
  {
   "cell_type": "code",
   "execution_count": null,
   "id": "dd3a7aeb-c4cb-462f-8152-b7fdf193b936",
   "metadata": {},
   "outputs": [],
   "source": []
  },
  {
   "cell_type": "markdown",
   "id": "24229010-6f9d-4af2-b58b-a79c5e9dfcf1",
   "metadata": {},
   "source": [
    "**When you are satisfied with your result,** copy your code into the submission notebook."
   ]
  },
  {
   "cell_type": "code",
   "execution_count": null,
   "id": "46980c1c-b801-48ec-8c53-6fd08b4b7f8a",
   "metadata": {},
   "outputs": [],
   "source": []
  }
 ],
 "metadata": {
  "kernelspec": {
   "display_name": "Python [conda env:base] *",
   "language": "python",
   "name": "conda-base-py"
  },
  "language_info": {
   "codemirror_mode": {
    "name": "ipython",
    "version": 3
   },
   "file_extension": ".py",
   "mimetype": "text/x-python",
   "name": "python",
   "nbconvert_exporter": "python",
   "pygments_lexer": "ipython3",
   "version": "3.12.7"
  }
 },
 "nbformat": 4,
 "nbformat_minor": 5
}
